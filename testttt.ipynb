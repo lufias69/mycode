{
 "cells": [
  {
   "cell_type": "code",
   "execution_count": 1,
   "metadata": {},
   "outputs": [],
   "source": [
    "from model.cnb import prediksi as cnb\n",
    "from model.gnb import prediksi as gnb\n",
    "import pandas as pd"
   ]
  },
  {
   "cell_type": "code",
   "execution_count": 2,
   "metadata": {},
   "outputs": [],
   "source": [
    "import sys\n",
    "sys.path.append('D:\\_OneDrive\\OneDrive - UGM 365\\Penelitian\\Koding\\model')\n",
    "import frekuensi_kata"
   ]
  },
  {
   "cell_type": "code",
   "execution_count": 4,
   "metadata": {},
   "outputs": [
    {
     "name": "stdout",
     "output_type": "stream",
     "text": [
      "Complement: spam\n",
      "Gaussian  : spam\n"
     ]
    }
   ],
   "source": [
    "kom = \"cicakgede\"\n",
    "print(\"Complement:\",cnb.prediksi_single(kom))\n",
    "print(\"Gaussian  :\",gnb.prediksi_single(kom))"
   ]
  },
  {
   "cell_type": "code",
   "execution_count": 5,
   "metadata": {},
   "outputs": [
    {
     "name": "stdout",
     "output_type": "stream",
     "text": [
      "cicakgede {'non spam': 1.351461777743925e-07, 'spam': 0.0}\n"
     ]
    }
   ],
   "source": [
    "for i in kom.split():\n",
    "    print(i,gnb.weight[i])"
   ]
  }
 ],
 "metadata": {
  "kernelspec": {
   "display_name": "Python 3",
   "language": "python",
   "name": "python3"
  },
  "language_info": {
   "codemirror_mode": {
    "name": "ipython",
    "version": 3
   },
   "file_extension": ".py",
   "mimetype": "text/x-python",
   "name": "python",
   "nbconvert_exporter": "python",
   "pygments_lexer": "ipython3",
   "version": "3.7.3"
  }
 },
 "nbformat": 4,
 "nbformat_minor": 2
}
