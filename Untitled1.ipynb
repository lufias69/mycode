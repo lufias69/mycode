{
 "cells": [
  {
   "cell_type": "code",
   "execution_count": 71,
   "metadata": {},
   "outputs": [],
   "source": [
    "from joblib import load\n",
    "import json\n",
    "import numpy as np"
   ]
  },
  {
   "cell_type": "code",
   "execution_count": 63,
   "metadata": {},
   "outputs": [],
   "source": [
    "model = load(\"model\\gnb\\GNB_MODEL_18.joblib\")\n",
    "filename = 'model/gnb/tfdf_model_18.joblib'\n",
    "tfidf = load(filename)"
   ]
  },
  {
   "cell_type": "code",
   "execution_count": 8,
   "metadata": {},
   "outputs": [],
   "source": [
    "# model.theta_[0]\n",
    "mGNB = model"
   ]
  },
  {
   "cell_type": "code",
   "execution_count": 67,
   "metadata": {},
   "outputs": [
    {
     "data": {
      "text/plain": [
       "array([[-1.26342506, -0.33223903]])"
      ]
     },
     "execution_count": 67,
     "metadata": {},
     "output_type": "execute_result"
    }
   ],
   "source": [
    "# tfidf.transform(['cicakgede']).toarray()\n",
    "model.predict_log_proba(tfidf.transform(['cicakgede']).toarray())"
   ]
  },
  {
   "cell_type": "code",
   "execution_count": 70,
   "metadata": {},
   "outputs": [
    {
     "name": "stdout",
     "output_type": "stream",
     "text": [
      "[0.81175395 0.18824605]\n",
      "['non spam' 'spam']\n"
     ]
    }
   ],
   "source": [
    "print(model.class_prior_)\n",
    "print(model.classes_)"
   ]
  },
  {
   "cell_type": "code",
   "execution_count": 78,
   "metadata": {},
   "outputs": [
    {
     "data": {
      "text/plain": [
       "0.8244965608895016"
      ]
     },
     "execution_count": 78,
     "metadata": {},
     "output_type": "execute_result"
    }
   ],
   "source": [
    "0.5*np.pi*0.008112198043843248+0.81175395"
   ]
  },
  {
   "cell_type": "code",
   "execution_count": 79,
   "metadata": {},
   "outputs": [
    {
     "data": {
      "text/plain": [
       "0.20096266383909794"
      ]
     },
     "execution_count": 79,
     "metadata": {},
     "output_type": "execute_result"
    }
   ],
   "source": [
    "0.5*np.pi*0.008095647807532972+0.18824605"
   ]
  },
  {
   "cell_type": "code",
   "execution_count": 17,
   "metadata": {},
   "outputs": [],
   "source": [
    "import sys\n",
    "sys.path.append('D:\\_OneDrive\\OneDrive - UGM 365\\Penelitian\\Koding\\model')\n",
    "import frekuensi_kata\n",
    "\n",
    "fitur = list()\n",
    "for i,j in frekuensi_kata.dict_fitur.items():\n",
    "    fitur.append(i)"
   ]
  },
  {
   "cell_type": "code",
   "execution_count": 23,
   "metadata": {},
   "outputs": [],
   "source": [
    "non_spam_gnb_s = list()\n",
    "spam_gnb_s = list()\n",
    "non_spam_gnb_t = list()\n",
    "spam_gnb_t = list()\n",
    "spam = list()\n",
    "non_spam = list()\n",
    "dict_gnb = dict()\n",
    "dict_gnb_ = dict()\n",
    "for ft, nspam_t, spam_t, nspam_s, spam_s in zip(fitur, mGNB.theta_[0],mGNB.theta_[1], mGNB.sigma_[0],mGNB.sigma_[1]):\n",
    "# for nspam_t, spam_t, nspam_s, spam_s in zip(mGNB.theta_[0],mGNB.theta_[1], mGNB.sigma_[0],mGNB.sigma_[1]):\n",
    "#     print(ft,format(nspam_t, '10f'),format(spam_t, '8f'))\n",
    "    non_spam_gnb_s.append(nspam_s)\n",
    "    spam_gnb_s.append(spam_s)\n",
    "    non_spam_gnb_t.append(nspam_t)\n",
    "    spam_gnb_t.append(spam_t)\n",
    "    \n",
    "    nsp = (nspam_t**2)/nspam_s\n",
    "    sp = (spam_t**2)/spam_s\n",
    "    non_spam.append(format(nsp, 'f'))\n",
    "    spam.append(format(sp, 'f'))\n",
    "    dict_gnb_.update({ft:{\"non spam\":nsp, 'spam':sp}})\n",
    "    dict_gnb.update({ft:{\"theta\":{\"non spam\":nspam_t, \"spam\":spam_t}, \"sigma\":{\"non spam\":nspam_s, \"spam\":spam_s}}})\n",
    "with open(\"model/gnb/bobot_gnb.json\", \"w\") as f:\n",
    "    json.dump(dict_gnb,f)\n",
    "with open(\"model/gnb/bobot_gnb3.json\", \"w\") as f:\n",
    "    json.dump(dict_gnb_,f)"
   ]
  },
  {
   "cell_type": "code",
   "execution_count": 43,
   "metadata": {},
   "outputs": [
    {
     "data": {
      "text/plain": [
       "{'non spam': 0.008112198043843248, 'spam': 0.008095647807532972}"
      ]
     },
     "execution_count": 43,
     "metadata": {},
     "output_type": "execute_result"
    }
   ],
   "source": [
    "dict_gnb[\"cicakgede\"]['sigma']"
   ]
  },
  {
   "cell_type": "code",
   "execution_count": 55,
   "metadata": {},
   "outputs": [
    {
     "data": {
      "text/plain": [
       "1.99"
      ]
     },
     "execution_count": 55,
     "metadata": {},
     "output_type": "execute_result"
    }
   ],
   "source": [
    "import numpy as np\n",
    "np.sum((2 - 0.1 ** 2)/1)"
   ]
  }
 ],
 "metadata": {
  "kernelspec": {
   "display_name": "Python 3",
   "language": "python",
   "name": "python3"
  },
  "language_info": {
   "codemirror_mode": {
    "name": "ipython",
    "version": 3
   },
   "file_extension": ".py",
   "mimetype": "text/x-python",
   "name": "python",
   "nbconvert_exporter": "python",
   "pygments_lexer": "ipython3",
   "version": "3.7.3"
  }
 },
 "nbformat": 4,
 "nbformat_minor": 2
}
