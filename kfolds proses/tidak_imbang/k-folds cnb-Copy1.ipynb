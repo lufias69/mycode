{
 "cells": [
  {
   "cell_type": "code",
   "execution_count": 12,
   "metadata": {},
   "outputs": [],
   "source": [
    "import joblib\n",
    "import numpy as np\n",
    "from sklearn.naive_bayes import GaussianNB\n",
    "from sklearn.naive_bayes import MultinomialNB\n",
    "from sklearn.naive_bayes import ComplementNB\n",
    "import random"
   ]
  },
  {
   "cell_type": "code",
   "execution_count": 2,
   "metadata": {},
   "outputs": [],
   "source": [
    "md = joblib.load(\"imbang_data.dt\")"
   ]
  },
  {
   "cell_type": "code",
   "execution_count": 3,
   "metadata": {},
   "outputs": [],
   "source": [
    "from itertools import islice, chain\n",
    "\n",
    "# def batches(iterable, size):\n",
    "#     sourceiter = iter(iterable)\n",
    "#     while True:\n",
    "#         batchiter = islice(sourceiter, size)\n",
    "#         yield chain([batchiter.__next__()], batchiter) #__next__\n",
    "def batches(my_list, n):\n",
    "    final = [my_list[i * n:(i + 1) * n] for i in range((len(my_list) + n - 1) // n )]\n",
    "    return final\n",
    "# batches(my_list, 5)"
   ]
  },
  {
   "cell_type": "code",
   "execution_count": 4,
   "metadata": {},
   "outputs": [],
   "source": [
    "# my_list = [1,2,3,4,5,6,7,8,9,10,11,12,13,14]\n",
    "# n = 4   \n",
    "# # using list comprehension \n",
    "# final = [my_list[i * n:(i + 1) * n] for i in range((len(my_list) + n - 1) // n )]  \n",
    "# print (final) "
   ]
  },
  {
   "cell_type": "code",
   "execution_count": null,
   "metadata": {},
   "outputs": [],
   "source": []
  },
  {
   "cell_type": "code",
   "execution_count": null,
   "metadata": {},
   "outputs": [],
   "source": []
  },
  {
   "cell_type": "code",
   "execution_count": 5,
   "metadata": {},
   "outputs": [],
   "source": [
    "#     \"model_tf_idf\":model_tf_idf,\n",
    "#     \"model_tf\":model_tf,\n",
    "#     \"model_bin\":model_bin "
   ]
  },
  {
   "cell_type": "code",
   "execution_count": 6,
   "metadata": {},
   "outputs": [],
   "source": [
    "# md[\"model_tf_idf\"][0][\"train\"]\n",
    "# md[\"model_tf\"][0][\"train\"]\n",
    "# md[\"model_bin\"][0][\"train\"]"
   ]
  },
  {
   "cell_type": "code",
   "execution_count": null,
   "metadata": {},
   "outputs": [],
   "source": []
  },
  {
   "cell_type": "code",
   "execution_count": 7,
   "metadata": {},
   "outputs": [],
   "source": [
    "# for batch in batches(np.arange(d.shape[0]), 1000):\n",
    "#     print(d[batch])\n",
    "#     print(d[batch].shape)"
   ]
  },
  {
   "cell_type": "code",
   "execution_count": 8,
   "metadata": {},
   "outputs": [],
   "source": [
    "# X = md[\"model_tf_idf\"][i][\"train\"]"
   ]
  },
  {
   "cell_type": "code",
   "execution_count": 9,
   "metadata": {},
   "outputs": [
    {
     "name": "stdout",
     "output_type": "stream",
     "text": [
      "..................18\n",
      "..................18\n",
      "..................18\n",
      "0...................18\n",
      "..................18\n",
      "..................18\n",
      "1...................18\n",
      "..................18\n",
      "..................18\n",
      "2...................18\n",
      "..................18\n",
      "..................18\n",
      "3...................18\n",
      "..................18\n",
      "..................18\n",
      "4...................18\n",
      "..................18\n",
      "..................18\n",
      "5...................18\n",
      "..................18\n",
      "..................18\n",
      "6...................18\n",
      "..................18\n",
      "..................18\n",
      "7...................18\n",
      "..................18\n",
      "..................18\n",
      "8...................18\n",
      "..................18\n",
      "..................18\n",
      "9."
     ]
    },
    {
     "data": {
      "text/plain": [
       "['imbang/MultinomialNB.m']"
      ]
     },
     "execution_count": 9,
     "metadata": {},
     "output_type": "execute_result"
    }
   ],
   "source": [
    "\n",
    "model_gauss_tfidf = list()\n",
    "model_gauss_tf = list()\n",
    "model_gauss_bin = list()\n",
    "for i in range(10):\n",
    "    X = md[\"model_tf_idf\"][i][\"train\"]#.toarray()\n",
    "    Y = np.array(md[\"model_tf_idf\"][i][\"y_train\"])\n",
    "    clf_pf = MultinomialNB()\n",
    "    ix = 0\n",
    "    \n",
    "    model_gauss_tfidf.append(clf_pf)\n",
    "    print(ix)\n",
    "    ix = 0\n",
    "    \n",
    "    X = md[\"model_tf\"][i][\"train\"]#.toarray()\n",
    "    Y = np.array(md[\"model_tf\"][i][\"y_train\"])\n",
    "    clf_pf = MultinomialNB()\n",
    "    for batch in batches(np.arange(X.shape[0]), 1000):\n",
    "        print(\".\", end=\"\")\n",
    "        ix+=1\n",
    "        clf_pf.partial_fit(X[batch].A, Y[batch], np.unique(Y))\n",
    "    model_gauss_tf.append(clf_pf)\n",
    "    print(ix)\n",
    "    ix = 0\n",
    "    \n",
    "    X = md[\"model_bin\"][i][\"train\"]#.toarray()\n",
    "    Y = np.array(md[\"model_bin\"][i][\"y_train\"])\n",
    "    clf_pf = MultinomialNB()\n",
    "    for batch in batches(np.arange(X.shape[0]), 1000):\n",
    "        print(\".\", end=\"\")\n",
    "        ix+=1\n",
    "        clf_pf.partial_fit(X[batch].A, Y[batch], np.unique(Y))\n",
    "    model_gauss_bin.append(clf_pf)\n",
    "    print(ix)\n",
    "    ix = 0\n",
    "    print(i, end=\".\")\n",
    "    \n",
    "dft = {\n",
    "    \"tfidf\":model_gauss_tfidf,\n",
    "    \"tf\":model_gauss_tf,\n",
    "    'bin':model_gauss_bin \n",
    "}\n",
    "joblib.dump(dft, \"imbang/MultinomialNB.m\")"
   ]
  },
  {
   "cell_type": "code",
   "execution_count": null,
   "metadata": {},
   "outputs": [],
   "source": []
  },
  {
   "cell_type": "code",
   "execution_count": null,
   "metadata": {},
   "outputs": [],
   "source": []
  },
  {
   "cell_type": "code",
   "execution_count": 10,
   "metadata": {},
   "outputs": [
    {
     "name": "stdout",
     "output_type": "stream",
     "text": [
      "..................18\n",
      "..................18\n",
      "..................18\n",
      "0...................18\n",
      "..................18\n",
      "..................18\n",
      "1...................18\n",
      "..................18\n",
      "..................18\n",
      "2...................18\n",
      "..................18\n",
      "..................18\n",
      "3...................18\n",
      "..................18\n",
      "..................18\n",
      "4...................18\n",
      "..................18\n",
      "..................18\n",
      "5...................18\n",
      "..................18\n",
      "..................18\n",
      "6...................18\n",
      "..................18\n",
      "..................18\n",
      "7...................18\n",
      "..................18\n",
      "..................18\n",
      "8...................18\n",
      "..................18\n",
      "..................18\n",
      "9."
     ]
    },
    {
     "data": {
      "text/plain": [
       "['imbang/ComplementNB.m']"
      ]
     },
     "execution_count": 10,
     "metadata": {},
     "output_type": "execute_result"
    }
   ],
   "source": [
    "\n",
    "model_gauss_tfidf = list()\n",
    "model_gauss_tf = list()\n",
    "model_gauss_bin = list()\n",
    "for i in range(10):\n",
    "    X = md[\"model_tf_idf\"][i][\"train\"]#.toarray()\n",
    "    Y = np.array(md[\"model_tf_idf\"][i][\"y_train\"])\n",
    "    clf_pf = ComplementNB()\n",
    "    ix = 0\n",
    "    for batch in batches(np.arange(X.shape[0]), 1000):\n",
    "        print(\".\", end=\"\")\n",
    "        ix+=1\n",
    "        clf_pf.partial_fit(X[batch].A, Y[batch], np.unique(Y))\n",
    "    model_gauss_tfidf.append(clf_pf)\n",
    "    print(ix)\n",
    "    ix = 0\n",
    "    \n",
    "    X = md[\"model_tf\"][i][\"train\"]#.toarray()\n",
    "    Y = np.array(md[\"model_tf\"][i][\"y_train\"])\n",
    "    clf_pf = ComplementNB()\n",
    "    for batch in batches(np.arange(X.shape[0]), 1000):\n",
    "        print(\".\", end=\"\")\n",
    "        ix+=1\n",
    "        clf_pf.partial_fit(X[batch].A, Y[batch], np.unique(Y))\n",
    "    model_gauss_tf.append(clf_pf)\n",
    "    print(ix)\n",
    "    ix = 0\n",
    "    \n",
    "    X = md[\"model_bin\"][i][\"train\"]#.toarray()\n",
    "    Y = np.array(md[\"model_bin\"][i][\"y_train\"])\n",
    "    clf_pf = ComplementNB()\n",
    "    for batch in batches(np.arange(X.shape[0]), 1000):\n",
    "        print(\".\", end=\"\")\n",
    "        ix+=1\n",
    "        clf_pf.partial_fit(X[batch].A, Y[batch], np.unique(Y))\n",
    "    model_gauss_bin.append(clf_pf)\n",
    "    print(ix)\n",
    "    ix = 0\n",
    "    print(i, end=\".\")\n",
    "    \n",
    "dft = {\n",
    "    \"tfidf\":model_gauss_tfidf,\n",
    "    \"tf\":model_gauss_tf,\n",
    "    'bin':model_gauss_bin \n",
    "}\n",
    "joblib.dump(dft, \"imbang/ComplementNB.m\")"
   ]
  },
  {
   "cell_type": "code",
   "execution_count": null,
   "metadata": {},
   "outputs": [],
   "source": []
  },
  {
   "cell_type": "code",
   "execution_count": 11,
   "metadata": {},
   "outputs": [
    {
     "name": "stdout",
     "output_type": "stream",
     "text": [
      "..................18\n",
      "..................18\n",
      "..................18\n",
      "0...................18\n",
      "..................18\n",
      "..................18\n",
      "1...................18\n",
      "..................18\n",
      "..................18\n",
      "2...................18\n",
      "..................18\n",
      "..................18\n",
      "3...................18\n",
      "..................18\n",
      "..................18\n",
      "4...................18\n",
      "..................18\n",
      "..................18\n",
      "5...................18\n",
      "..................18\n",
      "..................18\n",
      "6...................18\n",
      "..................18\n",
      "..................18\n",
      "7...................18\n",
      "..................18\n",
      "..................18\n",
      "8...................18\n",
      "..................18\n",
      "..................18\n",
      "9."
     ]
    },
    {
     "data": {
      "text/plain": [
       "['imbang/GaussianNB.m']"
      ]
     },
     "execution_count": 11,
     "metadata": {},
     "output_type": "execute_result"
    }
   ],
   "source": [
    "\n",
    "model_gauss_tfidf = list()\n",
    "model_gauss_tf = list()\n",
    "model_gauss_bin = list()\n",
    "for i in range(10):\n",
    "    X = md[\"model_tf_idf\"][i][\"train\"]#.toarray()\n",
    "    Y = np.array(md[\"model_tf_idf\"][i][\"y_train\"])\n",
    "    clf_pf = GaussianNB()\n",
    "    ix = 0\n",
    "    for batch in batches(np.arange(X.shape[0]), 1000):\n",
    "        print(\".\", end=\"\")\n",
    "        ix+=1\n",
    "        clf_pf.partial_fit(X[batch].A, Y[batch], np.unique(Y))\n",
    "    model_gauss_tfidf.append(clf_pf)\n",
    "    print(ix)\n",
    "    ix = 0\n",
    "    \n",
    "    X = md[\"model_tf\"][i][\"train\"]#.toarray()\n",
    "    Y = np.array(md[\"model_tf\"][i][\"y_train\"])\n",
    "    clf_pf = GaussianNB()\n",
    "    for batch in batches(np.arange(X.shape[0]), 1000):\n",
    "        print(\".\", end=\"\")\n",
    "        ix+=1\n",
    "        clf_pf.partial_fit(X[batch].A, Y[batch], np.unique(Y))\n",
    "    model_gauss_tf.append(clf_pf)\n",
    "    print(ix)\n",
    "    ix = 0\n",
    "    \n",
    "    X = md[\"model_bin\"][i][\"train\"]#.toarray()\n",
    "    Y = np.array(md[\"model_bin\"][i][\"y_train\"])\n",
    "    clf_pf = GaussianNB()\n",
    "    for batch in batches(np.arange(X.shape[0]), 1000):\n",
    "        print(\".\", end=\"\")\n",
    "        ix+=1\n",
    "        clf_pf.partial_fit(X[batch].A, Y[batch], np.unique(Y))\n",
    "    model_gauss_bin.append(clf_pf)\n",
    "    print(ix)\n",
    "    ix = 0\n",
    "    print(i, end=\".\")\n",
    "    \n",
    "dft = {\n",
    "    \"tfidf\":model_gauss_tfidf,\n",
    "    \"tf\":model_gauss_tf,\n",
    "    'bin':model_gauss_bin \n",
    "}\n",
    "joblib.dump(dft, \"imbang/GaussianNB.m\")"
   ]
  },
  {
   "cell_type": "code",
   "execution_count": null,
   "metadata": {},
   "outputs": [],
   "source": [
    "# # clf2 = SGDClassifier(loss='log') # shuffle=True is useless here\n",
    "# shuffledRange = range(len(X))\n",
    "# import random\n",
    "# n_iter = 100\n",
    "# for n in range(n_iter):\n",
    "#     random.shuffle(shuffledRange)\n",
    "#     shuffledX = [X[i] for i in shuffledRange]\n",
    "#     shuffledY = [Y[i] for i in shuffledRange]\n",
    "#     for batch in batches(range(len(shuffledX)), 10000):\n",
    "#         clf_pf.partial_fit(shuffledX[batch[0]:batch[-1]+1], shuffledY[batch[0]:batch[-1]+1], numpy.unique(Y))"
   ]
  },
  {
   "cell_type": "code",
   "execution_count": 24,
   "metadata": {},
   "outputs": [
    {
     "data": {
      "text/plain": [
       "(59643, 54587)"
      ]
     },
     "execution_count": 24,
     "metadata": {},
     "output_type": "execute_result"
    }
   ],
   "source": [
    "# md[\"model_tf_idf\"][9][\"train\"].shape[0]"
   ]
  },
  {
   "cell_type": "code",
   "execution_count": 113,
   "metadata": {},
   "outputs": [],
   "source": [
    "# import batches\n",
    "# batches(1,100)"
   ]
  },
  {
   "cell_type": "code",
   "execution_count": null,
   "metadata": {},
   "outputs": [],
   "source": []
  }
 ],
 "metadata": {
  "kernelspec": {
   "display_name": "Python 3",
   "language": "python",
   "name": "python3"
  },
  "language_info": {
   "codemirror_mode": {
    "name": "ipython",
    "version": 3
   },
   "file_extension": ".py",
   "mimetype": "text/x-python",
   "name": "python",
   "nbconvert_exporter": "python",
   "pygments_lexer": "ipython3",
   "version": "3.7.3"
  }
 },
 "nbformat": 4,
 "nbformat_minor": 2
}
