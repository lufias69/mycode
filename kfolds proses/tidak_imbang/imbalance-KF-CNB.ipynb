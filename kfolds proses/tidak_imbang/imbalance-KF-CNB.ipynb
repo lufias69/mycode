{
 "cells": [
  {
   "cell_type": "code",
   "execution_count": 1,
   "metadata": {},
   "outputs": [],
   "source": [
    "import joblib\n",
    "import numpy as np\n",
    "from sklearn.naive_bayes import GaussianNB\n",
    "from sklearn.naive_bayes import MultinomialNB\n",
    "from sklearn.naive_bayes import ComplementNB\n",
    "import random"
   ]
  },
  {
   "cell_type": "code",
   "execution_count": 2,
   "metadata": {},
   "outputs": [],
   "source": [
    "def batches(my_list, n):\n",
    "    final = [my_list[i * n:(i + 1) * n] for i in range((len(my_list) + n - 1) // n )]\n",
    "    return final"
   ]
  },
  {
   "cell_type": "code",
   "execution_count": 3,
   "metadata": {},
   "outputs": [],
   "source": [
    "md = joblib.load(\"data.dt\")"
   ]
  },
  {
   "cell_type": "code",
   "execution_count": 26,
   "metadata": {},
   "outputs": [
    {
     "data": {
      "text/plain": [
       "array([20.5, 21. , 21.5, 22. , 22.5, 23. , 23.5, 24. , 24.5, 25. ])"
      ]
     },
     "execution_count": 26,
     "metadata": {},
     "output_type": "execute_result"
    }
   ],
   "source": [
    "list_alpha = np.arange(20.5, 25+0.5, 0.5)\n",
    "list_alpha"
   ]
  },
  {
   "cell_type": "code",
   "execution_count": 14,
   "metadata": {},
   "outputs": [
    {
     "name": "stdout",
     "output_type": "stream",
     "text": [
      "3.5 0.9481282769518025\n",
      "4.0 0.948007613301727\n",
      "4.5 0.9475551246139442\n",
      "5.0 0.9472082166199775\n",
      "5.5 0.9468210874093188\n",
      "6.0 0.9465797601091678\n",
      "6.5 0.9465043453278706\n",
      "7.0 0.9462328521152011\n",
      "7.5 0.9460367736838284\n",
      "8.0 0.9457300869065536\n",
      "8.5 0.9452926811750301\n",
      "9.0 0.9448251095309879\n",
      "9.5 0.9444932844932804\n",
      "10.0 0.9442217912806108\n",
      "\n",
      "3.5 0.9481282769518025\n",
      "4.0 0.948007613301727\n",
      "4.5 0.9475551246139442\n",
      "5.0 0.9472082166199775\n",
      "5.5 0.9468210874093188\n",
      "6.0 0.9465797601091678\n",
      "6.5 0.9465043453278706\n",
      "7.0 0.9462328521152011\n",
      "7.5 0.9460367736838284\n",
      "8.0 0.9457300869065536\n",
      "8.5 0.9452926811750301\n",
      "9.0 0.9448251095309879\n",
      "9.5 0.9444932844932804\n",
      "10.0 0.9442217912806108\n",
      "alpha : 3.5\n"
     ]
    }
   ],
   "source": [
    "# accc = list()\n",
    "\n",
    "# for alp in list_alpha:\n",
    "#     lis_sc = list()\n",
    "#     for i in range(10):\n",
    "#         X = md[\"model_tf_idf\"][i][\"train\"]#.toarray()\n",
    "#         Y = np.array(md[\"model_tf_idf\"][i][\"y_train\"])\n",
    "#         clf_pf = ComplementNB(alpha = alp)\n",
    "#         for batch in batches(np.arange(X.shape[0]), 1000):\n",
    "#             clf_pf.partial_fit(X[batch].A, Y[batch], np.unique(Y))\n",
    "# #             clf_pf.fit(X, Y)\n",
    "#         lisskor_batch = list()\n",
    "#         for batch in batches(np.arange(md[\"model_tf_idf\"][i][\"test\"].shape[0]), 10):\n",
    "#             sc = clf_pf.score(md[\"model_tf_idf\"][i][\"test\"][batch].A, np.array(md[\"model_tf_idf\"][i][\"y_test\"])[batch])\n",
    "#             lisskor_batch.append(sc)\n",
    "#         lis_sc.append(sum(lisskor_batch)/len(lisskor_batch))\n",
    "#     accc.append(sum(lis_sc)/len(lis_sc))\n",
    "#     print(alp, sum(lis_sc)/len(lis_sc))\n",
    "# print(\"\")\n",
    "# for i, j in zip(list_alpha, accc):\n",
    "#     print(i, j)\n",
    "# print(\"alpha :\",list_alpha[accc.index(max(accc))])"
   ]
  },
  {
   "cell_type": "code",
   "execution_count": null,
   "metadata": {},
   "outputs": [],
   "source": []
  },
  {
   "cell_type": "code",
   "execution_count": null,
   "metadata": {},
   "outputs": [],
   "source": [
    "accc = list()\n",
    "# list_alpha = np.arange(0.01, 5+0.1, 0.1)\n",
    "for alp in list_alpha:\n",
    "    lis_sc = list()\n",
    "    for i in range(10):\n",
    "        X = md[\"model_tf\"][i][\"train\"]#.toarray()\n",
    "        Y = np.array(md[\"model_tf\"][i][\"y_train\"])\n",
    "        clf_pf = ComplementNB(alpha = alp)\n",
    "        for batch in batches(np.arange(X.shape[0]), 1000):\n",
    "            clf_pf.partial_fit(X[batch].A, Y[batch], np.unique(Y))\n",
    "#             clf_pf.fit(X, Y)\n",
    "        lisskor_batch = list()\n",
    "        for batch in batches(np.arange(md[\"model_tf_idf\"][i][\"test\"].shape[0]), 10):\n",
    "            sc = clf_pf.score(md[\"model_tf_idf\"][i][\"test\"][batch].A, np.array(md[\"model_tf_idf\"][i][\"y_test\"])[batch])\n",
    "            lisskor_batch.append(sc)\n",
    "        lis_sc.append(sum(lisskor_batch)/len(lisskor_batch))\n",
    "    accc.append(sum(lis_sc)/len(lis_sc))\n",
    "    print(alp, sum(lis_sc)/len(lis_sc))\n",
    "print(\"\")\n",
    "for i, j in zip(list_alpha, accc):\n",
    "    print(i, j)\n",
    "print(\"alpha :\",list_alpha[accc.index(max(accc))])"
   ]
  },
  {
   "cell_type": "code",
   "execution_count": null,
   "metadata": {},
   "outputs": [],
   "source": []
  },
  {
   "cell_type": "code",
   "execution_count": null,
   "metadata": {},
   "outputs": [],
   "source": [
    "accc = list()\n",
    "# list_alpha = np.arange(0.01, 5+0.1, 0.1)\n",
    "for alp in list_alpha:\n",
    "    lis_sc = list()\n",
    "    for i in range(10):\n",
    "        X = md[\"model_bin\"][i][\"train\"]#.toarray()\n",
    "        Y = np.array(md[\"model_bin\"][i][\"y_train\"])\n",
    "        clf_pf = ComplementNB(alpha = alp)\n",
    "        for batch in batches(np.arange(X.shape[0]), 1000):\n",
    "            clf_pf.partial_fit(X[batch].A, Y[batch], np.unique(Y))\n",
    "#             clf_pf.fit(X, Y)\n",
    "        lisskor_batch = list()\n",
    "        for batch in batches(np.arange(md[\"model_tf_idf\"][i][\"test\"].shape[0]), 10):\n",
    "            sc = clf_pf.score(md[\"model_tf_idf\"][i][\"test\"][batch].A, np.array(md[\"model_tf_idf\"][i][\"y_test\"])[batch])\n",
    "            lisskor_batch.append(sc)\n",
    "        lis_sc.append(sum(lisskor_batch)/len(lisskor_batch))\n",
    "    accc.append(sum(lis_sc)/len(lis_sc))\n",
    "    print(alp, sum(lis_sc)/len(lis_sc))\n",
    "print(\"\")\n",
    "for i, j in zip(list_alpha, accc):\n",
    "    print(i, j)\n",
    "print(\"alpha :\",list_alpha[accc.index(max(accc))])"
   ]
  },
  {
   "cell_type": "code",
   "execution_count": null,
   "metadata": {},
   "outputs": [],
   "source": []
  },
  {
   "cell_type": "code",
   "execution_count": null,
   "metadata": {},
   "outputs": [],
   "source": []
  }
 ],
 "metadata": {
  "kernelspec": {
   "display_name": "Python 3",
   "language": "python",
   "name": "python3"
  },
  "language_info": {
   "codemirror_mode": {
    "name": "ipython",
    "version": 3
   },
   "file_extension": ".py",
   "mimetype": "text/x-python",
   "name": "python",
   "nbconvert_exporter": "python",
   "pygments_lexer": "ipython3",
   "version": "3.7.3"
  }
 },
 "nbformat": 4,
 "nbformat_minor": 2
}
