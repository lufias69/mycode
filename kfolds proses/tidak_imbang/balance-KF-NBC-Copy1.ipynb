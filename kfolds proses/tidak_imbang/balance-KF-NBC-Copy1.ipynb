{
 "cells": [
  {
   "cell_type": "code",
   "execution_count": 1,
   "metadata": {},
   "outputs": [],
   "source": [
    "import joblib\n",
    "import numpy as np\n",
    "from Naive_Bayes import naive_bayes as nb\n",
    "import random\n",
    "import pandas as pd\n",
    "from scipy import sparse"
   ]
  },
  {
   "cell_type": "code",
   "execution_count": 2,
   "metadata": {},
   "outputs": [],
   "source": [
    "def batches(my_list, n):\n",
    "    final = [my_list[i * n:(i + 1) * n] for i in range((len(my_list) + n - 1) // n )]\n",
    "    return np.array(final)"
   ]
  },
  {
   "cell_type": "code",
   "execution_count": 3,
   "metadata": {},
   "outputs": [
    {
     "data": {
      "text/html": [
       "<div>\n",
       "<style scoped>\n",
       "    .dataframe tbody tr th:only-of-type {\n",
       "        vertical-align: middle;\n",
       "    }\n",
       "\n",
       "    .dataframe tbody tr th {\n",
       "        vertical-align: top;\n",
       "    }\n",
       "\n",
       "    .dataframe thead th {\n",
       "        text-align: right;\n",
       "    }\n",
       "</style>\n",
       "<table border=\"1\" class=\"dataframe\">\n",
       "  <thead>\n",
       "    <tr style=\"text-align: right;\">\n",
       "      <th></th>\n",
       "      <th>index</th>\n",
       "      <th>no</th>\n",
       "      <th>label</th>\n",
       "      <th>komentar</th>\n",
       "    </tr>\n",
       "  </thead>\n",
       "  <tbody>\n",
       "    <tr>\n",
       "      <th>19409</th>\n",
       "      <td>54113</td>\n",
       "      <td>19410</td>\n",
       "      <td>spam</td>\n",
       "      <td>yuk bantu like foto baby amira instagram model...</td>\n",
       "    </tr>\n",
       "    <tr>\n",
       "      <th>19410</th>\n",
       "      <td>2769</td>\n",
       "      <td>19411</td>\n",
       "      <td>non spam</td>\n",
       "      <td>baru sadar pas bicara deadpool</td>\n",
       "    </tr>\n",
       "    <tr>\n",
       "      <th>19411</th>\n",
       "      <td>8815</td>\n",
       "      <td>19412</td>\n",
       "      <td>non spam</td>\n",
       "      <td>banyak reviuw rumah pandu mah malah jd acara p...</td>\n",
       "    </tr>\n",
       "    <tr>\n",
       "      <th>19412</th>\n",
       "      <td>53090</td>\n",
       "      <td>19413</td>\n",
       "      <td>spam</td>\n",
       "      <td>keren banget produk darll dokter zhafira alat ...</td>\n",
       "    </tr>\n",
       "    <tr>\n",
       "      <th>19413</th>\n",
       "      <td>65955</td>\n",
       "      <td>19414</td>\n",
       "      <td>spam</td>\n",
       "      <td>guys tugas kalian promosi sana promosi sini aj...</td>\n",
       "    </tr>\n",
       "  </tbody>\n",
       "</table>\n",
       "</div>"
      ],
      "text/plain": [
       "       index     no     label  \\\n",
       "19409  54113  19410      spam   \n",
       "19410   2769  19411  non spam   \n",
       "19411   8815  19412  non spam   \n",
       "19412  53090  19413      spam   \n",
       "19413  65955  19414      spam   \n",
       "\n",
       "                                                komentar  \n",
       "19409  yuk bantu like foto baby amira instagram model...  \n",
       "19410                     baru sadar pas bicara deadpool  \n",
       "19411  banyak reviuw rumah pandu mah malah jd acara p...  \n",
       "19412  keren banget produk darll dokter zhafira alat ...  \n",
       "19413  guys tugas kalian promosi sana promosi sini aj...  "
      ]
     },
     "execution_count": 3,
     "metadata": {},
     "output_type": "execute_result"
    }
   ],
   "source": [
    "data_ = pd.read_excel(\"../../data_latih/hasil_seleksi_New3.xlsx\", sheet_name = \"imbang\")\n",
    "komentar = data_['komentar'].tolist()\n",
    "label = data_['label'].tolist()\n",
    "data_.tail()"
   ]
  },
  {
   "cell_type": "code",
   "execution_count": 4,
   "metadata": {},
   "outputs": [
    {
     "name": "stdout",
     "output_type": "stream",
     "text": [
      "StratifiedKFold(n_splits=10, random_state=None, shuffle=False)\n"
     ]
    }
   ],
   "source": [
    "import numpy as np\n",
    "from sklearn.model_selection import StratifiedKFold\n",
    "X = np.array(komentar)\n",
    "y = np.array(label)\n",
    "skf = StratifiedKFold(n_splits=10)\n",
    "skf.get_n_splits(X, y)\n",
    "print(skf)\n",
    "\n",
    "X_train_list = list()\n",
    "y_train_list = list()\n",
    "\n",
    "X_test_list = list()\n",
    "y_test_list = list()\n",
    "\n",
    "for train_index, test_index in skf.split(X, y):\n",
    "    X_train, X_test = X[train_index], X[test_index]\n",
    "    y_train, y_test = y[train_index], y[test_index]\n",
    "    X_train_list.append(X_train)\n",
    "    y_train_list.append(y_train)\n",
    "    \n",
    "    X_test_list.append(X_test)\n",
    "    y_test_list.append(y_test)"
   ]
  },
  {
   "cell_type": "code",
   "execution_count": 5,
   "metadata": {},
   "outputs": [],
   "source": [
    "del komentar\n",
    "del label\n",
    "del data_"
   ]
  },
  {
   "cell_type": "code",
   "execution_count": 6,
   "metadata": {},
   "outputs": [],
   "source": [
    "model_list=list()\n",
    "for X_, y_ in zip(X_train_list, y_train_list):\n",
    "    model = nb.NaiveBayesClassifier()\n",
    "    model.train(X_, y_)\n",
    "    model_list.append(model)\n",
    "    \n",
    "del X_train_list\n",
    "del y_train_list"
   ]
  },
  {
   "cell_type": "code",
   "execution_count": 11,
   "metadata": {},
   "outputs": [
    {
     "data": {
      "text/plain": [
       "array([0.1, 0.2, 0.3, 0.4, 0.5, 0.6, 0.7, 0.8, 0.9])"
      ]
     },
     "execution_count": 11,
     "metadata": {},
     "output_type": "execute_result"
    }
   ],
   "source": [
    "alpha_list = np.arange(1, 2+ 0.1, 0.1)\n",
    "alpha_list = np.arange(0.1, 0.9+ 0.1,0.1)\n",
    "alpha_list"
   ]
  },
  {
   "cell_type": "code",
   "execution_count": 12,
   "metadata": {},
   "outputs": [
    {
     "name": "stdout",
     "output_type": "stream",
     "text": [
      "-.-.-.-.-.-.-.-.-.-.\n",
      "0.1 ; 0.8236738038593716\n",
      "\n",
      "-.-.-.-.-.-.-.-.-.-.\n",
      "0.2 ; 0.825010044937881\n",
      "\n",
      "-.-.-.-.-.-.-.-.-.-.\n",
      "0.30000000000000004 ; 0.8240853819719808\n",
      "\n",
      "-.-.-.-.-.-.-.-.-.-.\n",
      "0.4 ; 0.8233666402326204\n",
      "\n",
      "-.-.-.-.-.-.-.-.-.-.\n",
      "0.5 ; 0.8217747819191127\n",
      "\n",
      "-.-.-.-.-.-.-.-.-.-.\n",
      "0.6 ; 0.8214144858577856\n",
      "\n",
      "-.-.-.-.-.-.-.-.-.-.\n",
      "0.7000000000000001 ; 0.8204903515728267\n",
      "\n",
      "-.-.-.-.-.-.-.-.-.-.\n",
      "0.8 ; 0.820337827121333\n",
      "\n",
      "-.-.-.-.-.-.-.-.-.-.\n",
      "0.9 ; 0.8196706317737255\n",
      "\n",
      "\n",
      "0.1 ; 0.8236738038593716\n",
      "0.2 ; 0.825010044937881\n",
      "0.30000000000000004 ; 0.8240853819719808\n",
      "0.4 ; 0.8233666402326204\n",
      "0.5 ; 0.8217747819191127\n",
      "0.6 ; 0.8214144858577856\n",
      "0.7000000000000001 ; 0.8204903515728267\n",
      "0.8 ; 0.820337827121333\n",
      "0.9 ; 0.8196706317737255\n"
     ]
    }
   ],
   "source": [
    "from sklearn.metrics import accuracy_score\n",
    "skor_list = list()\n",
    "for alpha in alpha_list:\n",
    "    skor_list_temp = list()\n",
    "    for i in range(10):\n",
    "        print(\"-\", end=\"\")\n",
    "        model = model_list[i]\n",
    "        model.alpha = alpha\n",
    "        \n",
    "#         y_pred = model.predict_(X_test_list[i])\n",
    "#         y_true = y_test_list[i]\n",
    "        sc_temp = list()\n",
    "        for X, y_true in zip(batches(X_test_list[i], 10), batches(y_test_list[i], 10)):\n",
    "            y_pred = model.predict_(X)\n",
    "#             y_true = y\n",
    "            sc_temp.append(accuracy_score(y_true, y_pred))\n",
    "        skor_list_temp.append(sum(sc_temp)/len(sc_temp)) \n",
    "        print(\".\", end=\"\")\n",
    "        \n",
    "    skor_list.append(sum(skor_list_temp)/len(skor_list_temp))\n",
    "    print(\"\")\n",
    "    print(alpha,\";\", sum(skor_list_temp)/len(skor_list_temp))\n",
    "    print(\"\")\n",
    "print(\"\")    \n",
    "for i, j in zip(alpha_list, skor_list):\n",
    "    print(i,\";\",j)"
   ]
  },
  {
   "cell_type": "code",
   "execution_count": null,
   "metadata": {},
   "outputs": [],
   "source": [
    "0.1 ; 0.8236738038593716\n",
    "0.2 ; 0.825010044937881\n",
    "0.30000000000000004 ; 0.8240853819719808\n",
    "0.4 ; 0.8233666402326204\n",
    "0.5 ; 0.8217747819191127\n",
    "0.6 ; 0.8214144858577856\n",
    "0.7000000000000001 ; 0.8204903515728267\n",
    "0.8 ; 0.820337827121333\n",
    "0.9 ; 0.8196706317737255\n",
    "1.0 ; 0.819156753899023\n",
    "2.0 ; 0.8146381178958506\n",
    "3.0 ; 0.8122241607190068\n",
    "4.0 ; 0.8100155960877616\n",
    "5.0 ; 0.807601638910918\n",
    "6.0 ; 0.8057010309278357\n",
    "7.0 ; 0.8035445413692843\n",
    "8.0 ; 0.8023119217552214\n",
    "9.0 ; 0.8011305841924404\n",
    "10.0 ; 0.7999994713190596\n",
    "\n"
   ]
  },
  {
   "cell_type": "code",
   "execution_count": null,
   "metadata": {},
   "outputs": [],
   "source": []
  },
  {
   "cell_type": "code",
   "execution_count": null,
   "metadata": {},
   "outputs": [],
   "source": []
  },
  {
   "cell_type": "code",
   "execution_count": 2,
   "metadata": {},
   "outputs": [],
   "source": [
    "# def batches(my_list, n):\n",
    "#     final = [my_list[i * n:(i + 1) * n] for i in range((len(my_list) + n - 1) // n )]\n",
    "#     return final"
   ]
  },
  {
   "cell_type": "code",
   "execution_count": 3,
   "metadata": {},
   "outputs": [],
   "source": [
    "# md = joblib.load(\"data.dt\")"
   ]
  },
  {
   "cell_type": "code",
   "execution_count": null,
   "metadata": {},
   "outputs": [],
   "source": [
    "# list_alpha = np.arange(20.5, 25+0.5, 0.5)\n",
    "# list_alpha"
   ]
  },
  {
   "cell_type": "code",
   "execution_count": 1,
   "metadata": {},
   "outputs": [],
   "source": [
    "# accc = list()\n",
    "\n",
    "# for alp in list_alpha:\n",
    "#     lis_sc = list()\n",
    "#     for i in range(10):\n",
    "#         X = md[\"model_tf_idf\"][i][\"train\"]#.toarray()\n",
    "#         Y = np.array(md[\"model_tf_idf\"][i][\"y_train\"])\n",
    "#         clf_pf = ComplementNB(alpha = alp)\n",
    "#         for batch in batches(np.arange(X.shape[0]), 1000):\n",
    "#             clf_pf.partial_fit(X[batch].A, Y[batch], np.unique(Y))\n",
    "# #             clf_pf.fit(X, Y)\n",
    "#         lisskor_batch = list()\n",
    "#         for batch in batches(np.arange(md[\"model_tf_idf\"][i][\"test\"].shape[0]), 10):\n",
    "#             sc = clf_pf.score(md[\"model_tf_idf\"][i][\"test\"][batch].A, np.array(md[\"model_tf_idf\"][i][\"y_test\"])[batch])\n",
    "#             lisskor_batch.append(sc)\n",
    "#         lis_sc.append(sum(lisskor_batch)/len(lisskor_batch))\n",
    "#     accc.append(sum(lis_sc)/len(lis_sc))\n",
    "#     print(alp, sum(lis_sc)/len(lis_sc))\n",
    "# print(\"\")\n",
    "# for i, j in zip(list_alpha, accc):\n",
    "#     print(i, j)\n",
    "# print(\"alpha :\",list_alpha[accc.index(max(accc))])"
   ]
  },
  {
   "cell_type": "code",
   "execution_count": null,
   "metadata": {},
   "outputs": [],
   "source": []
  },
  {
   "cell_type": "code",
   "execution_count": 2,
   "metadata": {},
   "outputs": [],
   "source": [
    "# accc = list()\n",
    "# # list_alpha = np.arange(0.01, 5+0.1, 0.1)\n",
    "# for alp in list_alpha:\n",
    "#     lis_sc = list()\n",
    "#     for i in range(10):\n",
    "#         X = md[\"model_tf\"][i][\"train\"]#.toarray()\n",
    "#         Y = np.array(md[\"model_tf\"][i][\"y_train\"])\n",
    "#         clf_pf = ComplementNB(alpha = alp)\n",
    "#         for batch in batches(np.arange(X.shape[0]), 1000):\n",
    "#             clf_pf.partial_fit(X[batch].A, Y[batch], np.unique(Y))\n",
    "# #             clf_pf.fit(X, Y)\n",
    "#         lisskor_batch = list()\n",
    "#         for batch in batches(np.arange(md[\"model_tf_idf\"][i][\"test\"].shape[0]), 10):\n",
    "#             sc = clf_pf.score(md[\"model_tf_idf\"][i][\"test\"][batch].A, np.array(md[\"model_tf_idf\"][i][\"y_test\"])[batch])\n",
    "#             lisskor_batch.append(sc)\n",
    "#         lis_sc.append(sum(lisskor_batch)/len(lisskor_batch))\n",
    "#     accc.append(sum(lis_sc)/len(lis_sc))\n",
    "#     print(alp, sum(lis_sc)/len(lis_sc))\n",
    "# print(\"\")\n",
    "# for i, j in zip(list_alpha, accc):\n",
    "#     print(i, j)\n",
    "# print(\"alpha :\",list_alpha[accc.index(max(accc))])"
   ]
  },
  {
   "cell_type": "code",
   "execution_count": null,
   "metadata": {},
   "outputs": [],
   "source": []
  },
  {
   "cell_type": "code",
   "execution_count": null,
   "metadata": {},
   "outputs": [],
   "source": [
    "# accc = list()\n",
    "# # list_alpha = np.arange(0.01, 5+0.1, 0.1)\n",
    "# for alp in list_alpha:\n",
    "#     lis_sc = list()\n",
    "#     for i in range(10):\n",
    "#         X = md[\"model_bin\"][i][\"train\"]#.toarray()\n",
    "#         Y = np.array(md[\"model_bin\"][i][\"y_train\"])\n",
    "#         clf_pf = ComplementNB(alpha = alp)\n",
    "#         for batch in batches(np.arange(X.shape[0]), 1000):\n",
    "#             clf_pf.partial_fit(X[batch].A, Y[batch], np.unique(Y))\n",
    "# #             clf_pf.fit(X, Y)\n",
    "#         lisskor_batch = list()\n",
    "#         for batch in batches(np.arange(md[\"model_tf_idf\"][i][\"test\"].shape[0]), 10):\n",
    "#             sc = clf_pf.score(md[\"model_tf_idf\"][i][\"test\"][batch].A, np.array(md[\"model_tf_idf\"][i][\"y_test\"])[batch])\n",
    "#             lisskor_batch.append(sc)\n",
    "#         lis_sc.append(sum(lisskor_batch)/len(lisskor_batch))\n",
    "#     accc.append(sum(lis_sc)/len(lis_sc))\n",
    "#     print(alp, sum(lis_sc)/len(lis_sc))\n",
    "# print(\"\")\n",
    "# for i, j in zip(list_alpha, accc):\n",
    "#     print(i, j)\n",
    "# print(\"alpha :\",list_alpha[accc.index(max(accc))])"
   ]
  },
  {
   "cell_type": "code",
   "execution_count": null,
   "metadata": {},
   "outputs": [],
   "source": []
  },
  {
   "cell_type": "code",
   "execution_count": null,
   "metadata": {},
   "outputs": [],
   "source": []
  }
 ],
 "metadata": {
  "kernelspec": {
   "display_name": "Python 3",
   "language": "python",
   "name": "python3"
  },
  "language_info": {
   "codemirror_mode": {
    "name": "ipython",
    "version": 3
   },
   "file_extension": ".py",
   "mimetype": "text/x-python",
   "name": "python",
   "nbconvert_exporter": "python",
   "pygments_lexer": "ipython3",
   "version": "3.7.3"
  }
 },
 "nbformat": 4,
 "nbformat_minor": 2
}
