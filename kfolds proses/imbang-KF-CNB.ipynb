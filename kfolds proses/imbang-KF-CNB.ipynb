{
 "cells": [
  {
   "cell_type": "code",
   "execution_count": 25,
   "metadata": {},
   "outputs": [],
   "source": [
    "import joblib\n",
    "import numpy as np\n",
    "from sklearn.naive_bayes import GaussianNB\n",
    "from sklearn.naive_bayes import MultinomialNB\n",
    "from sklearn.naive_bayes import ComplementNB\n",
    "import random"
   ]
  },
  {
   "cell_type": "code",
   "execution_count": 26,
   "metadata": {},
   "outputs": [],
   "source": [
    "def batches(my_list, n):\n",
    "    final = [my_list[i * n:(i + 1) * n] for i in range((len(my_list) + n - 1) // n )]\n",
    "    return final"
   ]
  },
  {
   "cell_type": "code",
   "execution_count": 27,
   "metadata": {},
   "outputs": [],
   "source": [
    "md = joblib.load(\"imbang/imbang_data.dt\")"
   ]
  },
  {
   "cell_type": "code",
   "execution_count": 29,
   "metadata": {},
   "outputs": [
    {
     "data": {
      "text/plain": [
       "array([1.000e-03, 1.100e-02, 2.100e-02, 3.100e-02, 4.100e-02, 5.100e-02,\n",
       "       6.100e-02, 7.100e-02, 8.100e-02, 9.100e-02, 1.010e-01, 1.110e-01,\n",
       "       1.210e-01, 1.310e-01, 1.410e-01, 1.510e-01, 1.610e-01, 1.710e-01,\n",
       "       1.810e-01, 1.910e-01, 2.010e-01, 2.110e-01, 2.210e-01, 2.310e-01,\n",
       "       2.410e-01, 2.510e-01, 2.610e-01, 2.710e-01, 2.810e-01, 2.910e-01,\n",
       "       3.010e-01, 3.110e-01, 3.210e-01, 3.310e-01, 3.410e-01, 3.510e-01,\n",
       "       3.610e-01, 3.710e-01, 3.810e-01, 3.910e-01, 4.010e-01, 4.110e-01,\n",
       "       4.210e-01, 4.310e-01, 4.410e-01, 4.510e-01, 4.610e-01, 4.710e-01,\n",
       "       4.810e-01, 4.910e-01, 5.010e-01, 5.110e-01, 5.210e-01, 5.310e-01,\n",
       "       5.410e-01, 5.510e-01, 5.610e-01, 5.710e-01, 5.810e-01, 5.910e-01,\n",
       "       6.010e-01, 6.110e-01, 6.210e-01, 6.310e-01, 6.410e-01, 6.510e-01,\n",
       "       6.610e-01, 6.710e-01, 6.810e-01, 6.910e-01, 7.010e-01, 7.110e-01,\n",
       "       7.210e-01, 7.310e-01, 7.410e-01, 7.510e-01, 7.610e-01, 7.710e-01,\n",
       "       7.810e-01, 7.910e-01, 8.010e-01, 8.110e-01, 8.210e-01, 8.310e-01,\n",
       "       8.410e-01, 8.510e-01, 8.610e-01, 8.710e-01, 8.810e-01, 8.910e-01,\n",
       "       9.010e-01, 9.110e-01, 9.210e-01, 9.310e-01, 9.410e-01, 9.510e-01,\n",
       "       9.610e-01, 9.710e-01, 9.810e-01, 9.910e-01, 1.001e+00])"
      ]
     },
     "execution_count": 29,
     "metadata": {},
     "output_type": "execute_result"
    }
   ],
   "source": [
    "list_alpha = np.arange(0.001, 1+0.01, 0.01)\n",
    "list_alpha"
   ]
  },
  {
   "cell_type": "code",
   "execution_count": 4,
   "metadata": {},
   "outputs": [
    {
     "name": "stdout",
     "output_type": "stream",
     "text": [
      "0.01 0.8905840508775098\n",
      "0.11 0.9018143162007496\n",
      "0.21000000000000002 0.9051113210952678\n",
      "0.31000000000000005 0.90619283977619\n",
      "0.41000000000000003 0.9071712656736068\n",
      "0.51 0.9079956894263539\n",
      "0.6100000000000001 0.9079955832545892\n",
      "0.7100000000000001 0.9082015033921879\n",
      "0.81 0.908047129646342\n",
      "0.91 0.9088715003132067\n",
      "1.01 0.9090261925743468\n",
      "1.11 0.9086655270897257\n",
      "1.2100000000000002 0.9084594476944801\n",
      "1.31 0.90840795438861\n",
      "1.4100000000000001 0.9084596600380095\n",
      "1.51 0.9081504347733764\n",
      "1.61 0.9085110471721152\n",
      "1.7100000000000002 0.908201981165129\n",
      "1.81 0.9076871542781912\n",
      "1.9100000000000001 0.9074812341405927\n",
      "2.01 0.9074811810547105\n",
      "2.11 0.9072238206971239\n",
      "2.21 0.907172221219489\n",
      "2.31 0.9073267542229819\n",
      "2.41 0.9076359794876152\n",
      "2.51 0.9074299531782518\n",
      "2.61 0.9071722743053712\n",
      "2.71 0.9065539299478695\n",
      "2.81 0.9066055294255045\n",
      "2.91 0.9066570758172572\n",
      "3.01 0.9064509964220117\n",
      "3.11 0.9062965165044009\n",
      "3.21 0.9057813180162869\n",
      "3.31 0.9059873974115324\n",
      "3.41 0.9056782783186639\n",
      "3.51 0.9050087060847039\n",
      "3.61 0.9049057725588456\n",
      "3.71 0.9049573189505983\n",
      "3.81 0.9044420142907196\n",
      "3.91 0.9041328421119689\n",
      "4.01 0.904029802414346\n",
      "4.11 0.9038751632390882\n",
      "4.21 0.9036174312803255\n",
      "4.31 0.9034115111427268\n",
      "4.41 0.9031024451357407\n",
      "4.51 0.9028963126546128\n",
      "4.61 0.9024844192935332\n",
      "4.71 0.9020723135889241\n",
      "4.8100000000000005 0.9021238068947944\n",
      "4.91 0.9019177274995489\n",
      "5.01 0.9019177805854313\n",
      "\n",
      "0.01 0.8905840508775098\n",
      "0.11 0.9018143162007496\n",
      "0.21000000000000002 0.9051113210952678\n",
      "0.31000000000000005 0.90619283977619\n",
      "0.41000000000000003 0.9071712656736068\n",
      "0.51 0.9079956894263539\n",
      "0.6100000000000001 0.9079955832545892\n",
      "0.7100000000000001 0.9082015033921879\n",
      "0.81 0.908047129646342\n",
      "0.91 0.9088715003132067\n",
      "1.01 0.9090261925743468\n",
      "1.11 0.9086655270897257\n",
      "1.2100000000000002 0.9084594476944801\n",
      "1.31 0.90840795438861\n",
      "1.4100000000000001 0.9084596600380095\n",
      "1.51 0.9081504347733764\n",
      "1.61 0.9085110471721152\n",
      "1.7100000000000002 0.908201981165129\n",
      "1.81 0.9076871542781912\n",
      "1.9100000000000001 0.9074812341405927\n",
      "2.01 0.9074811810547105\n",
      "2.11 0.9072238206971239\n",
      "2.21 0.907172221219489\n",
      "2.31 0.9073267542229819\n",
      "2.41 0.9076359794876152\n",
      "2.51 0.9074299531782518\n",
      "2.61 0.9071722743053712\n",
      "2.71 0.9065539299478695\n",
      "2.81 0.9066055294255045\n",
      "2.91 0.9066570758172572\n",
      "3.01 0.9064509964220117\n",
      "3.11 0.9062965165044009\n",
      "3.21 0.9057813180162869\n",
      "3.31 0.9059873974115324\n",
      "3.41 0.9056782783186639\n",
      "3.51 0.9050087060847039\n",
      "3.61 0.9049057725588456\n",
      "3.71 0.9049573189505983\n",
      "3.81 0.9044420142907196\n",
      "3.91 0.9041328421119689\n",
      "4.01 0.904029802414346\n",
      "4.11 0.9038751632390882\n",
      "4.21 0.9036174312803255\n",
      "4.31 0.9034115111427268\n",
      "4.41 0.9031024451357407\n",
      "4.51 0.9028963126546128\n",
      "4.61 0.9024844192935332\n",
      "4.71 0.9020723135889241\n",
      "4.8100000000000005 0.9021238068947944\n",
      "4.91 0.9019177274995489\n",
      "5.01 0.9019177805854313\n",
      "alpha : 1.01\n"
     ]
    }
   ],
   "source": [
    "accc = list()\n",
    "\n",
    "for alp in list_alpha:\n",
    "    lis_sc = list()\n",
    "    for i in range(10):\n",
    "        X = md[\"model_tf_idf\"][i][\"train\"]#.toarray()\n",
    "        Y = np.array(md[\"model_tf_idf\"][i][\"y_train\"])\n",
    "        clf_pf = ComplementNB(alpha = alp)\n",
    "        for batch in batches(np.arange(X.shape[0]), 1000):\n",
    "            clf_pf.partial_fit(X[batch].A, Y[batch], np.unique(Y))\n",
    "#             clf_pf.fit(X, Y)\n",
    "        sc = clf_pf.score(md[\"model_tf_idf\"][i][\"test\"].A, np.array(md[\"model_tf_idf\"][i][\"y_test\"]))\n",
    "        lis_sc.append(sc)\n",
    "    accc.append(sum(lis_sc)/len(lis_sc))\n",
    "    print(alp, sum(lis_sc)/len(lis_sc))\n",
    "print(\"\")\n",
    "for i, j in zip(list_alpha, accc):\n",
    "    print(i, j)\n",
    "print(\"alpha :\",list_alpha[accc.index(max(accc))])"
   ]
  },
  {
   "cell_type": "code",
   "execution_count": 12,
   "metadata": {},
   "outputs": [
    {
     "data": {
      "text/plain": [
       "1.0"
      ]
     },
     "execution_count": 12,
     "metadata": {},
     "output_type": "execute_result"
    }
   ],
   "source": []
  },
  {
   "cell_type": "code",
   "execution_count": 15,
   "metadata": {},
   "outputs": [
    {
     "name": "stdout",
     "output_type": "stream",
     "text": [
      "0.5 0.9113442937985073\n",
      "1.0 0.9124780489876523\n",
      "1.5 0.9124778897300052\n",
      "2.0 0.9109324004374277\n",
      "2.5 0.9099535498529523\n",
      "3.0 0.9080994723263295\n",
      "\n",
      "0.5 0.9113442937985073\n",
      "1.0 0.9124780489876523\n",
      "1.5 0.9124778897300052\n",
      "2.0 0.9109324004374277\n",
      "2.5 0.9099535498529523\n",
      "3.0 0.9080994723263295\n",
      "alpha : 1.0\n"
     ]
    }
   ],
   "source": [
    "accc = list()\n",
    "# list_alpha = np.arange(0.01, 2+0.1, 0.1)\n",
    "for alp in list_alpha:\n",
    "    lis_sc = list()\n",
    "    for i in range(10):\n",
    "        X = md[\"model_tf\"][i][\"train\"]#.toarray()\n",
    "        Y = np.array(md[\"model_tf\"][i][\"y_train\"])\n",
    "        clf_pf = ComplementNB(alpha = alp)\n",
    "        for batch in batches(np.arange(X.shape[0]), 1000):\n",
    "            clf_pf.partial_fit(X[batch].A, Y[batch], np.unique(Y))\n",
    "#             clf_pf.fit(X, Y)\n",
    "        sc = clf_pf.score(md[\"model_tf\"][i][\"test\"].A, np.array(md[\"model_tf\"][i][\"y_test\"]))\n",
    "        lis_sc.append(sc)\n",
    "    accc.append(sum(lis_sc)/len(lis_sc))\n",
    "    print(alp, sum(lis_sc)/len(lis_sc))\n",
    "print(\"\")\n",
    "for i, j in zip(list_alpha, accc):\n",
    "    print(i, j)\n",
    "print(\"alpha :\",list_alpha[accc.index(max(accc))])"
   ]
  },
  {
   "cell_type": "code",
   "execution_count": null,
   "metadata": {},
   "outputs": [],
   "source": []
  },
  {
   "cell_type": "code",
   "execution_count": null,
   "metadata": {},
   "outputs": [],
   "source": []
  },
  {
   "cell_type": "code",
   "execution_count": null,
   "metadata": {},
   "outputs": [],
   "source": []
  },
  {
   "cell_type": "code",
   "execution_count": null,
   "metadata": {},
   "outputs": [],
   "source": []
  },
  {
   "cell_type": "code",
   "execution_count": null,
   "metadata": {},
   "outputs": [],
   "source": []
  },
  {
   "cell_type": "code",
   "execution_count": 4,
   "metadata": {},
   "outputs": [],
   "source": [
    "def batches(my_list, n):\n",
    "    final = [my_list[i * n:(i + 1) * n] for i in range((len(my_list) + n - 1) // n )]\n",
    "    return final\n",
    "\n",
    "aa = [5,4,3,4,5,6,7,5,6,5,6,7,6,5,4,3,4,5,6,7,8,6,5,4,5,6,7,8,6,6,4,5,4,5]\n",
    "\n",
    "import numpy as np\n",
    "from scipy import sparse\n",
    "\n",
    "sA = sparse.csr_matrix(aa)   # Here's the initialization of the sparse matrix.\n",
    "# sB = sparse.csr_matrix(B)\n",
    "# for i in batches(sA.A[0], 10):\n",
    "#     print(sparse.csr_matrix(i))"
   ]
  },
  {
   "cell_type": "code",
   "execution_count": 23,
   "metadata": {},
   "outputs": [
    {
     "data": {
      "text/plain": [
       "[[0, 1, 2, 3, 4, 5, 6, 7, 8, 9],\n",
       " [10, 11, 12, 13, 14, 15, 16, 17, 18, 19],\n",
       " [20, 21, 22, 23, 24, 25, 26, 27, 28, 29],\n",
       " [30, 31, 32, 33, 34, 35, 36, 37, 38, 39]]"
      ]
     },
     "execution_count": 23,
     "metadata": {},
     "output_type": "execute_result"
    }
   ],
   "source": [
    "aa = [5,4,3,4,5,6,7,5,6,5,6,7,6,5,4,3,4,5,6,7,8,6,5,4,5,6,7,8,6,6,4,5,4,5]\n",
    "n=10\n",
    "[np.arange(i * n,(i + 1) * n).tolist() for i in range((len(aa) + n - 1) // n )]"
   ]
  },
  {
   "cell_type": "code",
   "execution_count": 24,
   "metadata": {},
   "outputs": [
    {
     "data": {
      "text/plain": [
       "34"
      ]
     },
     "execution_count": 24,
     "metadata": {},
     "output_type": "execute_result"
    }
   ],
   "source": [
    "len(aa)"
   ]
  },
  {
   "cell_type": "code",
   "execution_count": null,
   "metadata": {},
   "outputs": [],
   "source": []
  }
 ],
 "metadata": {
  "kernelspec": {
   "display_name": "Python 3",
   "language": "python",
   "name": "python3"
  },
  "language_info": {
   "codemirror_mode": {
    "name": "ipython",
    "version": 3
   },
   "file_extension": ".py",
   "mimetype": "text/x-python",
   "name": "python",
   "nbconvert_exporter": "python",
   "pygments_lexer": "ipython3",
   "version": "3.7.3"
  }
 },
 "nbformat": 4,
 "nbformat_minor": 2
}
