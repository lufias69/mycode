{
 "cells": [
  {
   "cell_type": "code",
   "execution_count": 3,
   "metadata": {},
   "outputs": [],
   "source": [
    "import joblib\n",
    "import numpy as np\n",
    "from sklearn.naive_bayes import GaussianNB\n",
    "from sklearn.naive_bayes import MultinomialNB\n",
    "from sklearn.naive_bayes import ComplementNB\n",
    "import random"
   ]
  },
  {
   "cell_type": "code",
   "execution_count": 16,
   "metadata": {},
   "outputs": [],
   "source": [
    "def batches(my_list, n):\n",
    "    final = [my_list[i * n:(i + 1) * n] for i in range((len(my_list) + n - 1) // n )]\n",
    "    return final"
   ]
  },
  {
   "cell_type": "code",
   "execution_count": 5,
   "metadata": {},
   "outputs": [],
   "source": [
    "md = joblib.load(\"imbang/imbang_data.dt\")"
   ]
  },
  {
   "cell_type": "code",
   "execution_count": null,
   "metadata": {},
   "outputs": [
    {
     "name": "stdout",
     "output_type": "stream",
     "text": [
      "0.01 0.8514828479514158\n",
      "0.11 0.8460235488974062\n",
      "0.21000000000000002 0.7560250353021118\n",
      "0.31000000000000005 0.6674187520570779\n",
      "0.41000000000000003 0.5999879495047087\n",
      "0.51 0.5587782284179346\n",
      "0.6100000000000001 0.535957722403304\n",
      "0.7100000000000001 0.5201945066728955\n",
      "0.81 0.5120551668489282\n",
      "0.91 0.507006805610116\n",
      "1.01 0.5041731342966651\n",
      "1.11 0.5025760455264526\n",
      "1.2100000000000002 0.5015457547219893\n",
      "1.31 0.5008759701444998\n",
      "1.4100000000000001 0.5006697845774895\n",
      "1.51 0.5003606123987386\n"
     ]
    }
   ],
   "source": [
    "accc = list()\n",
    "list_alpha = np.arange(0.01, 5+0.1, 0.1)\n",
    "for alp in list_alpha:\n",
    "    lis_sc = list()\n",
    "    for i in range(10):\n",
    "        X = md[\"model_tf_idf\"][i][\"train\"]#.toarray()\n",
    "        Y = np.array(md[\"model_tf_idf\"][i][\"y_train\"])\n",
    "        clf_pf = GaussianNB(var_smoothing = alp)\n",
    "        for batch in batches(np.arange(X.shape[0]), 1000):\n",
    "            clf_pf.partial_fit(X[batch].A, Y[batch], np.unique(Y))\n",
    "#             clf_pf.fit(X, Y)\n",
    "        sc = clf_pf.score(md[\"model_tf_idf\"][i][\"test\"].A, np.array(md[\"model_tf_idf\"][i][\"y_test\"]))\n",
    "        lis_sc.append(sc)\n",
    "    accc.append(sum(lis_sc)/len(lis_sc))\n",
    "    print(alp, sum(lis_sc)/len(lis_sc))\n",
    "print(\"\")\n",
    "for i, j in zip(list_alpha, accc):\n",
    "    print(i, j)\n",
    "print(\"alpha :\",list_alpha[accc.index(max(accc))])"
   ]
  },
  {
   "cell_type": "code",
   "execution_count": 12,
   "metadata": {},
   "outputs": [
    {
     "data": {
      "text/plain": [
       "1.0"
      ]
     },
     "execution_count": 12,
     "metadata": {},
     "output_type": "execute_result"
    }
   ],
   "source": []
  },
  {
   "cell_type": "code",
   "execution_count": null,
   "metadata": {},
   "outputs": [],
   "source": []
  }
 ],
 "metadata": {
  "kernelspec": {
   "display_name": "Python 3",
   "language": "python",
   "name": "python3"
  },
  "language_info": {
   "codemirror_mode": {
    "name": "ipython",
    "version": 3
   },
   "file_extension": ".py",
   "mimetype": "text/x-python",
   "name": "python",
   "nbconvert_exporter": "python",
   "pygments_lexer": "ipython3",
   "version": "3.7.3"
  }
 },
 "nbformat": 4,
 "nbformat_minor": 2
}
