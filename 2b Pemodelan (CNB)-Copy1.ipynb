{
 "cells": [
  {
   "cell_type": "code",
   "execution_count": 1,
   "metadata": {},
   "outputs": [
    {
     "name": "stdout",
     "output_type": "stream",
     "text": [
      "ok\n"
     ]
    }
   ],
   "source": [
    "import pandas as pd\n",
    "import numpy as np\n",
    "from stopword import stopwords\n",
    "stopw = stopwords.stopword()"
   ]
  },
  {
   "cell_type": "code",
   "execution_count": 2,
   "metadata": {
    "scrolled": true
   },
   "outputs": [
    {
     "data": {
      "text/html": [
       "<div>\n",
       "<style scoped>\n",
       "    .dataframe tbody tr th:only-of-type {\n",
       "        vertical-align: middle;\n",
       "    }\n",
       "\n",
       "    .dataframe tbody tr th {\n",
       "        vertical-align: top;\n",
       "    }\n",
       "\n",
       "    .dataframe thead th {\n",
       "        text-align: right;\n",
       "    }\n",
       "</style>\n",
       "<table border=\"1\" class=\"dataframe\">\n",
       "  <thead>\n",
       "    <tr style=\"text-align: right;\">\n",
       "      <th></th>\n",
       "      <th>Unnamed: 0</th>\n",
       "      <th>label</th>\n",
       "      <th>komentar</th>\n",
       "      <th>komentar_kotor</th>\n",
       "      <th>kode salah</th>\n",
       "    </tr>\n",
       "  </thead>\n",
       "  <tbody>\n",
       "    <tr>\n",
       "      <th>0</th>\n",
       "      <td>0</td>\n",
       "      <td>non spam</td>\n",
       "      <td>homwsti iri banget artis g ajak gengsi sian deh</td>\n",
       "      <td>@homwsti iri bnget artisnya g d ajak acara ber...</td>\n",
       "      <td>0</td>\n",
       "    </tr>\n",
       "    <tr>\n",
       "      <th>1</th>\n",
       "      <td>1</td>\n",
       "      <td>non spam</td>\n",
       "      <td>tulis email nama depan dr huruf s</td>\n",
       "      <td>Yang nulis email pasti nama depannya dr huruf S</td>\n",
       "      <td>0</td>\n",
       "    </tr>\n",
       "    <tr>\n",
       "      <th>2</th>\n",
       "      <td>2</td>\n",
       "      <td>non spam</td>\n",
       "      <td>salfok sama telinga</td>\n",
       "      <td>Salfok sama telinganya😹😹</td>\n",
       "      <td>0</td>\n",
       "    </tr>\n",
       "    <tr>\n",
       "      <th>3</th>\n",
       "      <td>3</td>\n",
       "      <td>non spam</td>\n",
       "      <td>egapratiwwi youtube guankirim lu nan</td>\n",
       "      <td>@egapratiwwi youtubenya udh guankirim ke lu hahha</td>\n",
       "      <td>0</td>\n",
       "    </tr>\n",
       "    <tr>\n",
       "      <th>4</th>\n",
       "      <td>4</td>\n",
       "      <td>non spam</td>\n",
       "      <td>abang radit mahh emang keren terimakasih bela ...</td>\n",
       "      <td>Abang radit mahh emang keren,,,,👏👏👏👍👍👍,,,terim...</td>\n",
       "      <td>0</td>\n",
       "    </tr>\n",
       "  </tbody>\n",
       "</table>\n",
       "</div>"
      ],
      "text/plain": [
       "   Unnamed: 0     label                                           komentar  \\\n",
       "0           0  non spam    homwsti iri banget artis g ajak gengsi sian deh   \n",
       "1           1  non spam                  tulis email nama depan dr huruf s   \n",
       "2           2  non spam                                salfok sama telinga   \n",
       "3           3  non spam               egapratiwwi youtube guankirim lu nan   \n",
       "4           4  non spam  abang radit mahh emang keren terimakasih bela ...   \n",
       "\n",
       "                                      komentar_kotor  kode salah  \n",
       "0  @homwsti iri bnget artisnya g d ajak acara ber...           0  \n",
       "1    Yang nulis email pasti nama depannya dr huruf S           0  \n",
       "2                           Salfok sama telinganya😹😹           0  \n",
       "3  @egapratiwwi youtubenya udh guankirim ke lu hahha           0  \n",
       "4  Abang radit mahh emang keren,,,,👏👏👏👍👍👍,,,terim...           0  "
      ]
     },
     "execution_count": 2,
     "metadata": {},
     "output_type": "execute_result"
    }
   ],
   "source": [
    "# data_ = pd.read_excel(\"hasil_prediksi\\svm\\seleksi/seleksi_all_fuzzy.xlsx\") #hasil_prediksi\\svm\\seleksi seleksi_all_fuzzy_18_ribu\n",
    "# data_ = pd.read_excel(\"hasil_prediksi\\svm\\seleksi/seleksi_all_fuzzy_18_ribu.xlsx\")\n",
    "data_ = pd.read_excel(\"data_latih/hasil_seleksi_New3.xlsx\")\n",
    "latih_cm = data_['komentar'].tolist()\n",
    "label_cm = data_['label'].tolist()\n",
    "data_.head()"
   ]
  },
  {
   "cell_type": "code",
   "execution_count": 3,
   "metadata": {},
   "outputs": [
    {
     "data": {
      "text/plain": [
       "non spam    56562\n",
       "spam         9707\n",
       "Name: label, dtype: int64"
      ]
     },
     "execution_count": 3,
     "metadata": {},
     "output_type": "execute_result"
    }
   ],
   "source": [
    "pd.value_counts(data_['label']).plot.bar(title='')\n",
    "pd.value_counts(data_['label'])"
   ]
  },
  {
   "cell_type": "code",
   "execution_count": 5,
   "metadata": {},
   "outputs": [
    {
     "name": "stdout",
     "output_type": "stream",
     "text": [
      "(66269, 58616)\n"
     ]
    },
    {
     "data": {
      "text/plain": [
       "['model/cnb/tfdf_model_60.joblib']"
      ]
     },
     "execution_count": 5,
     "metadata": {},
     "output_type": "execute_result"
    }
   ],
   "source": [
    "from sklearn.feature_extraction.text import TfidfVectorizer\n",
    "from joblib import dump\n",
    "#membuat TF-IDF\n",
    "tfidf = TfidfVectorizer(stop_words = stopw+['nya','saya','kak'])\n",
    "tfidf_matrix_save = tfidf.fit(latih_cm)\n",
    "tfidf_matrix_ = tfidf.fit_transform(latih_cm) #For CM\n",
    "fitur = tfidf.get_feature_names()\n",
    "print(tfidf_matrix_.shape)\n",
    "X_ = tfidf_matrix_#.toarray()\n",
    "Y_ = np.array(label_cm)\n",
    "#y = np.array(kode)\n",
    "\n",
    "dump(tfidf_matrix_save, 'model/cnb/tfdf_model_60.joblib')\n",
    "# dump(tfidf_matrix_save, 'model/gnb/tfdf_model_18.joblib')"
   ]
  },
  {
   "cell_type": "code",
   "execution_count": null,
   "metadata": {},
   "outputs": [],
   "source": [
    "import json\n",
    "with open(\"model/fitur.json\", \"w\") as f:\n",
    "    json.dump(fitur,f)\n",
    "frekueni_spam = dict()\n",
    "frekueni_nonspam = dict()\n",
    "frekueni = dict()\n",
    "\n",
    "for i in fitur:\n",
    "    frekueni_spam.update({i:0})\n",
    "    frekueni_nonspam.update({i:0})\n",
    "    frekueni.update({i:{\"spam\":0, \"non spam\":0}})\n",
    "    \n",
    "for latih, label in zip(latih_cm, label_cm):\n",
    "    if label == \"spam\":\n",
    "        for i in latih.split():\n",
    "            if i in fitur:\n",
    "#                 print(i)\n",
    "                frekueni_spam[i] +=1\n",
    "                frekueni[i][\"spam\"] +=1\n",
    "            \n",
    "    elif label == \"non spam\":\n",
    "        for i in latih.split():\n",
    "            if i in fitur:\n",
    "#                 print(i)\n",
    "                frekueni_nonspam[i] +=1\n",
    "                frekueni[i][\"non spam\"] +=1\n",
    "with open(\"model/frequensi.json\", \"w\") as f:\n",
    "    json.dump(frekueni,f)\n",
    "del frekueni_spam \n",
    "del frekueni_nonspam \n",
    "del frekueni \n"
   ]
  },
  {
   "cell_type": "code",
   "execution_count": 9,
   "metadata": {},
   "outputs": [],
   "source": [
    "alpha = 13.4"
   ]
  },
  {
   "cell_type": "code",
   "execution_count": 10,
   "metadata": {},
   "outputs": [
    {
     "data": {
      "text/plain": [
       "StratifiedKFold(n_splits=10, random_state=2, shuffle=True)"
      ]
     },
     "execution_count": 10,
     "metadata": {},
     "output_type": "execute_result"
    }
   ],
   "source": [
    "K = 10 #pembagian data uji dan data latih\n",
    "from sklearn.model_selection import KFold\n",
    "from sklearn.model_selection import StratifiedKFold\n",
    "from sklearn.metrics import accuracy_score #, precision_score, recall_score\n",
    "kf= KFold(n_splits=K) \n",
    "skf = StratifiedKFold(n_splits=K,random_state=2, shuffle=True)\n",
    "skf"
   ]
  },
  {
   "cell_type": "code",
   "execution_count": 11,
   "metadata": {},
   "outputs": [],
   "source": [
    "from sklearn.naive_bayes import ComplementNB\n",
    "from sklearn.naive_bayes import GaussianNB"
   ]
  },
  {
   "cell_type": "code",
   "execution_count": 12,
   "metadata": {},
   "outputs": [
    {
     "name": "stdout",
     "output_type": "stream",
     "text": [
      "1p -2p -3p -4p -5p -6p -7p -8p -9p -10p -\n",
      "----------------------------------------\n",
      "Hasil K-Fold GNB\n",
      "   akurasi   : 0.6869566359588066\n",
      "----------------------------------------\n",
      "Hasil K-Fold CNB\n",
      "     Aplha   : 13.4\n",
      "   akurasi   : 0.9245612126182552\n"
     ]
    }
   ],
   "source": [
    "comNB = ComplementNB(alpha = alpha)\n",
    "clf = GaussianNB(var_smoothing = 1)\n",
    "\n",
    "# akurasi_svm = []\n",
    "akurasi_cnb = []\n",
    "akurasi_gnb = []\n",
    "ii = 0\n",
    "for train_index, test_index in skf.split(X_, Y_):\n",
    "    print(ii+1, end=\"\")\n",
    "    ii+=1\n",
    "    #membagi data latih dan data uji\n",
    "    X_train, X_test = X_[train_index], X_[test_index] #pembagian data latih\n",
    "    y_train, y_test = Y_[train_index], Y_[test_index]\n",
    "    \n",
    "    #Melatih Model\n",
    "    mCNB = comNB.fit(X_train, y_train)\n",
    "    mGNB = clf.fit(X_train, y_train)\n",
    "    print(\"p \", end=\"-\")\n",
    "    #proses prediksi\n",
    "#     P_SVM = mSVM.predict(X_test)\n",
    "    P_CNB = mCNB.predict(X_test)\n",
    "    P_GNB = mGNB.predict(X_test)\n",
    "    \n",
    "    #menyimpan hasil akurasi tiap iterasi\n",
    "    akurasi_cnb.append(accuracy_score(y_test, P_CNB))\n",
    "    akurasi_gnb.append(accuracy_score(y_test, P_GNB))\n",
    "    \n",
    "# rerata_akurasi_svm = sum(akurasi_svm)/len(akurasi_svm)\n",
    "rerata_akurasi_cnb = sum(akurasi_cnb)/len(akurasi_cnb)\n",
    "rerata_akurasi_gnb = sum(akurasi_gnb)/len(akurasi_gnb)\n",
    "\n",
    "print(\"\")\n",
    "print(\"----------------------------------------\")\n",
    "print(\"Hasil K-Fold GNB\")\n",
    "print(\"   akurasi   :\",rerata_akurasi_gnb)\n",
    "print(\"----------------------------------------\")\n",
    "print(\"Hasil K-Fold CNB\")\n",
    "print(\"     Aplha   :\",alpha)\n",
    "print(\"   akurasi   :\",rerata_akurasi_cnb)"
   ]
  },
  {
   "cell_type": "code",
   "execution_count": 8,
   "metadata": {},
   "outputs": [
    {
     "data": {
      "text/plain": [
       "['model/gnb/GNB_MODEL_18.joblib']"
      ]
     },
     "execution_count": 8,
     "metadata": {},
     "output_type": "execute_result"
    }
   ],
   "source": [
    "comNB = ComplementNB(alpha = alpha)\n",
    "clf = GaussianNB(var_smoothing = 1)\n",
    "\n",
    "#Melatih Model untuk data secara keseluruhan (X dan Y)\n",
    "mGNB = clf.fit(X_, Y_)\n",
    "comNB = comNB.fit(X_, Y_) #CNB\n",
    "\n",
    "#save models\n",
    "dump(comNB, 'model/cnb/CNB_MODEL_18.joblib')\n",
    "dump(mGNB, 'model/gnb/GNB_MODEL_18.joblib')"
   ]
  },
  {
   "cell_type": "code",
   "execution_count": 4,
   "metadata": {},
   "outputs": [
    {
     "data": {
      "text/plain": [
       "' 0.000000'"
      ]
     },
     "execution_count": 4,
     "metadata": {},
     "output_type": "execute_result"
    }
   ],
   "source": [
    "format(1e-10, '9f')"
   ]
  },
  {
   "cell_type": "code",
   "execution_count": 13,
   "metadata": {},
   "outputs": [],
   "source": [
    "del X_\n",
    "del Y_\n",
    "\n",
    "# del mGNB\n",
    "# del comNB\n",
    "\n",
    "del P_CNB\n",
    "del P_GNB"
   ]
  },
  {
   "cell_type": "code",
   "execution_count": 42,
   "metadata": {},
   "outputs": [
    {
     "data": {
      "text/plain": [
       "24575"
      ]
     },
     "execution_count": 42,
     "metadata": {},
     "output_type": "execute_result"
    }
   ],
   "source": [
    "len((mGNB.sigma_[0]))"
   ]
  },
  {
   "cell_type": "code",
   "execution_count": 52,
   "metadata": {},
   "outputs": [
    {
     "data": {
      "text/plain": [
       "array([0.81175395, 0.18824605])"
      ]
     },
     "execution_count": 52,
     "metadata": {},
     "output_type": "execute_result"
    }
   ],
   "source": [
    "mGNB.class_prior_"
   ]
  },
  {
   "cell_type": "code",
   "execution_count": 10,
   "metadata": {},
   "outputs": [],
   "source": [
    "import json"
   ]
  },
  {
   "cell_type": "code",
   "execution_count": 100,
   "metadata": {},
   "outputs": [],
   "source": [
    "# mGNB.theta_[0]"
   ]
  },
  {
   "cell_type": "markdown",
   "metadata": {},
   "source": [
    "# Save GNB"
   ]
  },
  {
   "cell_type": "code",
   "execution_count": 10,
   "metadata": {},
   "outputs": [],
   "source": [
    "non_spam_gnb_s = list()\n",
    "spam_gnb_s = list()\n",
    "non_spam_gnb_t = list()\n",
    "spam_gnb_t = list()\n",
    "spam = list()\n",
    "non_spam = list()\n",
    "dict_gnb = dict()\n",
    "dict_gnb_ = dict()\n",
    "for ft, nspam_t, spam_t, nspam_s, spam_s in zip(fitur, mGNB.theta_[0],mGNB.theta_[1], mGNB.sigma_[0],mGNB.sigma_[1]):\n",
    "#     print(ft,format(nspam_t, '10f'),format(spam_t, '8f'))\n",
    "    non_spam_gnb_s.append(nspam_s)\n",
    "    spam_gnb_s.append(spam_s)\n",
    "    non_spam_gnb_t.append(nspam_t)\n",
    "    spam_gnb_t.append(spam_t)\n",
    "    nsp = (nspam_t**2)/nspam_s\n",
    "    sp = (spam_t**2)/spam_s\n",
    "    non_spam.append(format(nsp, 'f'))\n",
    "    spam.append(format(sp, 'f'))\n",
    "    dict_gnb_.update({ft:{\"non spam\":nsp, 'spam':sp}})\n",
    "    dict_gnb.update({ft:{\"theta\":{\"non spam\":nspam_t, \"spam\":spam_t}, \"sigma\":{\"non spam\":nspam_s, \"spam\":spam_s}}})\n",
    "with open(\"model/gnb/bobot_gnb.json\", \"w\") as f:\n",
    "    json.dump(dict_gnb,f)\n",
    "with open(\"model/gnb/bobot_gnb2.json\", \"w\") as f:\n",
    "    json.dump(dict_gnb_,f)"
   ]
  },
  {
   "cell_type": "code",
   "execution_count": 117,
   "metadata": {},
   "outputs": [],
   "source": [
    "dict_ = {\n",
    "    \"fitur\":fitur,\n",
    "    \"non spam_t\":non_spam_gnb_t,\n",
    "    \"spam_t\":spam_gnb_t,\n",
    "    \"non spam_s\":non_spam_gnb_s,\n",
    "    \"spam_s\":spam_gnb_s,  \n",
    "}\n",
    "\n",
    "df = pd.DataFrame.from_dict(dict_)\n",
    "df.to_excel(\"model/gnb/bobot.xlsx\")\n",
    "\n",
    "dict_ = {\n",
    "    \"fitur\":fitur,\n",
    "    \"non spam\":non_spam,\n",
    "    \"spam\":spam,  \n",
    "}\n",
    "\n",
    "df = pd.DataFrame.from_dict(dict_)\n",
    "df[\"non spam\"] = df[\"non spam\"].astype(float)\n",
    "df[\"spam\"] = df[\"spam\"].astype(float)\n",
    "df.to_excel(\"model/gnb/bobot_gnb.xlsx\")"
   ]
  },
  {
   "cell_type": "code",
   "execution_count": 106,
   "metadata": {},
   "outputs": [
    {
     "data": {
      "text/plain": [
       "0.0"
      ]
     },
     "execution_count": 106,
     "metadata": {},
     "output_type": "execute_result"
    }
   ],
   "source": []
  },
  {
   "cell_type": "code",
   "execution_count": 85,
   "metadata": {},
   "outputs": [
    {
     "data": {
      "text/plain": [
       "24575"
      ]
     },
     "execution_count": 85,
     "metadata": {},
     "output_type": "execute_result"
    }
   ],
   "source": [
    "len(comNB.feature_log_prob_[0])"
   ]
  },
  {
   "cell_type": "markdown",
   "metadata": {},
   "source": [
    "# Save CNB"
   ]
  },
  {
   "cell_type": "code",
   "execution_count": 12,
   "metadata": {},
   "outputs": [],
   "source": [
    "non_spam_cnb = list()\n",
    "spam_cnb = list()\n",
    "# non_spam_gnb_t = list()\n",
    "# spam_gnb_t = list()\n",
    "\n",
    "dict_cnb = dict()\n",
    "for ft, nspam_t, spam_t in zip(fitur, comNB.feature_log_prob_[0],comNB.feature_log_prob_[1]):\n",
    "#     print(ft,format(nspam_t, '10f'),format(spam_t, '8f'))\n",
    "    non_spam_cnb.append(nspam_t)\n",
    "    spam_cnb.append(spam_t)\n",
    "    dict_cnb.update({ft:{\"non spam\":nspam_t, \"spam\":spam_t}})\n",
    "with open(\"model/cnb/bobot_cnb.json\", \"w\") as f:\n",
    "    json.dump(dict_cnb,f)"
   ]
  },
  {
   "cell_type": "code",
   "execution_count": 13,
   "metadata": {},
   "outputs": [
    {
     "data": {
      "text/html": [
       "<div>\n",
       "<style scoped>\n",
       "    .dataframe tbody tr th:only-of-type {\n",
       "        vertical-align: middle;\n",
       "    }\n",
       "\n",
       "    .dataframe tbody tr th {\n",
       "        vertical-align: top;\n",
       "    }\n",
       "\n",
       "    .dataframe thead th {\n",
       "        text-align: right;\n",
       "    }\n",
       "</style>\n",
       "<table border=\"1\" class=\"dataframe\">\n",
       "  <thead>\n",
       "    <tr style=\"text-align: right;\">\n",
       "      <th></th>\n",
       "      <th>fitur</th>\n",
       "      <th>non spam</th>\n",
       "      <th>spam</th>\n",
       "    </tr>\n",
       "  </thead>\n",
       "  <tbody>\n",
       "    <tr>\n",
       "      <th>0</th>\n",
       "      <td>00</td>\n",
       "      <td>10.124647</td>\n",
       "      <td>10.102271</td>\n",
       "    </tr>\n",
       "    <tr>\n",
       "      <th>1</th>\n",
       "      <td>003</td>\n",
       "      <td>10.145823</td>\n",
       "      <td>10.181946</td>\n",
       "    </tr>\n",
       "    <tr>\n",
       "      <th>2</th>\n",
       "      <td>003g</td>\n",
       "      <td>10.136915</td>\n",
       "      <td>10.208296</td>\n",
       "    </tr>\n",
       "    <tr>\n",
       "      <th>3</th>\n",
       "      <td>006</td>\n",
       "      <td>10.107668</td>\n",
       "      <td>10.208296</td>\n",
       "    </tr>\n",
       "    <tr>\n",
       "      <th>4</th>\n",
       "      <td>007</td>\n",
       "      <td>10.145823</td>\n",
       "      <td>10.105736</td>\n",
       "    </tr>\n",
       "    <tr>\n",
       "      <th>5</th>\n",
       "      <td>00778</td>\n",
       "      <td>10.145823</td>\n",
       "      <td>10.183286</td>\n",
       "    </tr>\n",
       "    <tr>\n",
       "      <th>6</th>\n",
       "      <td>00alamat</td>\n",
       "      <td>10.136260</td>\n",
       "      <td>10.208296</td>\n",
       "    </tr>\n",
       "    <tr>\n",
       "      <th>7</th>\n",
       "      <td>00cek</td>\n",
       "      <td>10.104838</td>\n",
       "      <td>10.208296</td>\n",
       "    </tr>\n",
       "    <tr>\n",
       "      <th>8</th>\n",
       "      <td>00cukup</td>\n",
       "      <td>10.129599</td>\n",
       "      <td>10.208296</td>\n",
       "    </tr>\n",
       "    <tr>\n",
       "      <th>9</th>\n",
       "      <td>00daftar</td>\n",
       "      <td>10.138478</td>\n",
       "      <td>10.208296</td>\n",
       "    </tr>\n",
       "    <tr>\n",
       "      <th>10</th>\n",
       "      <td>00e70</td>\n",
       "      <td>10.126892</td>\n",
       "      <td>10.208296</td>\n",
       "    </tr>\n",
       "    <tr>\n",
       "      <th>11</th>\n",
       "      <td>00gamis</td>\n",
       "      <td>10.126362</td>\n",
       "      <td>10.208296</td>\n",
       "    </tr>\n",
       "    <tr>\n",
       "      <th>12</th>\n",
       "      <td>00grosir</td>\n",
       "      <td>10.128086</td>\n",
       "      <td>10.208296</td>\n",
       "    </tr>\n",
       "    <tr>\n",
       "      <th>13</th>\n",
       "      <td>00hair</td>\n",
       "      <td>10.145823</td>\n",
       "      <td>10.181380</td>\n",
       "    </tr>\n",
       "    <tr>\n",
       "      <th>14</th>\n",
       "      <td>00hari</td>\n",
       "      <td>10.131892</td>\n",
       "      <td>10.208296</td>\n",
       "    </tr>\n",
       "    <tr>\n",
       "      <th>15</th>\n",
       "      <td>00info</td>\n",
       "      <td>10.131587</td>\n",
       "      <td>10.208296</td>\n",
       "    </tr>\n",
       "    <tr>\n",
       "      <th>16</th>\n",
       "      <td>00keuntungan</td>\n",
       "      <td>10.139072</td>\n",
       "      <td>10.208296</td>\n",
       "    </tr>\n",
       "    <tr>\n",
       "      <th>17</th>\n",
       "      <td>00lacewig</td>\n",
       "      <td>10.145823</td>\n",
       "      <td>10.175868</td>\n",
       "    </tr>\n",
       "    <tr>\n",
       "      <th>18</th>\n",
       "      <td>00langsung</td>\n",
       "      <td>10.134130</td>\n",
       "      <td>10.208296</td>\n",
       "    </tr>\n",
       "    <tr>\n",
       "      <th>19</th>\n",
       "      <td>00minimal</td>\n",
       "      <td>10.059389</td>\n",
       "      <td>10.208296</td>\n",
       "    </tr>\n",
       "    <tr>\n",
       "      <th>20</th>\n",
       "      <td>00nikmati</td>\n",
       "      <td>10.128842</td>\n",
       "      <td>10.208296</td>\n",
       "    </tr>\n",
       "    <tr>\n",
       "      <th>21</th>\n",
       "      <td>00pendaftaran</td>\n",
       "      <td>10.141686</td>\n",
       "      <td>10.208296</td>\n",
       "    </tr>\n",
       "    <tr>\n",
       "      <th>22</th>\n",
       "      <td>00pln100</td>\n",
       "      <td>10.137566</td>\n",
       "      <td>10.208296</td>\n",
       "    </tr>\n",
       "    <tr>\n",
       "      <th>23</th>\n",
       "      <td>00pln200</td>\n",
       "      <td>10.141686</td>\n",
       "      <td>10.208296</td>\n",
       "    </tr>\n",
       "    <tr>\n",
       "      <th>24</th>\n",
       "      <td>00pln50</td>\n",
       "      <td>10.141686</td>\n",
       "      <td>10.208296</td>\n",
       "    </tr>\n",
       "    <tr>\n",
       "      <th>25</th>\n",
       "      <td>00poniclip</td>\n",
       "      <td>10.145823</td>\n",
       "      <td>10.181380</td>\n",
       "    </tr>\n",
       "    <tr>\n",
       "      <th>26</th>\n",
       "      <td>00support</td>\n",
       "      <td>10.128033</td>\n",
       "      <td>10.208296</td>\n",
       "    </tr>\n",
       "    <tr>\n",
       "      <th>27</th>\n",
       "      <td>00syarat</td>\n",
       "      <td>10.139108</td>\n",
       "      <td>10.208296</td>\n",
       "    </tr>\n",
       "    <tr>\n",
       "      <th>28</th>\n",
       "      <td>00tapi</td>\n",
       "      <td>10.145823</td>\n",
       "      <td>10.192173</td>\n",
       "    </tr>\n",
       "    <tr>\n",
       "      <th>29</th>\n",
       "      <td>00usd</td>\n",
       "      <td>10.145823</td>\n",
       "      <td>10.190903</td>\n",
       "    </tr>\n",
       "    <tr>\n",
       "      <th>...</th>\n",
       "      <td>...</td>\n",
       "      <td>...</td>\n",
       "      <td>...</td>\n",
       "    </tr>\n",
       "    <tr>\n",
       "      <th>24545</th>\n",
       "      <td>zrmr</td>\n",
       "      <td>10.145823</td>\n",
       "      <td>10.161558</td>\n",
       "    </tr>\n",
       "    <tr>\n",
       "      <th>24546</th>\n",
       "      <td>zuhayr</td>\n",
       "      <td>10.145823</td>\n",
       "      <td>10.164419</td>\n",
       "    </tr>\n",
       "    <tr>\n",
       "      <th>24547</th>\n",
       "      <td>zuhur</td>\n",
       "      <td>10.145823</td>\n",
       "      <td>10.157596</td>\n",
       "    </tr>\n",
       "    <tr>\n",
       "      <th>24548</th>\n",
       "      <td>zukuurr</td>\n",
       "      <td>10.145823</td>\n",
       "      <td>10.162025</td>\n",
       "    </tr>\n",
       "    <tr>\n",
       "      <th>24549</th>\n",
       "      <td>zul</td>\n",
       "      <td>10.145823</td>\n",
       "      <td>10.175323</td>\n",
       "    </tr>\n",
       "    <tr>\n",
       "      <th>24550</th>\n",
       "      <td>zulaicha</td>\n",
       "      <td>10.145823</td>\n",
       "      <td>10.177850</td>\n",
       "    </tr>\n",
       "    <tr>\n",
       "      <th>24551</th>\n",
       "      <td>zulaikahzakaria</td>\n",
       "      <td>10.145823</td>\n",
       "      <td>10.186287</td>\n",
       "    </tr>\n",
       "    <tr>\n",
       "      <th>24552</th>\n",
       "      <td>zulaikhawhatsapp</td>\n",
       "      <td>10.137768</td>\n",
       "      <td>10.208296</td>\n",
       "    </tr>\n",
       "    <tr>\n",
       "      <th>24553</th>\n",
       "      <td>zulfikar</td>\n",
       "      <td>10.145823</td>\n",
       "      <td>10.177437</td>\n",
       "    </tr>\n",
       "    <tr>\n",
       "      <th>24554</th>\n",
       "      <td>zull</td>\n",
       "      <td>10.145823</td>\n",
       "      <td>10.158933</td>\n",
       "    </tr>\n",
       "    <tr>\n",
       "      <th>24555</th>\n",
       "      <td>zulrobertsihombing</td>\n",
       "      <td>10.145823</td>\n",
       "      <td>10.159436</td>\n",
       "    </tr>\n",
       "    <tr>\n",
       "      <th>24556</th>\n",
       "      <td>zuma</td>\n",
       "      <td>10.132458</td>\n",
       "      <td>10.208296</td>\n",
       "    </tr>\n",
       "    <tr>\n",
       "      <th>24557</th>\n",
       "      <td>zumaqiuqiu</td>\n",
       "      <td>10.139118</td>\n",
       "      <td>10.208296</td>\n",
       "    </tr>\n",
       "    <tr>\n",
       "      <th>24558</th>\n",
       "      <td>zumaqq</td>\n",
       "      <td>10.101510</td>\n",
       "      <td>10.208296</td>\n",
       "    </tr>\n",
       "    <tr>\n",
       "      <th>24559</th>\n",
       "      <td>zumaqqbbm</td>\n",
       "      <td>10.139118</td>\n",
       "      <td>10.208296</td>\n",
       "    </tr>\n",
       "    <tr>\n",
       "      <th>24560</th>\n",
       "      <td>zumaqqtwitter</td>\n",
       "      <td>10.139118</td>\n",
       "      <td>10.208296</td>\n",
       "    </tr>\n",
       "    <tr>\n",
       "      <th>24561</th>\n",
       "      <td>zumaqqwe</td>\n",
       "      <td>10.129092</td>\n",
       "      <td>10.208296</td>\n",
       "    </tr>\n",
       "    <tr>\n",
       "      <th>24562</th>\n",
       "      <td>zumbai</td>\n",
       "      <td>10.145823</td>\n",
       "      <td>10.203987</td>\n",
       "    </tr>\n",
       "    <tr>\n",
       "      <th>24563</th>\n",
       "      <td>zus</td>\n",
       "      <td>10.145823</td>\n",
       "      <td>10.174309</td>\n",
       "    </tr>\n",
       "    <tr>\n",
       "      <th>24564</th>\n",
       "      <td>zuul</td>\n",
       "      <td>10.145823</td>\n",
       "      <td>10.181932</td>\n",
       "    </tr>\n",
       "    <tr>\n",
       "      <th>24565</th>\n",
       "      <td>zwa</td>\n",
       "      <td>10.125973</td>\n",
       "      <td>10.208296</td>\n",
       "    </tr>\n",
       "    <tr>\n",
       "      <th>24566</th>\n",
       "      <td>zy</td>\n",
       "      <td>10.145823</td>\n",
       "      <td>10.164971</td>\n",
       "    </tr>\n",
       "    <tr>\n",
       "      <th>24567</th>\n",
       "      <td>zy1321</td>\n",
       "      <td>10.145823</td>\n",
       "      <td>10.164971</td>\n",
       "    </tr>\n",
       "    <tr>\n",
       "      <th>24568</th>\n",
       "      <td>zyd</td>\n",
       "      <td>10.145823</td>\n",
       "      <td>10.188895</td>\n",
       "    </tr>\n",
       "    <tr>\n",
       "      <th>24569</th>\n",
       "      <td>zyrt</td>\n",
       "      <td>10.145823</td>\n",
       "      <td>10.164989</td>\n",
       "    </tr>\n",
       "    <tr>\n",
       "      <th>24570</th>\n",
       "      <td>zyynaa</td>\n",
       "      <td>10.145823</td>\n",
       "      <td>10.168678</td>\n",
       "    </tr>\n",
       "    <tr>\n",
       "      <th>24571</th>\n",
       "      <td>zyzm</td>\n",
       "      <td>10.145823</td>\n",
       "      <td>10.180218</td>\n",
       "    </tr>\n",
       "    <tr>\n",
       "      <th>24572</th>\n",
       "      <td>zzeza</td>\n",
       "      <td>10.145823</td>\n",
       "      <td>10.172213</td>\n",
       "    </tr>\n",
       "    <tr>\n",
       "      <th>24573</th>\n",
       "      <td>zzii</td>\n",
       "      <td>10.145823</td>\n",
       "      <td>10.176195</td>\n",
       "    </tr>\n",
       "    <tr>\n",
       "      <th>24574</th>\n",
       "      <td>zzm</td>\n",
       "      <td>10.122385</td>\n",
       "      <td>10.208296</td>\n",
       "    </tr>\n",
       "  </tbody>\n",
       "</table>\n",
       "<p>24575 rows × 3 columns</p>\n",
       "</div>"
      ],
      "text/plain": [
       "                    fitur   non spam       spam\n",
       "0                      00  10.124647  10.102271\n",
       "1                     003  10.145823  10.181946\n",
       "2                    003g  10.136915  10.208296\n",
       "3                     006  10.107668  10.208296\n",
       "4                     007  10.145823  10.105736\n",
       "5                   00778  10.145823  10.183286\n",
       "6                00alamat  10.136260  10.208296\n",
       "7                   00cek  10.104838  10.208296\n",
       "8                 00cukup  10.129599  10.208296\n",
       "9                00daftar  10.138478  10.208296\n",
       "10                  00e70  10.126892  10.208296\n",
       "11                00gamis  10.126362  10.208296\n",
       "12               00grosir  10.128086  10.208296\n",
       "13                 00hair  10.145823  10.181380\n",
       "14                 00hari  10.131892  10.208296\n",
       "15                 00info  10.131587  10.208296\n",
       "16           00keuntungan  10.139072  10.208296\n",
       "17              00lacewig  10.145823  10.175868\n",
       "18             00langsung  10.134130  10.208296\n",
       "19              00minimal  10.059389  10.208296\n",
       "20              00nikmati  10.128842  10.208296\n",
       "21          00pendaftaran  10.141686  10.208296\n",
       "22               00pln100  10.137566  10.208296\n",
       "23               00pln200  10.141686  10.208296\n",
       "24                00pln50  10.141686  10.208296\n",
       "25             00poniclip  10.145823  10.181380\n",
       "26              00support  10.128033  10.208296\n",
       "27               00syarat  10.139108  10.208296\n",
       "28                 00tapi  10.145823  10.192173\n",
       "29                  00usd  10.145823  10.190903\n",
       "...                   ...        ...        ...\n",
       "24545                zrmr  10.145823  10.161558\n",
       "24546              zuhayr  10.145823  10.164419\n",
       "24547               zuhur  10.145823  10.157596\n",
       "24548             zukuurr  10.145823  10.162025\n",
       "24549                 zul  10.145823  10.175323\n",
       "24550            zulaicha  10.145823  10.177850\n",
       "24551     zulaikahzakaria  10.145823  10.186287\n",
       "24552    zulaikhawhatsapp  10.137768  10.208296\n",
       "24553            zulfikar  10.145823  10.177437\n",
       "24554                zull  10.145823  10.158933\n",
       "24555  zulrobertsihombing  10.145823  10.159436\n",
       "24556                zuma  10.132458  10.208296\n",
       "24557          zumaqiuqiu  10.139118  10.208296\n",
       "24558              zumaqq  10.101510  10.208296\n",
       "24559           zumaqqbbm  10.139118  10.208296\n",
       "24560       zumaqqtwitter  10.139118  10.208296\n",
       "24561            zumaqqwe  10.129092  10.208296\n",
       "24562              zumbai  10.145823  10.203987\n",
       "24563                 zus  10.145823  10.174309\n",
       "24564                zuul  10.145823  10.181932\n",
       "24565                 zwa  10.125973  10.208296\n",
       "24566                  zy  10.145823  10.164971\n",
       "24567              zy1321  10.145823  10.164971\n",
       "24568                 zyd  10.145823  10.188895\n",
       "24569                zyrt  10.145823  10.164989\n",
       "24570              zyynaa  10.145823  10.168678\n",
       "24571                zyzm  10.145823  10.180218\n",
       "24572               zzeza  10.145823  10.172213\n",
       "24573                zzii  10.145823  10.176195\n",
       "24574                 zzm  10.122385  10.208296\n",
       "\n",
       "[24575 rows x 3 columns]"
      ]
     },
     "execution_count": 13,
     "metadata": {},
     "output_type": "execute_result"
    }
   ],
   "source": [
    "dict_ = {\n",
    "    \"fitur\":fitur,\n",
    "    \"non spam\":non_spam_cnb,\n",
    "    \"spam\":spam_cnb,  \n",
    "}\n",
    "\n",
    "df = pd.DataFrame.from_dict(dict_)\n",
    "# df[\"non spam\"] = df[\"non spam\"].astype(float)\n",
    "# df[\"spam\"] = df[\"spam\"].astype(float)\n",
    "df.to_excel(\"model/cnb/bobot_cnb.xlsx\")\n",
    "df"
   ]
  },
  {
   "cell_type": "code",
   "execution_count": 113,
   "metadata": {
    "scrolled": true
   },
   "outputs": [],
   "source": [
    "# dict_cnb"
   ]
  },
  {
   "cell_type": "code",
   "execution_count": null,
   "metadata": {},
   "outputs": [],
   "source": []
  }
 ],
 "metadata": {
  "kernelspec": {
   "display_name": "Python 3",
   "language": "python",
   "name": "python3"
  },
  "language_info": {
   "codemirror_mode": {
    "name": "ipython",
    "version": 3
   },
   "file_extension": ".py",
   "mimetype": "text/x-python",
   "name": "python",
   "nbconvert_exporter": "python",
   "pygments_lexer": "ipython3",
   "version": "3.7.3"
  }
 },
 "nbformat": 4,
 "nbformat_minor": 2
}
