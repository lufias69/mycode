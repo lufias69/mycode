{
 "cells": [
  {
   "cell_type": "code",
   "execution_count": 1,
   "metadata": {},
   "outputs": [],
   "source": [
    "import pandas as pd\n",
    "import numpy as np\n",
    "import joblib\n",
    "from sklearn.metrics import classification_report"
   ]
  },
  {
   "cell_type": "code",
   "execution_count": 2,
   "metadata": {},
   "outputs": [],
   "source": [
    "root = \"../../\""
   ]
  },
  {
   "cell_type": "code",
   "execution_count": 24,
   "metadata": {},
   "outputs": [
    {
     "data": {
      "text/html": [
       "<div>\n",
       "<style scoped>\n",
       "    .dataframe tbody tr th:only-of-type {\n",
       "        vertical-align: middle;\n",
       "    }\n",
       "\n",
       "    .dataframe tbody tr th {\n",
       "        vertical-align: top;\n",
       "    }\n",
       "\n",
       "    .dataframe thead th {\n",
       "        text-align: right;\n",
       "    }\n",
       "</style>\n",
       "<table border=\"1\" class=\"dataframe\">\n",
       "  <thead>\n",
       "    <tr style=\"text-align: right;\">\n",
       "      <th></th>\n",
       "      <th>Unnamed: 0</th>\n",
       "      <th>Column1</th>\n",
       "      <th>prediksi</th>\n",
       "      <th>label</th>\n",
       "      <th>komentar</th>\n",
       "      <th>komentar2</th>\n",
       "      <th>komentar21</th>\n",
       "    </tr>\n",
       "  </thead>\n",
       "  <tbody>\n",
       "    <tr>\n",
       "      <th>0</th>\n",
       "      <td>0</td>\n",
       "      <td>0</td>\n",
       "      <td>non spam</td>\n",
       "      <td>non spam</td>\n",
       "      <td>@akiraanoya hahaha ngakak saya mbak pas mbak b...</td>\n",
       "      <td>akiraanoya nan tertawa mbak pas mbak bilang ka...</td>\n",
       "      <td>akiraanoya nan tertawa mbak pas mbak bilang ka...</td>\n",
       "    </tr>\n",
       "    <tr>\n",
       "      <th>1</th>\n",
       "      <td>1</td>\n",
       "      <td>1</td>\n",
       "      <td>non spam</td>\n",
       "      <td>non spam</td>\n",
       "      <td>@riris_adam hahaha semoga sih,, tp awas jgn ny...</td>\n",
       "      <td>riris adam nan moga sih awas jangan sesal kemu...</td>\n",
       "      <td>ririsadam nan moga sih awas jangan sesal kemud...</td>\n",
       "    </tr>\n",
       "    <tr>\n",
       "      <th>2</th>\n",
       "      <td>2</td>\n",
       "      <td>2</td>\n",
       "      <td>non spam</td>\n",
       "      <td>non spam</td>\n",
       "      <td>Wah wah wah seandainya aja presiden jokowi den...</td>\n",
       "      <td>wah wah wah aja presiden jokowi tegas tetap at...</td>\n",
       "      <td>wah wah wah aja presiden jokowi tegas tetap at...</td>\n",
       "    </tr>\n",
       "    <tr>\n",
       "      <th>3</th>\n",
       "      <td>3</td>\n",
       "      <td>3</td>\n",
       "      <td>spam</td>\n",
       "      <td>non spam</td>\n",
       "      <td>Kak gigi cantiknya pake bingitss. 😍😍Semangat s...</td>\n",
       "      <td>kak gigi cantik pakai banget semangat sore toy...</td>\n",
       "      <td>kak gigi cantik pakai banget semangat sore toy...</td>\n",
       "    </tr>\n",
       "    <tr>\n",
       "      <th>4</th>\n",
       "      <td>4</td>\n",
       "      <td>4</td>\n",
       "      <td>non spam</td>\n",
       "      <td>non spam</td>\n",
       "      <td>@theanakesuma  yg jelas yg bocor itu ya mulut ...</td>\n",
       "      <td>theanakesuma jelas bocor mulut bibir perot si ...</td>\n",
       "      <td>theanakesuma jelas bocor mulut bibir perot si ...</td>\n",
       "    </tr>\n",
       "  </tbody>\n",
       "</table>\n",
       "</div>"
      ],
      "text/plain": [
       "   Unnamed: 0  Column1  prediksi     label  \\\n",
       "0           0        0  non spam  non spam   \n",
       "1           1        1  non spam  non spam   \n",
       "2           2        2  non spam  non spam   \n",
       "3           3        3      spam  non spam   \n",
       "4           4        4  non spam  non spam   \n",
       "\n",
       "                                            komentar  \\\n",
       "0  @akiraanoya hahaha ngakak saya mbak pas mbak b...   \n",
       "1  @riris_adam hahaha semoga sih,, tp awas jgn ny...   \n",
       "2  Wah wah wah seandainya aja presiden jokowi den...   \n",
       "3  Kak gigi cantiknya pake bingitss. 😍😍Semangat s...   \n",
       "4  @theanakesuma  yg jelas yg bocor itu ya mulut ...   \n",
       "\n",
       "                                           komentar2  \\\n",
       "0  akiraanoya nan tertawa mbak pas mbak bilang ka...   \n",
       "1  riris adam nan moga sih awas jangan sesal kemu...   \n",
       "2  wah wah wah aja presiden jokowi tegas tetap at...   \n",
       "3  kak gigi cantik pakai banget semangat sore toy...   \n",
       "4  theanakesuma jelas bocor mulut bibir perot si ...   \n",
       "\n",
       "                                          komentar21  \n",
       "0  akiraanoya nan tertawa mbak pas mbak bilang ka...  \n",
       "1  ririsadam nan moga sih awas jangan sesal kemud...  \n",
       "2  wah wah wah aja presiden jokowi tegas tetap at...  \n",
       "3  kak gigi cantik pakai banget semangat sore toy...  \n",
       "4  theanakesuma jelas bocor mulut bibir perot si ...  "
      ]
     },
     "execution_count": 24,
     "metadata": {},
     "output_type": "execute_result"
    }
   ],
   "source": [
    "data=pd.read_excel(root+r\"data\\data_uji\\data_ujiX2.xlsx\")\n",
    "data = data.fillna(\"*\")\n",
    "komentar = data.komentar21.tolist()\n",
    "y_true  = data.label.tolist()\n",
    "data.head()"
   ]
  },
  {
   "cell_type": "code",
   "execution_count": 25,
   "metadata": {},
   "outputs": [],
   "source": [
    "#load model\n",
    "path = root+r\"Pemodelan\\data21/\""
   ]
  },
  {
   "cell_type": "code",
   "execution_count": 26,
   "metadata": {},
   "outputs": [],
   "source": [
    "pembobotan_imbang_freq = joblib.load(path+\"tak_imbang/\"+\"pembobotan_imbang_tf.w\")\n",
    "pembobotan_imbang_bin = joblib.load(path+\"tak_imbang/\"+\"pembobotan_imbang_bin.w\")"
   ]
  },
  {
   "cell_type": "markdown",
   "metadata": {},
   "source": [
    "# CNB"
   ]
  },
  {
   "cell_type": "code",
   "execution_count": 27,
   "metadata": {},
   "outputs": [],
   "source": [
    "cnb_tfidf = joblib.load(path+\"tak_imbang/\"+\"imbang_cnb_tfidf.model\")\n",
    "cnb_tf = joblib.load(path+\"tak_imbang/\"+\"imbang_cnb_tf.model\")\n",
    "cnb_bin = joblib.load(path+\"tak_imbang/\"+\"imbang_cnb_bin.model\")"
   ]
  },
  {
   "cell_type": "markdown",
   "metadata": {},
   "source": [
    "### 1. TFIDF"
   ]
  },
  {
   "cell_type": "code",
   "execution_count": 28,
   "metadata": {},
   "outputs": [
    {
     "name": "stdout",
     "output_type": "stream",
     "text": [
      "              precision    recall  f1-score   support\n",
      "\n",
      "    non spam       0.94      0.98      0.96       509\n",
      "        spam       0.98      0.94      0.96       495\n",
      "\n",
      "    accuracy                           0.96      1004\n",
      "   macro avg       0.96      0.96      0.96      1004\n",
      "weighted avg       0.96      0.96      0.96      1004\n",
      "\n"
     ]
    }
   ],
   "source": [
    "cnb_tfidf.set_params(alpha = 3)\n",
    "# print(cnb_tfidf)\n",
    "y_pred = cnb_tfidf.predict(pembobotan_imbang_freq.transform(komentar))\n",
    "target_names = list(set(y_true))\n",
    "print(classification_report(y_true, y_pred, target_names=target_names))"
   ]
  },
  {
   "cell_type": "code",
   "execution_count": 29,
   "metadata": {},
   "outputs": [],
   "source": [
    "# data[\"prediksi\"] = y_pred\n",
    "# data.to_excel(\"tambahan_prediksi2.xlsx\")"
   ]
  },
  {
   "cell_type": "markdown",
   "metadata": {},
   "source": [
    "### 2. TF"
   ]
  },
  {
   "cell_type": "code",
   "execution_count": 30,
   "metadata": {},
   "outputs": [
    {
     "name": "stdout",
     "output_type": "stream",
     "text": [
      "              precision    recall  f1-score   support\n",
      "\n",
      "    non spam       0.96      0.97      0.97       509\n",
      "        spam       0.97      0.96      0.97       495\n",
      "\n",
      "    accuracy                           0.97      1004\n",
      "   macro avg       0.97      0.97      0.97      1004\n",
      "weighted avg       0.97      0.97      0.97      1004\n",
      "\n"
     ]
    }
   ],
   "source": [
    "cnb_tf.set_params(alpha = 4)\n",
    "y_pred = cnb_tf.predict(pembobotan_imbang_freq.transform(komentar))\n",
    "target_names = list(set(y_true))\n",
    "print(classification_report(y_true, y_pred, target_names=target_names))"
   ]
  },
  {
   "cell_type": "markdown",
   "metadata": {},
   "source": [
    "### 3. Bin "
   ]
  },
  {
   "cell_type": "code",
   "execution_count": 31,
   "metadata": {},
   "outputs": [
    {
     "name": "stdout",
     "output_type": "stream",
     "text": [
      "              precision    recall  f1-score   support\n",
      "\n",
      "    non spam       0.96      0.97      0.97       509\n",
      "        spam       0.97      0.96      0.97       495\n",
      "\n",
      "    accuracy                           0.97      1004\n",
      "   macro avg       0.97      0.97      0.97      1004\n",
      "weighted avg       0.97      0.97      0.97      1004\n",
      "\n"
     ]
    }
   ],
   "source": [
    "cnb_tf.set_params(alpha = 3.5)\n",
    "y_pred = cnb_bin.predict(pembobotan_imbang_bin.transform(komentar))\n",
    "target_names = list(set(y_true))\n",
    "print(classification_report(y_true, y_pred, target_names=target_names))"
   ]
  },
  {
   "cell_type": "code",
   "execution_count": null,
   "metadata": {},
   "outputs": [],
   "source": []
  },
  {
   "cell_type": "markdown",
   "metadata": {},
   "source": [
    "# MNB"
   ]
  },
  {
   "cell_type": "code",
   "execution_count": 32,
   "metadata": {},
   "outputs": [],
   "source": [
    "mnb_tfidf = joblib.load(path+\"tak_imbang/\"+\"imbang_mnb_tfidf.model\")\n",
    "mnb_tf = joblib.load(path+\"tak_imbang/\"+\"imbang_mnb_tf.model\")\n",
    "mnb_bin = joblib.load(path+\"tak_imbang/\"+\"imbang_mnb_bin.model\")"
   ]
  },
  {
   "cell_type": "markdown",
   "metadata": {},
   "source": [
    "### 1. TFIDF"
   ]
  },
  {
   "cell_type": "code",
   "execution_count": 33,
   "metadata": {},
   "outputs": [
    {
     "name": "stdout",
     "output_type": "stream",
     "text": [
      "              precision    recall  f1-score   support\n",
      "\n",
      "    non spam       0.94      0.99      0.96       509\n",
      "        spam       0.99      0.93      0.96       495\n",
      "\n",
      "    accuracy                           0.96      1004\n",
      "   macro avg       0.96      0.96      0.96      1004\n",
      "weighted avg       0.96      0.96      0.96      1004\n",
      "\n"
     ]
    }
   ],
   "source": [
    "y_pred = mnb_tfidf.predict(pembobotan_imbang_freq.transform(komentar))\n",
    "target_names = list(set(y_true))\n",
    "print(classification_report(y_true, y_pred, target_names=target_names))"
   ]
  },
  {
   "cell_type": "markdown",
   "metadata": {},
   "source": [
    "### 2. TF"
   ]
  },
  {
   "cell_type": "code",
   "execution_count": 34,
   "metadata": {},
   "outputs": [
    {
     "name": "stdout",
     "output_type": "stream",
     "text": [
      "              precision    recall  f1-score   support\n",
      "\n",
      "    non spam       0.96      0.98      0.97       509\n",
      "        spam       0.98      0.96      0.97       495\n",
      "\n",
      "    accuracy                           0.97      1004\n",
      "   macro avg       0.97      0.97      0.97      1004\n",
      "weighted avg       0.97      0.97      0.97      1004\n",
      "\n"
     ]
    }
   ],
   "source": [
    "y_pred = mnb_tf.predict(pembobotan_imbang_freq.transform(komentar))\n",
    "target_names = list(set(y_true))\n",
    "print(classification_report(y_true, y_pred, target_names=target_names))"
   ]
  },
  {
   "cell_type": "markdown",
   "metadata": {},
   "source": [
    "# 3. Bin"
   ]
  },
  {
   "cell_type": "code",
   "execution_count": 35,
   "metadata": {},
   "outputs": [
    {
     "name": "stdout",
     "output_type": "stream",
     "text": [
      "              precision    recall  f1-score   support\n",
      "\n",
      "    non spam       0.96      0.98      0.97       509\n",
      "        spam       0.98      0.96      0.97       495\n",
      "\n",
      "    accuracy                           0.97      1004\n",
      "   macro avg       0.97      0.97      0.97      1004\n",
      "weighted avg       0.97      0.97      0.97      1004\n",
      "\n"
     ]
    }
   ],
   "source": [
    "y_pred = mnb_bin.predict(pembobotan_imbang_bin.transform(komentar))\n",
    "target_names = list(set(y_true))\n",
    "print(classification_report(y_true, y_pred, target_names=target_names))"
   ]
  },
  {
   "cell_type": "markdown",
   "metadata": {},
   "source": [
    "# Gaussian"
   ]
  },
  {
   "cell_type": "code",
   "execution_count": 36,
   "metadata": {},
   "outputs": [],
   "source": [
    "gnb_tfidf = joblib.load(path+\"tak_imbang/\"+\"imbang_gnb_tfidf.model\")\n",
    "gnb_tf = joblib.load(path+\"tak_imbang/\"+\"imbang_gnb_tf.model\")\n",
    "gnb_bin = joblib.load(path+\"tak_imbang/\"+\"imbang_gnb_bin.model\")"
   ]
  },
  {
   "cell_type": "markdown",
   "metadata": {},
   "source": [
    "### 1. TFIDF"
   ]
  },
  {
   "cell_type": "code",
   "execution_count": 37,
   "metadata": {},
   "outputs": [
    {
     "name": "stdout",
     "output_type": "stream",
     "text": [
      "              precision    recall  f1-score   support\n",
      "\n",
      "    non spam       0.85      0.67      0.75       509\n",
      "        spam       0.72      0.88      0.79       495\n",
      "\n",
      "    accuracy                           0.77      1004\n",
      "   macro avg       0.78      0.77      0.77      1004\n",
      "weighted avg       0.79      0.77      0.77      1004\n",
      "\n"
     ]
    }
   ],
   "source": [
    "y_pred = gnb_tfidf.predict(pembobotan_imbang_freq.transform(komentar).A)\n",
    "target_names = list(set(y_true))\n",
    "print(classification_report(y_true, y_pred, target_names=target_names))"
   ]
  },
  {
   "cell_type": "markdown",
   "metadata": {},
   "source": [
    "### 2. TF"
   ]
  },
  {
   "cell_type": "code",
   "execution_count": 38,
   "metadata": {},
   "outputs": [
    {
     "name": "stdout",
     "output_type": "stream",
     "text": [
      "              precision    recall  f1-score   support\n",
      "\n",
      "    non spam       0.85      0.67      0.75       509\n",
      "        spam       0.72      0.88      0.79       495\n",
      "\n",
      "    accuracy                           0.77      1004\n",
      "   macro avg       0.78      0.77      0.77      1004\n",
      "weighted avg       0.79      0.77      0.77      1004\n",
      "\n"
     ]
    }
   ],
   "source": [
    "gnb_tf.set_params( var_smoothing=0.0003)\n",
    "y_pred = gnb_tf.predict(pembobotan_imbang_freq.transform(komentar).A)\n",
    "target_names = list(set(y_true))\n",
    "print(classification_report(y_true, y_pred, target_names=target_names))"
   ]
  },
  {
   "cell_type": "markdown",
   "metadata": {},
   "source": [
    "### 3. BIN"
   ]
  },
  {
   "cell_type": "code",
   "execution_count": 39,
   "metadata": {},
   "outputs": [
    {
     "name": "stdout",
     "output_type": "stream",
     "text": [
      "              precision    recall  f1-score   support\n",
      "\n",
      "    non spam       0.85      0.66      0.75       509\n",
      "        spam       0.72      0.88      0.79       495\n",
      "\n",
      "    accuracy                           0.77      1004\n",
      "   macro avg       0.78      0.77      0.77      1004\n",
      "weighted avg       0.78      0.77      0.77      1004\n",
      "\n"
     ]
    }
   ],
   "source": [
    "y_pred = gnb_bin.predict(pembobotan_imbang_bin.transform(komentar).A)\n",
    "target_names = list(set(y_true))\n",
    "print(classification_report(y_true, y_pred, target_names=target_names))"
   ]
  },
  {
   "cell_type": "code",
   "execution_count": null,
   "metadata": {},
   "outputs": [],
   "source": []
  },
  {
   "cell_type": "markdown",
   "metadata": {},
   "source": [
    "# NBC"
   ]
  },
  {
   "cell_type": "code",
   "execution_count": 40,
   "metadata": {},
   "outputs": [],
   "source": [
    "nbc_bin = joblib.load(path+\"tak_imbang/\"+\"imbang_nbc_bin.model\")\n",
    "nbc_bin.alpha = 1"
   ]
  },
  {
   "cell_type": "code",
   "execution_count": 41,
   "metadata": {},
   "outputs": [
    {
     "name": "stdout",
     "output_type": "stream",
     "text": [
      "1\n",
      "              precision    recall  f1-score   support\n",
      "\n",
      "    non spam       0.92      0.99      0.95       509\n",
      "        spam       0.99      0.91      0.95       495\n",
      "\n",
      "    accuracy                           0.95      1004\n",
      "   macro avg       0.96      0.95      0.95      1004\n",
      "weighted avg       0.95      0.95      0.95      1004\n",
      "\n"
     ]
    }
   ],
   "source": [
    "print(nbc_bin.alpha)\n",
    "y_pred = nbc_bin.predict(np.array(komentar))\n",
    "target_names = list(set(y_true))\n",
    "print(classification_report(y_true, y_pred, target_names=target_names))\n",
    "del y_pred"
   ]
  },
  {
   "cell_type": "code",
   "execution_count": null,
   "metadata": {},
   "outputs": [],
   "source": []
  },
  {
   "cell_type": "code",
   "execution_count": null,
   "metadata": {},
   "outputs": [],
   "source": []
  }
 ],
 "metadata": {
  "kernelspec": {
   "display_name": "Python 3",
   "language": "python",
   "name": "python3"
  },
  "language_info": {
   "codemirror_mode": {
    "name": "ipython",
    "version": 3
   },
   "file_extension": ".py",
   "mimetype": "text/x-python",
   "name": "python",
   "nbconvert_exporter": "python",
   "pygments_lexer": "ipython3",
   "version": "3.7.3"
  }
 },
 "nbformat": 4,
 "nbformat_minor": 2
}
