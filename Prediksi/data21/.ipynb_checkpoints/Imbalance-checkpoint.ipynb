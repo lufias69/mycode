{
 "cells": [
  {
   "cell_type": "code",
   "execution_count": 1,
   "metadata": {},
   "outputs": [],
   "source": [
    "import pandas as pd\n",
    "import numpy as np\n",
    "import joblib\n",
    "from sklearn.metrics import classification_report"
   ]
  },
  {
   "cell_type": "code",
   "execution_count": 2,
   "metadata": {},
   "outputs": [],
   "source": [
    "root = \"../../\""
   ]
  },
  {
   "cell_type": "code",
   "execution_count": 3,
   "metadata": {},
   "outputs": [
    {
     "data": {
      "text/html": [
       "<div>\n",
       "<style scoped>\n",
       "    .dataframe tbody tr th:only-of-type {\n",
       "        vertical-align: middle;\n",
       "    }\n",
       "\n",
       "    .dataframe tbody tr th {\n",
       "        vertical-align: top;\n",
       "    }\n",
       "\n",
       "    .dataframe thead th {\n",
       "        text-align: right;\n",
       "    }\n",
       "</style>\n",
       "<table border=\"1\" class=\"dataframe\">\n",
       "  <thead>\n",
       "    <tr style=\"text-align: right;\">\n",
       "      <th></th>\n",
       "      <th>Column2</th>\n",
       "      <th>Unnamed: 0</th>\n",
       "      <th>Column1</th>\n",
       "      <th>prediksi</th>\n",
       "      <th>label</th>\n",
       "      <th>komentar</th>\n",
       "      <th>komentar_kotor</th>\n",
       "    </tr>\n",
       "  </thead>\n",
       "  <tbody>\n",
       "    <tr>\n",
       "      <th>0</th>\n",
       "      <td>147</td>\n",
       "      <td>147</td>\n",
       "      <td>159</td>\n",
       "      <td>spam</td>\n",
       "      <td>spam</td>\n",
       "      <td>raffinagita 1717 kasih banyak kakak rekomendas...</td>\n",
       "      <td>raffinagita1717 Makasihhh banyaaakkk kkaa udah...</td>\n",
       "    </tr>\n",
       "    <tr>\n",
       "      <th>1</th>\n",
       "      <td>172</td>\n",
       "      <td>172</td>\n",
       "      <td>184</td>\n",
       "      <td>spam</td>\n",
       "      <td>spam</td>\n",
       "      <td>halo geng berdineshoe adakan give away loh bur...</td>\n",
       "      <td>Halo gengs @berdineshoe lagi ngadain give away...</td>\n",
       "    </tr>\n",
       "    <tr>\n",
       "      <th>2</th>\n",
       "      <td>196</td>\n",
       "      <td>196</td>\n",
       "      <td>208</td>\n",
       "      <td>spam</td>\n",
       "      <td>spam</td>\n",
       "      <td>bagus bg dika musang pandan ekor putih harga p...</td>\n",
       "      <td>Itu bagus loohh bg @raditya_dika musang pandan...</td>\n",
       "    </tr>\n",
       "    <tr>\n",
       "      <th>3</th>\n",
       "      <td>216</td>\n",
       "      <td>216</td>\n",
       "      <td>228</td>\n",
       "      <td>spam</td>\n",
       "      <td>spam</td>\n",
       "      <td>senang banget biasa kendal sama tinggi riski h...</td>\n",
       "      <td>Sennengg banngget dehh biisaa kenall sammaa pe...</td>\n",
       "    </tr>\n",
       "    <tr>\n",
       "      <th>4</th>\n",
       "      <td>308</td>\n",
       "      <td>308</td>\n",
       "      <td>320</td>\n",
       "      <td>spam</td>\n",
       "      <td>spam</td>\n",
       "      <td>maaf kakak endors dokter tinggi langsing canti...</td>\n",
       "      <td>😘😍Maaf Kakaa_endorsee yaa@DOKTER_TINGGI_LANGSI...</td>\n",
       "    </tr>\n",
       "  </tbody>\n",
       "</table>\n",
       "</div>"
      ],
      "text/plain": [
       "   Column2  Unnamed: 0  Column1 prediksi label  \\\n",
       "0      147         147      159     spam  spam   \n",
       "1      172         172      184     spam  spam   \n",
       "2      196         196      208     spam  spam   \n",
       "3      216         216      228     spam  spam   \n",
       "4      308         308      320     spam  spam   \n",
       "\n",
       "                                            komentar  \\\n",
       "0  raffinagita 1717 kasih banyak kakak rekomendas...   \n",
       "1  halo geng berdineshoe adakan give away loh bur...   \n",
       "2  bagus bg dika musang pandan ekor putih harga p...   \n",
       "3  senang banget biasa kendal sama tinggi riski h...   \n",
       "4  maaf kakak endors dokter tinggi langsing canti...   \n",
       "\n",
       "                                      komentar_kotor  \n",
       "0  raffinagita1717 Makasihhh banyaaakkk kkaa udah...  \n",
       "1  Halo gengs @berdineshoe lagi ngadain give away...  \n",
       "2  Itu bagus loohh bg @raditya_dika musang pandan...  \n",
       "3  Sennengg banngget dehh biisaa kenall sammaa pe...  \n",
       "4  😘😍Maaf Kakaa_endorsee yaa@DOKTER_TINGGI_LANGSI...  "
      ]
     },
     "execution_count": 3,
     "metadata": {},
     "output_type": "execute_result"
    }
   ],
   "source": [
    "data=pd.read_excel(root+r\"data\\data_uji\\data_ujiXX.xlsx\")\n",
    "komentar = data.komentar.tolist()\n",
    "y_true  = data.label.tolist()\n",
    "data.head()"
   ]
  },
  {
   "cell_type": "code",
   "execution_count": 80,
   "metadata": {},
   "outputs": [],
   "source": [
    "#load model\n",
    "path = root+r\"Pemodelan/\""
   ]
  },
  {
   "cell_type": "code",
   "execution_count": 81,
   "metadata": {},
   "outputs": [],
   "source": [
    "pembobotan_imbang_freq = joblib.load(path+\"tak_imbang/\"+\"pembobotan_imbang_tf.w\")\n",
    "pembobotan_imbang_bin = joblib.load(path+\"tak_imbang/\"+\"pembobotan_imbang_bin.w\")"
   ]
  },
  {
   "cell_type": "markdown",
   "metadata": {},
   "source": [
    "# CNB"
   ]
  },
  {
   "cell_type": "code",
   "execution_count": 82,
   "metadata": {},
   "outputs": [],
   "source": [
    "cnb_tfidf = joblib.load(path+\"tak_imbang/\"+\"imbang_cnb_tfidf.model\")\n",
    "cnb_tf = joblib.load(path+\"tak_imbang/\"+\"imbang_cnb_tf.model\")\n",
    "cnb_bin = joblib.load(path+\"tak_imbang/\"+\"imbang_cnb_bin.model\")"
   ]
  },
  {
   "cell_type": "markdown",
   "metadata": {},
   "source": [
    "### 1. TFIDF"
   ]
  },
  {
   "cell_type": "code",
   "execution_count": 103,
   "metadata": {},
   "outputs": [
    {
     "name": "stdout",
     "output_type": "stream",
     "text": [
      "              precision    recall  f1-score   support\n",
      "\n",
      "    non spam       0.98      0.99      0.99       518\n",
      "        spam       0.99      0.98      0.98       486\n",
      "\n",
      "    accuracy                           0.99      1004\n",
      "   macro avg       0.99      0.98      0.99      1004\n",
      "weighted avg       0.99      0.99      0.99      1004\n",
      "\n"
     ]
    }
   ],
   "source": [
    "cnb_tfidf.set_params(alpha = 3)\n",
    "# print(cnb_tfidf)\n",
    "y_pred = cnb_tfidf.predict(pembobotan_imbang_freq.transform(komentar))\n",
    "target_names = list(set(y_true))\n",
    "print(classification_report(y_true, y_pred, target_names=target_names))"
   ]
  },
  {
   "cell_type": "code",
   "execution_count": 99,
   "metadata": {},
   "outputs": [],
   "source": [
    "# data[\"prediksi\"] = y_pred\n",
    "# data.to_excel(\"tambahan_prediksi2.xlsx\")"
   ]
  },
  {
   "cell_type": "markdown",
   "metadata": {},
   "source": [
    "### 2. TF"
   ]
  },
  {
   "cell_type": "code",
   "execution_count": 105,
   "metadata": {},
   "outputs": [
    {
     "name": "stdout",
     "output_type": "stream",
     "text": [
      "              precision    recall  f1-score   support\n",
      "\n",
      "    non spam       0.99      0.97      0.98       518\n",
      "        spam       0.97      0.99      0.98       486\n",
      "\n",
      "    accuracy                           0.98      1004\n",
      "   macro avg       0.98      0.98      0.98      1004\n",
      "weighted avg       0.98      0.98      0.98      1004\n",
      "\n"
     ]
    }
   ],
   "source": [
    "cnb_tf.set_params(alpha = 4)\n",
    "y_pred = cnb_tf.predict(pembobotan_imbang_freq.transform(komentar))\n",
    "target_names = list(set(y_true))\n",
    "print(classification_report(y_true, y_pred, target_names=target_names))"
   ]
  },
  {
   "cell_type": "markdown",
   "metadata": {},
   "source": [
    "### 3. Bin "
   ]
  },
  {
   "cell_type": "code",
   "execution_count": 106,
   "metadata": {},
   "outputs": [
    {
     "name": "stdout",
     "output_type": "stream",
     "text": [
      "              precision    recall  f1-score   support\n",
      "\n",
      "    non spam       0.99      0.97      0.98       518\n",
      "        spam       0.97      0.99      0.98       486\n",
      "\n",
      "    accuracy                           0.98      1004\n",
      "   macro avg       0.98      0.98      0.98      1004\n",
      "weighted avg       0.98      0.98      0.98      1004\n",
      "\n"
     ]
    }
   ],
   "source": [
    "cnb_tf.set_params(alpha = 3.5)\n",
    "y_pred = cnb_bin.predict(pembobotan_imbang_bin.transform(komentar))\n",
    "target_names = list(set(y_true))\n",
    "print(classification_report(y_true, y_pred, target_names=target_names))"
   ]
  },
  {
   "cell_type": "code",
   "execution_count": null,
   "metadata": {},
   "outputs": [],
   "source": []
  },
  {
   "cell_type": "markdown",
   "metadata": {},
   "source": [
    "# MNB"
   ]
  },
  {
   "cell_type": "code",
   "execution_count": 88,
   "metadata": {},
   "outputs": [],
   "source": [
    "mnb_tfidf = joblib.load(path+\"tak_imbang/\"+\"imbang_mnb_tfidf.model\")\n",
    "mnb_tf = joblib.load(path+\"tak_imbang/\"+\"imbang_mnb_tf.model\")\n",
    "mnb_bin = joblib.load(path+\"tak_imbang/\"+\"imbang_mnb_bin.model\")"
   ]
  },
  {
   "cell_type": "markdown",
   "metadata": {},
   "source": [
    "### 1. TFIDF"
   ]
  },
  {
   "cell_type": "code",
   "execution_count": 89,
   "metadata": {},
   "outputs": [
    {
     "name": "stdout",
     "output_type": "stream",
     "text": [
      "              precision    recall  f1-score   support\n",
      "\n",
      "    non spam       0.97      0.99      0.98       518\n",
      "        spam       0.99      0.97      0.98       486\n",
      "\n",
      "    accuracy                           0.98      1004\n",
      "   macro avg       0.98      0.98      0.98      1004\n",
      "weighted avg       0.98      0.98      0.98      1004\n",
      "\n"
     ]
    }
   ],
   "source": [
    "y_pred = mnb_tfidf.predict(pembobotan_imbang_freq.transform(komentar))\n",
    "target_names = list(set(y_true))\n",
    "print(classification_report(y_true, y_pred, target_names=target_names))"
   ]
  },
  {
   "cell_type": "markdown",
   "metadata": {},
   "source": [
    "### 2. TF"
   ]
  },
  {
   "cell_type": "code",
   "execution_count": 90,
   "metadata": {},
   "outputs": [
    {
     "name": "stdout",
     "output_type": "stream",
     "text": [
      "              precision    recall  f1-score   support\n",
      "\n",
      "    non spam       0.99      0.98      0.99       518\n",
      "        spam       0.98      0.99      0.99       486\n",
      "\n",
      "    accuracy                           0.99      1004\n",
      "   macro avg       0.99      0.99      0.99      1004\n",
      "weighted avg       0.99      0.99      0.99      1004\n",
      "\n"
     ]
    }
   ],
   "source": [
    "y_pred = mnb_tf.predict(pembobotan_imbang_freq.transform(komentar))\n",
    "target_names = list(set(y_true))\n",
    "print(classification_report(y_true, y_pred, target_names=target_names))"
   ]
  },
  {
   "cell_type": "markdown",
   "metadata": {},
   "source": [
    "# 3. Bin"
   ]
  },
  {
   "cell_type": "code",
   "execution_count": 91,
   "metadata": {},
   "outputs": [
    {
     "name": "stdout",
     "output_type": "stream",
     "text": [
      "              precision    recall  f1-score   support\n",
      "\n",
      "    non spam       0.99      0.98      0.99       518\n",
      "        spam       0.98      0.99      0.99       486\n",
      "\n",
      "    accuracy                           0.99      1004\n",
      "   macro avg       0.99      0.99      0.99      1004\n",
      "weighted avg       0.99      0.99      0.99      1004\n",
      "\n"
     ]
    }
   ],
   "source": [
    "y_pred = mnb_bin.predict(pembobotan_imbang_bin.transform(komentar))\n",
    "target_names = list(set(y_true))\n",
    "print(classification_report(y_true, y_pred, target_names=target_names))"
   ]
  },
  {
   "cell_type": "markdown",
   "metadata": {},
   "source": [
    "# Gaussian"
   ]
  },
  {
   "cell_type": "code",
   "execution_count": 92,
   "metadata": {},
   "outputs": [],
   "source": [
    "gnb_tfidf = joblib.load(path+\"tak_imbang/\"+\"imbang_gnb_tfidf.model\")\n",
    "gnb_tf = joblib.load(path+\"tak_imbang/\"+\"imbang_gnb_tf.model\")\n",
    "gnb_bin = joblib.load(path+\"tak_imbang/\"+\"imbang_gnb_bin.model\")"
   ]
  },
  {
   "cell_type": "markdown",
   "metadata": {},
   "source": [
    "### 1. TFIDF"
   ]
  },
  {
   "cell_type": "code",
   "execution_count": 94,
   "metadata": {},
   "outputs": [
    {
     "name": "stdout",
     "output_type": "stream",
     "text": [
      "              precision    recall  f1-score   support\n",
      "\n",
      "    non spam       0.84      0.67      0.75       518\n",
      "        spam       0.71      0.87      0.78       486\n",
      "\n",
      "    accuracy                           0.77      1004\n",
      "   macro avg       0.78      0.77      0.76      1004\n",
      "weighted avg       0.78      0.77      0.76      1004\n",
      "\n"
     ]
    }
   ],
   "source": [
    "y_pred = gnb_tfidf.predict(pembobotan_imbang_freq.transform(komentar).A)\n",
    "target_names = list(set(y_true))\n",
    "print(classification_report(y_true, y_pred, target_names=target_names))"
   ]
  },
  {
   "cell_type": "markdown",
   "metadata": {},
   "source": [
    "### 2. TF"
   ]
  },
  {
   "cell_type": "code",
   "execution_count": 101,
   "metadata": {},
   "outputs": [
    {
     "name": "stdout",
     "output_type": "stream",
     "text": [
      "              precision    recall  f1-score   support\n",
      "\n",
      "    non spam       0.84      0.67      0.75       518\n",
      "        spam       0.71      0.87      0.78       486\n",
      "\n",
      "    accuracy                           0.77      1004\n",
      "   macro avg       0.78      0.77      0.76      1004\n",
      "weighted avg       0.78      0.77      0.76      1004\n",
      "\n"
     ]
    }
   ],
   "source": [
    "gnb_tf.set_params( var_smoothing=0.0003)\n",
    "y_pred = gnb_tf.predict(pembobotan_imbang_freq.transform(komentar).A)\n",
    "target_names = list(set(y_true))\n",
    "print(classification_report(y_true, y_pred, target_names=target_names))"
   ]
  },
  {
   "cell_type": "markdown",
   "metadata": {},
   "source": [
    "### 3. BIN"
   ]
  },
  {
   "cell_type": "code",
   "execution_count": 102,
   "metadata": {},
   "outputs": [
    {
     "name": "stdout",
     "output_type": "stream",
     "text": [
      "              precision    recall  f1-score   support\n",
      "\n",
      "    non spam       0.84      0.67      0.74       518\n",
      "        spam       0.71      0.86      0.78       486\n",
      "\n",
      "    accuracy                           0.76      1004\n",
      "   macro avg       0.77      0.77      0.76      1004\n",
      "weighted avg       0.78      0.76      0.76      1004\n",
      "\n"
     ]
    }
   ],
   "source": [
    "y_pred = gnb_bin.predict(pembobotan_imbang_bin.transform(komentar).A)\n",
    "target_names = list(set(y_true))\n",
    "print(classification_report(y_true, y_pred, target_names=target_names))"
   ]
  },
  {
   "cell_type": "code",
   "execution_count": null,
   "metadata": {},
   "outputs": [],
   "source": []
  },
  {
   "cell_type": "markdown",
   "metadata": {},
   "source": [
    "# NBC"
   ]
  },
  {
   "cell_type": "code",
   "execution_count": 107,
   "metadata": {},
   "outputs": [],
   "source": [
    "nbc_bin = joblib.load(path+\"tak_imbang/\"+\"imbang_nbc_bin.model\")\n",
    "nbc_bin.alpha = 1"
   ]
  },
  {
   "cell_type": "code",
   "execution_count": 108,
   "metadata": {},
   "outputs": [
    {
     "name": "stdout",
     "output_type": "stream",
     "text": [
      "1\n",
      "              precision    recall  f1-score   support\n",
      "\n",
      "    non spam       0.95      0.99      0.97       518\n",
      "        spam       0.99      0.94      0.97       486\n",
      "\n",
      "    accuracy                           0.97      1004\n",
      "   macro avg       0.97      0.97      0.97      1004\n",
      "weighted avg       0.97      0.97      0.97      1004\n",
      "\n"
     ]
    }
   ],
   "source": [
    "print(nbc_bin.alpha)\n",
    "y_pred = nbc_bin.predict(np.array(komentar))\n",
    "target_names = list(set(y_true))\n",
    "print(classification_report(y_true, y_pred, target_names=target_names))\n",
    "del y_pred"
   ]
  },
  {
   "cell_type": "code",
   "execution_count": null,
   "metadata": {},
   "outputs": [],
   "source": []
  },
  {
   "cell_type": "code",
   "execution_count": null,
   "metadata": {},
   "outputs": [],
   "source": []
  }
 ],
 "metadata": {
  "kernelspec": {
   "display_name": "Python 3",
   "language": "python",
   "name": "python3"
  },
  "language_info": {
   "codemirror_mode": {
    "name": "ipython",
    "version": 3
   },
   "file_extension": ".py",
   "mimetype": "text/x-python",
   "name": "python",
   "nbconvert_exporter": "python",
   "pygments_lexer": "ipython3",
   "version": "3.7.3"
  }
 },
 "nbformat": 4,
 "nbformat_minor": 2
}
