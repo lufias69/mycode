{
 "cells": [
  {
   "cell_type": "code",
   "execution_count": 1,
   "metadata": {},
   "outputs": [],
   "source": [
    "from Naive_Bayes import naive_bayes as nb\n",
    "import numpy as np\n",
    "import pandas as pd\n",
    "import joblib\n",
    "from Naive_Bayes import naive_bayes as nb"
   ]
  },
  {
   "cell_type": "code",
   "execution_count": 2,
   "metadata": {},
   "outputs": [],
   "source": [
    "def batches(my_list, n):\n",
    "    final = [my_list[i * n:(i + 1) * n] for i in range((len(my_list) + n - 1) // n )]\n",
    "    return final"
   ]
  },
  {
   "cell_type": "code",
   "execution_count": 8,
   "metadata": {},
   "outputs": [],
   "source": [
    "del data_\n",
    "del label"
   ]
  },
  {
   "cell_type": "code",
   "execution_count": 30,
   "metadata": {},
   "outputs": [
    {
     "data": {
      "text/html": [
       "<div>\n",
       "<style scoped>\n",
       "    .dataframe tbody tr th:only-of-type {\n",
       "        vertical-align: middle;\n",
       "    }\n",
       "\n",
       "    .dataframe tbody tr th {\n",
       "        vertical-align: top;\n",
       "    }\n",
       "\n",
       "    .dataframe thead th {\n",
       "        text-align: right;\n",
       "    }\n",
       "</style>\n",
       "<table border=\"1\" class=\"dataframe\">\n",
       "  <thead>\n",
       "    <tr style=\"text-align: right;\">\n",
       "      <th></th>\n",
       "      <th>index</th>\n",
       "      <th>no</th>\n",
       "      <th>label</th>\n",
       "      <th>komentar</th>\n",
       "    </tr>\n",
       "  </thead>\n",
       "  <tbody>\n",
       "    <tr>\n",
       "      <th>19409</th>\n",
       "      <td>54113</td>\n",
       "      <td>19410</td>\n",
       "      <td>spam</td>\n",
       "      <td>yuk bantu like foto baby amira instagram model...</td>\n",
       "    </tr>\n",
       "    <tr>\n",
       "      <th>19410</th>\n",
       "      <td>2769</td>\n",
       "      <td>19411</td>\n",
       "      <td>non spam</td>\n",
       "      <td>baru sadar pas bicara deadpool</td>\n",
       "    </tr>\n",
       "    <tr>\n",
       "      <th>19411</th>\n",
       "      <td>8815</td>\n",
       "      <td>19412</td>\n",
       "      <td>non spam</td>\n",
       "      <td>banyak reviuw rumah pandu mah malah jd acara p...</td>\n",
       "    </tr>\n",
       "    <tr>\n",
       "      <th>19412</th>\n",
       "      <td>53090</td>\n",
       "      <td>19413</td>\n",
       "      <td>spam</td>\n",
       "      <td>keren banget produk darll dokter zhafira alat ...</td>\n",
       "    </tr>\n",
       "    <tr>\n",
       "      <th>19413</th>\n",
       "      <td>65955</td>\n",
       "      <td>19414</td>\n",
       "      <td>spam</td>\n",
       "      <td>guys tugas kalian promosi sana promosi sini aj...</td>\n",
       "    </tr>\n",
       "  </tbody>\n",
       "</table>\n",
       "</div>"
      ],
      "text/plain": [
       "       index     no     label  \\\n",
       "19409  54113  19410      spam   \n",
       "19410   2769  19411  non spam   \n",
       "19411   8815  19412  non spam   \n",
       "19412  53090  19413      spam   \n",
       "19413  65955  19414      spam   \n",
       "\n",
       "                                                komentar  \n",
       "19409  yuk bantu like foto baby amira instagram model...  \n",
       "19410                     baru sadar pas bicara deadpool  \n",
       "19411  banyak reviuw rumah pandu mah malah jd acara p...  \n",
       "19412  keren banget produk darll dokter zhafira alat ...  \n",
       "19413  guys tugas kalian promosi sana promosi sini aj...  "
      ]
     },
     "execution_count": 30,
     "metadata": {},
     "output_type": "execute_result"
    }
   ],
   "source": [
    "data_ = pd.read_excel(\"../../data_latih/hasil_seleksi_New3.xlsx\", sheet_name = \"imbang\")\n",
    "komentar = data_['komentar'].tolist()\n",
    "label = data_['label'].tolist()\n",
    "data_.tail()"
   ]
  },
  {
   "cell_type": "code",
   "execution_count": 31,
   "metadata": {},
   "outputs": [],
   "source": [
    "Y = np.array(label)"
   ]
  },
  {
   "cell_type": "code",
   "execution_count": 32,
   "metadata": {},
   "outputs": [
    {
     "name": "stdout",
     "output_type": "stream",
     "text": [
      "(19414, 29236)\n",
      "(19414, 29236)\n"
     ]
    }
   ],
   "source": [
    "from sklearn.feature_extraction.text import TfidfVectorizer\n",
    "from sklearn.feature_extraction.text import CountVectorizer\n",
    "\n",
    "vectorizer = TfidfVectorizer()\n",
    "X = vectorizer.fit_transform(komentar)\n",
    "fitur = vectorizer.get_feature_names()\n",
    "print(X.shape) \n",
    "vectorizer = CountVectorizer(vocabulary = fitur)\n",
    "model_tf   = vectorizer.fit(komentar)\n",
    "# joblib.dump(model_tf, \"tak_imbang\\pembobotan_tf.w\")\n",
    "print(X.shape)"
   ]
  },
  {
   "cell_type": "code",
   "execution_count": 13,
   "metadata": {},
   "outputs": [],
   "source": [
    "# from sklearn.naive_bayes import ComplementNB\n",
    "# from sklearn.naive_bayes import MultinomialNB\n",
    "# from sklearn.naive_bayes import GaussianNB"
   ]
  },
  {
   "cell_type": "code",
   "execution_count": 33,
   "metadata": {},
   "outputs": [
    {
     "data": {
      "text/plain": [
       "['imbang\\\\gnb_tfidf.model']"
      ]
     },
     "execution_count": 33,
     "metadata": {},
     "output_type": "execute_result"
    }
   ],
   "source": [
    "clf = nb.Gaussian()\n",
    "# for batch in batches(np.arange(X.shape[0]), 1000):\n",
    "#     clf.partial_fit(X[batch].A, Y[batch], np.unique(Y))\n",
    "clf.train(X,Y)\n",
    "joblib.dump(clf, \"imbang\\gnb_tfidf.model\")"
   ]
  },
  {
   "cell_type": "code",
   "execution_count": 34,
   "metadata": {},
   "outputs": [
    {
     "data": {
      "text/plain": [
       "<19414x29236 sparse matrix of type '<class 'numpy.int64'>'\n",
       "\twith 237768 stored elements in Compressed Sparse Row format>"
      ]
     },
     "execution_count": 34,
     "metadata": {},
     "output_type": "execute_result"
    }
   ],
   "source": [
    "model_tf.transform(komentar)"
   ]
  },
  {
   "cell_type": "code",
   "execution_count": 35,
   "metadata": {},
   "outputs": [
    {
     "data": {
      "text/plain": [
       "['imbang\\\\gnb_tf.model']"
      ]
     },
     "execution_count": 35,
     "metadata": {},
     "output_type": "execute_result"
    }
   ],
   "source": [
    "clf = nb.Gaussian()\n",
    "# for batch in batches(np.arange(X.shape[0]), 1000):\n",
    "#     clf.partial_fit(X[batch].A, Y[batch], np.unique(Y))\n",
    "clf.train(model_tf.transform(komentar),Y)\n",
    "joblib.dump(clf, \"imbang\\gnb_tf.model\")"
   ]
  },
  {
   "cell_type": "code",
   "execution_count": 36,
   "metadata": {},
   "outputs": [
    {
     "data": {
      "text/plain": [
       "['imbang\\\\gnb_bin.model']"
      ]
     },
     "execution_count": 36,
     "metadata": {},
     "output_type": "execute_result"
    }
   ],
   "source": [
    "vectorizer = CountVectorizer(vocabulary = fitur, binary = True)\n",
    "model_tf   = vectorizer.fit(komentar)\n",
    "clf = nb.Gaussian()\n",
    "# clf = GaussianNB()\n",
    "# for batch in batches(np.arange(X.shape[0]), 1000):\n",
    "#     clf.partial_fit(X[batch].A, Y[batch], np.unique(Y))\n",
    "clf.train(model_tf.transform(komentar),Y)\n",
    "joblib.dump(clf, \"imbang\\gnb_bin.model\")\n",
    "# joblib.dump(model_tf, \"tak_imbang\\pembobotan_bin.w\")"
   ]
  },
  {
   "cell_type": "code",
   "execution_count": null,
   "metadata": {},
   "outputs": [],
   "source": []
  },
  {
   "cell_type": "code",
   "execution_count": 7,
   "metadata": {},
   "outputs": [],
   "source": [
    "# clf = nb.Gaussian()"
   ]
  },
  {
   "cell_type": "code",
   "execution_count": 10,
   "metadata": {},
   "outputs": [],
   "source": [
    "# clf.train(X,Y)"
   ]
  },
  {
   "cell_type": "code",
   "execution_count": 11,
   "metadata": {},
   "outputs": [
    {
     "data": {
      "text/plain": [
       "array(['non spam', 'non spam', 'non spam', 'non spam', 'non spam',\n",
       "       'non spam', 'non spam', 'non spam', 'non spam', 'non spam',\n",
       "       'non spam', 'non spam', 'non spam', 'non spam', 'non spam',\n",
       "       'non spam', 'non spam', 'non spam', 'non spam', 'non spam',\n",
       "       'non spam', 'non spam', 'non spam', 'non spam', 'non spam',\n",
       "       'non spam', 'non spam', 'non spam', 'non spam', 'non spam',\n",
       "       'non spam', 'non spam', 'non spam', 'non spam', 'non spam',\n",
       "       'non spam', 'non spam', 'non spam', 'non spam', 'non spam',\n",
       "       'non spam', 'non spam', 'non spam', 'non spam', 'non spam',\n",
       "       'non spam', 'non spam', 'non spam', 'non spam', 'non spam',\n",
       "       'non spam', 'non spam', 'non spam', 'non spam', 'non spam',\n",
       "       'non spam', 'non spam', 'non spam', 'non spam', 'non spam',\n",
       "       'non spam', 'non spam', 'non spam', 'non spam', 'non spam',\n",
       "       'non spam', 'non spam', 'non spam', 'spam', 'non spam', 'spam',\n",
       "       'non spam', 'non spam', 'non spam', 'non spam', 'non spam',\n",
       "       'non spam', 'non spam', 'non spam', 'non spam', 'non spam',\n",
       "       'non spam', 'non spam', 'non spam', 'non spam', 'non spam',\n",
       "       'non spam', 'non spam', 'non spam', 'non spam', 'non spam',\n",
       "       'non spam', 'non spam', 'non spam', 'non spam', 'non spam',\n",
       "       'non spam', 'non spam', 'non spam', 'non spam'], dtype='<U8')"
      ]
     },
     "execution_count": 11,
     "metadata": {},
     "output_type": "execute_result"
    }
   ],
   "source": [
    "# clf.predict(X[:100])"
   ]
  },
  {
   "cell_type": "code",
   "execution_count": 12,
   "metadata": {},
   "outputs": [
    {
     "data": {
      "text/plain": [
       "array(['non spam', 'non spam', 'non spam', 'non spam', 'non spam',\n",
       "       'non spam', 'non spam', 'non spam', 'non spam', 'non spam',\n",
       "       'non spam', 'non spam', 'non spam', 'non spam', 'spam', 'non spam',\n",
       "       'non spam', 'non spam', 'non spam', 'non spam', 'spam', 'non spam',\n",
       "       'non spam', 'non spam', 'non spam', 'non spam', 'non spam', 'spam',\n",
       "       'non spam', 'non spam', 'non spam', 'non spam', 'spam', 'non spam',\n",
       "       'non spam', 'non spam', 'non spam', 'non spam', 'spam', 'non spam',\n",
       "       'non spam', 'non spam', 'non spam', 'non spam', 'non spam',\n",
       "       'non spam', 'spam', 'non spam', 'non spam', 'non spam', 'spam',\n",
       "       'non spam', 'non spam', 'non spam', 'non spam', 'non spam',\n",
       "       'non spam', 'non spam', 'non spam', 'non spam', 'non spam', 'spam',\n",
       "       'non spam', 'non spam', 'non spam', 'non spam', 'non spam',\n",
       "       'non spam', 'non spam', 'spam', 'non spam', 'non spam', 'non spam',\n",
       "       'non spam', 'non spam', 'non spam', 'non spam', 'non spam',\n",
       "       'non spam', 'non spam', 'non spam', 'non spam', 'non spam',\n",
       "       'non spam', 'non spam', 'non spam', 'non spam', 'non spam',\n",
       "       'non spam', 'non spam', 'non spam', 'non spam', 'non spam',\n",
       "       'non spam', 'spam', 'non spam', 'non spam', 'spam', 'spam',\n",
       "       'non spam'], dtype='<U8')"
      ]
     },
     "execution_count": 12,
     "metadata": {},
     "output_type": "execute_result"
    }
   ],
   "source": [
    "# Y[:100]"
   ]
  },
  {
   "cell_type": "code",
   "execution_count": null,
   "metadata": {},
   "outputs": [],
   "source": []
  }
 ],
 "metadata": {
  "kernelspec": {
   "display_name": "Python 3",
   "language": "python",
   "name": "python3"
  },
  "language_info": {
   "codemirror_mode": {
    "name": "ipython",
    "version": 3
   },
   "file_extension": ".py",
   "mimetype": "text/x-python",
   "name": "python",
   "nbconvert_exporter": "python",
   "pygments_lexer": "ipython3",
   "version": "3.7.3"
  }
 },
 "nbformat": 4,
 "nbformat_minor": 2
}
