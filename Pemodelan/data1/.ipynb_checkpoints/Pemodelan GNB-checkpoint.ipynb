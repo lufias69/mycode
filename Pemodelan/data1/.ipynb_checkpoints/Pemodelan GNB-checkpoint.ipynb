{
 "cells": [
  {
   "cell_type": "code",
   "execution_count": 1,
   "metadata": {},
   "outputs": [],
   "source": [
    "from Naive_Bayes import naive_bayes as nb\n",
    "import numpy as np\n",
    "import pandas as pd\n",
    "import joblib\n",
    "from Naive_Bayes import naive_bayes as nb"
   ]
  },
  {
   "cell_type": "code",
   "execution_count": 2,
   "metadata": {},
   "outputs": [],
   "source": [
    "def batches(my_list, n):\n",
    "    final = [my_list[i * n:(i + 1) * n] for i in range((len(my_list) + n - 1) // n )]\n",
    "    return final"
   ]
  },
  {
   "cell_type": "code",
   "execution_count": 8,
   "metadata": {},
   "outputs": [],
   "source": [
    "del data_\n",
    "del label"
   ]
  },
  {
   "cell_type": "code",
   "execution_count": 15,
   "metadata": {},
   "outputs": [
    {
     "data": {
      "text/html": [
       "<div>\n",
       "<style scoped>\n",
       "    .dataframe tbody tr th:only-of-type {\n",
       "        vertical-align: middle;\n",
       "    }\n",
       "\n",
       "    .dataframe tbody tr th {\n",
       "        vertical-align: top;\n",
       "    }\n",
       "\n",
       "    .dataframe thead th {\n",
       "        text-align: right;\n",
       "    }\n",
       "</style>\n",
       "<table border=\"1\" class=\"dataframe\">\n",
       "  <thead>\n",
       "    <tr style=\"text-align: right;\">\n",
       "      <th></th>\n",
       "      <th>Unnamed: 0</th>\n",
       "      <th>label</th>\n",
       "      <th>komentar</th>\n",
       "      <th>komentar_kotor</th>\n",
       "      <th>kode salah</th>\n",
       "    </tr>\n",
       "  </thead>\n",
       "  <tbody>\n",
       "    <tr>\n",
       "      <th>0</th>\n",
       "      <td>0</td>\n",
       "      <td>non spam</td>\n",
       "      <td>homwsti iri banget artis g nan ajak acara geng...</td>\n",
       "      <td>@homwsti iri bnget artisnya g d ajak acara ber...</td>\n",
       "      <td>0</td>\n",
       "    </tr>\n",
       "    <tr>\n",
       "      <th>1</th>\n",
       "      <td>1</td>\n",
       "      <td>non spam</td>\n",
       "      <td>tulis email nama depan dr huruf s</td>\n",
       "      <td>Yang nulis email pasti nama depannya dr huruf S</td>\n",
       "      <td>0</td>\n",
       "    </tr>\n",
       "    <tr>\n",
       "      <th>2</th>\n",
       "      <td>2</td>\n",
       "      <td>non spam</td>\n",
       "      <td>salfok sama telinga</td>\n",
       "      <td>Salfok sama telinganya😹😹</td>\n",
       "      <td>0</td>\n",
       "    </tr>\n",
       "    <tr>\n",
       "      <th>3</th>\n",
       "      <td>3</td>\n",
       "      <td>non spam</td>\n",
       "      <td>egapratiwwi youtube guankirim lu nan</td>\n",
       "      <td>@egapratiwwi youtubenya udh guankirim ke lu hahha</td>\n",
       "      <td>0</td>\n",
       "    </tr>\n",
       "    <tr>\n",
       "      <th>4</th>\n",
       "      <td>4</td>\n",
       "      <td>non spam</td>\n",
       "      <td>abang radit mahh emang keren terimakasih bela ...</td>\n",
       "      <td>Abang radit mahh emang keren,,,,👏👏👏👍👍👍,,,terim...</td>\n",
       "      <td>0</td>\n",
       "    </tr>\n",
       "  </tbody>\n",
       "</table>\n",
       "</div>"
      ],
      "text/plain": [
       "   Unnamed: 0     label                                           komentar  \\\n",
       "0           0  non spam  homwsti iri banget artis g nan ajak acara geng...   \n",
       "1           1  non spam                  tulis email nama depan dr huruf s   \n",
       "2           2  non spam                                salfok sama telinga   \n",
       "3           3  non spam               egapratiwwi youtube guankirim lu nan   \n",
       "4           4  non spam  abang radit mahh emang keren terimakasih bela ...   \n",
       "\n",
       "                                      komentar_kotor  kode salah  \n",
       "0  @homwsti iri bnget artisnya g d ajak acara ber...           0  \n",
       "1    Yang nulis email pasti nama depannya dr huruf S           0  \n",
       "2                           Salfok sama telinganya😹😹           0  \n",
       "3  @egapratiwwi youtubenya udh guankirim ke lu hahha           0  \n",
       "4  Abang radit mahh emang keren,,,,👏👏👏👍👍👍,,,terim...           0  "
      ]
     },
     "execution_count": 15,
     "metadata": {},
     "output_type": "execute_result"
    }
   ],
   "source": [
    "data_ = pd.read_excel(\"../../data_latih/hasil_seleksi_New3.xlsx\", sheet_name = \"Sheet1\")\n",
    "komentar = data_['komentar'].tolist()\n",
    "label = data_['label'].tolist()\n",
    "data_.head()"
   ]
  },
  {
   "cell_type": "code",
   "execution_count": 4,
   "metadata": {},
   "outputs": [],
   "source": [
    "Y = np.array(label)"
   ]
  },
  {
   "cell_type": "code",
   "execution_count": 18,
   "metadata": {},
   "outputs": [
    {
     "name": "stdout",
     "output_type": "stream",
     "text": [
      "(66269, 61669)\n",
      "(66269, 61669)\n"
     ]
    }
   ],
   "source": [
    "from sklearn.feature_extraction.text import TfidfVectorizer\n",
    "from sklearn.feature_extraction.text import CountVectorizer\n",
    "\n",
    "vectorizer = TfidfVectorizer()\n",
    "X = vectorizer.fit_transform(komentar)\n",
    "fitur = vectorizer.get_feature_names()\n",
    "print(X.shape) \n",
    "vectorizer = CountVectorizer(vocabulary = fitur)\n",
    "model_tf   = vectorizer.fit(komentar)\n",
    "joblib.dump(model_tf, \"tak_imbang\\pembobotan_tf.w\")\n",
    "print(X.shape)"
   ]
  },
  {
   "cell_type": "code",
   "execution_count": 13,
   "metadata": {},
   "outputs": [],
   "source": [
    "# from sklearn.naive_bayes import ComplementNB\n",
    "# from sklearn.naive_bayes import MultinomialNB\n",
    "# from sklearn.naive_bayes import GaussianNB"
   ]
  },
  {
   "cell_type": "code",
   "execution_count": 14,
   "metadata": {},
   "outputs": [
    {
     "data": {
      "text/plain": [
       "['tak_imbang\\\\gnb_tfidf.model']"
      ]
     },
     "execution_count": 14,
     "metadata": {},
     "output_type": "execute_result"
    }
   ],
   "source": [
    "clf = nb.Gaussian()\n",
    "# for batch in batches(np.arange(X.shape[0]), 1000):\n",
    "#     clf.partial_fit(X[batch].A, Y[batch], np.unique(Y))\n",
    "clf.train(X,Y)\n",
    "joblib.dump(clf, \"tak_imbang\\gnb_tfidf.model\")"
   ]
  },
  {
   "cell_type": "code",
   "execution_count": 23,
   "metadata": {},
   "outputs": [
    {
     "data": {
      "text/plain": [
       "<66269x61669 sparse matrix of type '<class 'numpy.int64'>'\n",
       "\twith 591431 stored elements in Compressed Sparse Row format>"
      ]
     },
     "execution_count": 23,
     "metadata": {},
     "output_type": "execute_result"
    }
   ],
   "source": [
    "model_tf.transform(komentar)"
   ]
  },
  {
   "cell_type": "code",
   "execution_count": 24,
   "metadata": {},
   "outputs": [
    {
     "data": {
      "text/plain": [
       "['tak_imbang\\\\gnb_tf.model']"
      ]
     },
     "execution_count": 24,
     "metadata": {},
     "output_type": "execute_result"
    }
   ],
   "source": [
    "clf = nb.Gaussian()\n",
    "# for batch in batches(np.arange(X.shape[0]), 1000):\n",
    "#     clf.partial_fit(X[batch].A, Y[batch], np.unique(Y))\n",
    "clf.train(model_tf.transform(komentar),Y)\n",
    "joblib.dump(clf, \"tak_imbang\\gnb_tf.model\")"
   ]
  },
  {
   "cell_type": "code",
   "execution_count": 25,
   "metadata": {},
   "outputs": [
    {
     "data": {
      "text/plain": [
       "['tak_imbang\\\\pembobotan_bin.w']"
      ]
     },
     "execution_count": 25,
     "metadata": {},
     "output_type": "execute_result"
    }
   ],
   "source": [
    "vectorizer = CountVectorizer(vocabulary = fitur, binary = True)\n",
    "model_tf   = vectorizer.fit(komentar)\n",
    "clf = nb.Gaussian()\n",
    "# clf = GaussianNB()\n",
    "# for batch in batches(np.arange(X.shape[0]), 1000):\n",
    "#     clf.partial_fit(X[batch].A, Y[batch], np.unique(Y))\n",
    "clf.train(model_tf.transform(komentar),Y)\n",
    "joblib.dump(clf, \"tak_imbang\\gnb_bin.model\")\n",
    "joblib.dump(model_tf, \"tak_imbang\\pembobotan_bin.w\")"
   ]
  },
  {
   "cell_type": "code",
   "execution_count": null,
   "metadata": {},
   "outputs": [],
   "source": []
  },
  {
   "cell_type": "code",
   "execution_count": 7,
   "metadata": {},
   "outputs": [],
   "source": [
    "# clf = nb.Gaussian()"
   ]
  },
  {
   "cell_type": "code",
   "execution_count": 10,
   "metadata": {},
   "outputs": [],
   "source": [
    "# clf.train(X,Y)"
   ]
  },
  {
   "cell_type": "code",
   "execution_count": 11,
   "metadata": {},
   "outputs": [
    {
     "data": {
      "text/plain": [
       "array(['non spam', 'non spam', 'non spam', 'non spam', 'non spam',\n",
       "       'non spam', 'non spam', 'non spam', 'non spam', 'non spam',\n",
       "       'non spam', 'non spam', 'non spam', 'non spam', 'non spam',\n",
       "       'non spam', 'non spam', 'non spam', 'non spam', 'non spam',\n",
       "       'non spam', 'non spam', 'non spam', 'non spam', 'non spam',\n",
       "       'non spam', 'non spam', 'non spam', 'non spam', 'non spam',\n",
       "       'non spam', 'non spam', 'non spam', 'non spam', 'non spam',\n",
       "       'non spam', 'non spam', 'non spam', 'non spam', 'non spam',\n",
       "       'non spam', 'non spam', 'non spam', 'non spam', 'non spam',\n",
       "       'non spam', 'non spam', 'non spam', 'non spam', 'non spam',\n",
       "       'non spam', 'non spam', 'non spam', 'non spam', 'non spam',\n",
       "       'non spam', 'non spam', 'non spam', 'non spam', 'non spam',\n",
       "       'non spam', 'non spam', 'non spam', 'non spam', 'non spam',\n",
       "       'non spam', 'non spam', 'non spam', 'spam', 'non spam', 'spam',\n",
       "       'non spam', 'non spam', 'non spam', 'non spam', 'non spam',\n",
       "       'non spam', 'non spam', 'non spam', 'non spam', 'non spam',\n",
       "       'non spam', 'non spam', 'non spam', 'non spam', 'non spam',\n",
       "       'non spam', 'non spam', 'non spam', 'non spam', 'non spam',\n",
       "       'non spam', 'non spam', 'non spam', 'non spam', 'non spam',\n",
       "       'non spam', 'non spam', 'non spam', 'non spam'], dtype='<U8')"
      ]
     },
     "execution_count": 11,
     "metadata": {},
     "output_type": "execute_result"
    }
   ],
   "source": [
    "# clf.predict(X[:100])"
   ]
  },
  {
   "cell_type": "code",
   "execution_count": 12,
   "metadata": {},
   "outputs": [
    {
     "data": {
      "text/plain": [
       "array(['non spam', 'non spam', 'non spam', 'non spam', 'non spam',\n",
       "       'non spam', 'non spam', 'non spam', 'non spam', 'non spam',\n",
       "       'non spam', 'non spam', 'non spam', 'non spam', 'spam', 'non spam',\n",
       "       'non spam', 'non spam', 'non spam', 'non spam', 'spam', 'non spam',\n",
       "       'non spam', 'non spam', 'non spam', 'non spam', 'non spam', 'spam',\n",
       "       'non spam', 'non spam', 'non spam', 'non spam', 'spam', 'non spam',\n",
       "       'non spam', 'non spam', 'non spam', 'non spam', 'spam', 'non spam',\n",
       "       'non spam', 'non spam', 'non spam', 'non spam', 'non spam',\n",
       "       'non spam', 'spam', 'non spam', 'non spam', 'non spam', 'spam',\n",
       "       'non spam', 'non spam', 'non spam', 'non spam', 'non spam',\n",
       "       'non spam', 'non spam', 'non spam', 'non spam', 'non spam', 'spam',\n",
       "       'non spam', 'non spam', 'non spam', 'non spam', 'non spam',\n",
       "       'non spam', 'non spam', 'spam', 'non spam', 'non spam', 'non spam',\n",
       "       'non spam', 'non spam', 'non spam', 'non spam', 'non spam',\n",
       "       'non spam', 'non spam', 'non spam', 'non spam', 'non spam',\n",
       "       'non spam', 'non spam', 'non spam', 'non spam', 'non spam',\n",
       "       'non spam', 'non spam', 'non spam', 'non spam', 'non spam',\n",
       "       'non spam', 'spam', 'non spam', 'non spam', 'spam', 'spam',\n",
       "       'non spam'], dtype='<U8')"
      ]
     },
     "execution_count": 12,
     "metadata": {},
     "output_type": "execute_result"
    }
   ],
   "source": [
    "# Y[:100]"
   ]
  },
  {
   "cell_type": "code",
   "execution_count": null,
   "metadata": {},
   "outputs": [],
   "source": []
  }
 ],
 "metadata": {
  "kernelspec": {
   "display_name": "Python 3",
   "language": "python",
   "name": "python3"
  },
  "language_info": {
   "codemirror_mode": {
    "name": "ipython",
    "version": 3
   },
   "file_extension": ".py",
   "mimetype": "text/x-python",
   "name": "python",
   "nbconvert_exporter": "python",
   "pygments_lexer": "ipython3",
   "version": "3.7.3"
  }
 },
 "nbformat": 4,
 "nbformat_minor": 2
}
