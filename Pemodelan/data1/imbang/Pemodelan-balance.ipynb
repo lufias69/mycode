{
 "cells": [
  {
   "cell_type": "code",
   "execution_count": 1,
   "metadata": {},
   "outputs": [],
   "source": [
    "from Naive_Bayes import naive_bayes as nb\n",
    "import numpy as np\n",
    "import pandas as pd\n",
    "import joblib"
   ]
  },
  {
   "cell_type": "code",
   "execution_count": 5,
   "metadata": {},
   "outputs": [
    {
     "data": {
      "text/html": [
       "<div>\n",
       "<style scoped>\n",
       "    .dataframe tbody tr th:only-of-type {\n",
       "        vertical-align: middle;\n",
       "    }\n",
       "\n",
       "    .dataframe tbody tr th {\n",
       "        vertical-align: top;\n",
       "    }\n",
       "\n",
       "    .dataframe thead th {\n",
       "        text-align: right;\n",
       "    }\n",
       "</style>\n",
       "<table border=\"1\" class=\"dataframe\">\n",
       "  <thead>\n",
       "    <tr style=\"text-align: right;\">\n",
       "      <th></th>\n",
       "      <th>index</th>\n",
       "      <th>no</th>\n",
       "      <th>label</th>\n",
       "      <th>komentar</th>\n",
       "    </tr>\n",
       "  </thead>\n",
       "  <tbody>\n",
       "    <tr>\n",
       "      <th>0</th>\n",
       "      <td>6873</td>\n",
       "      <td>1</td>\n",
       "      <td>non spam</td>\n",
       "      <td>syifahanifk neneng sok komen ning</td>\n",
       "    </tr>\n",
       "    <tr>\n",
       "      <th>1</th>\n",
       "      <td>5373</td>\n",
       "      <td>2</td>\n",
       "      <td>non spam</td>\n",
       "      <td>enggak usah diet aa n mbak gita libur nikmat</td>\n",
       "    </tr>\n",
       "    <tr>\n",
       "      <th>2</th>\n",
       "      <td>244</td>\n",
       "      <td>3</td>\n",
       "      <td>non spam</td>\n",
       "      <td>ludevil 66 hijrah pelan pelan vroh penting nia...</td>\n",
       "    </tr>\n",
       "    <tr>\n",
       "      <th>3</th>\n",
       "      <td>50668</td>\n",
       "      <td>4</td>\n",
       "      <td>spam</td>\n",
       "      <td>grosir kartu kuota tsel 17gb 26rb 30 gb 33rb 4...</td>\n",
       "    </tr>\n",
       "    <tr>\n",
       "      <th>4</th>\n",
       "      <td>9694</td>\n",
       "      <td>5</td>\n",
       "      <td>non spam</td>\n",
       "      <td>cantik banget raffi untung banget punya istri ...</td>\n",
       "    </tr>\n",
       "  </tbody>\n",
       "</table>\n",
       "</div>"
      ],
      "text/plain": [
       "   index  no     label                                           komentar\n",
       "0   6873   1  non spam                  syifahanifk neneng sok komen ning\n",
       "1   5373   2  non spam      enggak usah diet aa n mbak gita libur nikmat \n",
       "2    244   3  non spam  ludevil 66 hijrah pelan pelan vroh penting nia...\n",
       "3  50668   4      spam  grosir kartu kuota tsel 17gb 26rb 30 gb 33rb 4...\n",
       "4   9694   5  non spam  cantik banget raffi untung banget punya istri ..."
      ]
     },
     "execution_count": 5,
     "metadata": {},
     "output_type": "execute_result"
    }
   ],
   "source": [
    "data_ = pd.read_excel(\"../../../data_latih/hasil_seleksi_New3.xlsx\", sheet_name = \"imbang\")\n",
    "komentar = data_['komentar'].tolist()\n",
    "label = data_['label'].tolist()\n",
    "data_.head()"
   ]
  },
  {
   "cell_type": "code",
   "execution_count": 6,
   "metadata": {},
   "outputs": [
    {
     "name": "stdout",
     "output_type": "stream",
     "text": [
      "(19414, 29236)\n",
      "(19414, 29236)\n"
     ]
    }
   ],
   "source": [
    "from sklearn.feature_extraction.text import TfidfVectorizer\n",
    "from sklearn.feature_extraction.text import CountVectorizer\n",
    "\n",
    "vectorizer = TfidfVectorizer()\n",
    "X = vectorizer.fit_transform(komentar)\n",
    "fitur = vectorizer.get_feature_names()\n",
    "print(X.shape) \n",
    "vectorizer = CountVectorizer(vocabulary = fitur)\n",
    "model_tf   = vectorizer.fit(komentar)\n",
    "# joblib.dump(model_tf, \"pembobotan_tak_imbang_tf.w\")\n",
    "print(X.shape)"
   ]
  },
  {
   "cell_type": "code",
   "execution_count": 7,
   "metadata": {},
   "outputs": [],
   "source": [
    "from sklearn.naive_bayes import ComplementNB\n",
    "from sklearn.naive_bayes import MultinomialNB\n",
    "# from sklearn.naive_bayes import GaussianNB"
   ]
  },
  {
   "cell_type": "code",
   "execution_count": 8,
   "metadata": {},
   "outputs": [
    {
     "data": {
      "text/plain": [
       "['cnb_tfidf.model']"
      ]
     },
     "execution_count": 8,
     "metadata": {},
     "output_type": "execute_result"
    }
   ],
   "source": [
    "clf = ComplementNB()\n",
    "clf.fit(X, label)\n",
    "joblib.dump(clf, \"cnb_tfidf.model\")"
   ]
  },
  {
   "cell_type": "code",
   "execution_count": 9,
   "metadata": {},
   "outputs": [
    {
     "data": {
      "text/plain": [
       "['cnb_tf.model']"
      ]
     },
     "execution_count": 9,
     "metadata": {},
     "output_type": "execute_result"
    }
   ],
   "source": [
    "clf = ComplementNB()\n",
    "clf.fit(model_tf.transform(komentar), label)\n",
    "joblib.dump(clf, \"cnb_tf.model\")"
   ]
  },
  {
   "cell_type": "code",
   "execution_count": 10,
   "metadata": {},
   "outputs": [
    {
     "data": {
      "text/plain": [
       "['cnb_bin.model']"
      ]
     },
     "execution_count": 10,
     "metadata": {},
     "output_type": "execute_result"
    }
   ],
   "source": [
    "vectorizer = CountVectorizer(vocabulary = fitur, binary = True)\n",
    "model_tf   = vectorizer.fit(komentar)\n",
    "\n",
    "clf = ComplementNB()\n",
    "clf.fit(model_tf.transform(komentar), label)\n",
    "joblib.dump(clf, \"cnb_bin.model\")\n",
    "# joblib.dump(model_tf, \"pembobotan_imbang_bin.w\")"
   ]
  },
  {
   "cell_type": "code",
   "execution_count": null,
   "metadata": {},
   "outputs": [],
   "source": []
  },
  {
   "cell_type": "code",
   "execution_count": 11,
   "metadata": {},
   "outputs": [],
   "source": [
    "model = nb.NaiveBayesClassifier()\n",
    "model.train(np.array(komentar), np.array(label))"
   ]
  },
  {
   "cell_type": "code",
   "execution_count": 13,
   "metadata": {},
   "outputs": [
    {
     "data": {
      "text/plain": [
       "['nbc_bin.model']"
      ]
     },
     "execution_count": 13,
     "metadata": {},
     "output_type": "execute_result"
    }
   ],
   "source": [
    "joblib.dump(model, r\"nbc_bin.model\")"
   ]
  },
  {
   "cell_type": "code",
   "execution_count": null,
   "metadata": {},
   "outputs": [],
   "source": []
  },
  {
   "cell_type": "code",
   "execution_count": null,
   "metadata": {},
   "outputs": [],
   "source": []
  },
  {
   "cell_type": "code",
   "execution_count": null,
   "metadata": {},
   "outputs": [],
   "source": []
  },
  {
   "cell_type": "code",
   "execution_count": 14,
   "metadata": {},
   "outputs": [
    {
     "data": {
      "text/plain": [
       "['mnb_tfidf.model']"
      ]
     },
     "execution_count": 14,
     "metadata": {},
     "output_type": "execute_result"
    }
   ],
   "source": [
    "clf = MultinomialNB()\n",
    "clf.fit(X, label)\n",
    "joblib.dump(clf, \"mnb_tfidf.model\")"
   ]
  },
  {
   "cell_type": "code",
   "execution_count": null,
   "metadata": {},
   "outputs": [],
   "source": []
  },
  {
   "cell_type": "code",
   "execution_count": 15,
   "metadata": {},
   "outputs": [
    {
     "data": {
      "text/plain": [
       "['mnb_tf.model']"
      ]
     },
     "execution_count": 15,
     "metadata": {},
     "output_type": "execute_result"
    }
   ],
   "source": [
    "clf = MultinomialNB()\n",
    "clf.fit(model_tf.transform(komentar), label)\n",
    "joblib.dump(clf, \"mnb_tf.model\")"
   ]
  },
  {
   "cell_type": "code",
   "execution_count": null,
   "metadata": {},
   "outputs": [],
   "source": []
  },
  {
   "cell_type": "code",
   "execution_count": 16,
   "metadata": {},
   "outputs": [
    {
     "data": {
      "text/plain": [
       "['mnb_bin.model']"
      ]
     },
     "execution_count": 16,
     "metadata": {},
     "output_type": "execute_result"
    }
   ],
   "source": [
    "vectorizer = CountVectorizer(vocabulary = fitur, binary = True)\n",
    "model_tf   = vectorizer.fit(komentar)\n",
    "\n",
    "clf = MultinomialNB()\n",
    "clf.fit(model_tf.transform(komentar), label)\n",
    "joblib.dump(clf, \"mnb_bin.model\")\n",
    "# joblib.dump(model_tf, \"pembobotan_imbang_bin.w\")"
   ]
  },
  {
   "cell_type": "code",
   "execution_count": null,
   "metadata": {},
   "outputs": [],
   "source": []
  }
 ],
 "metadata": {
  "kernelspec": {
   "display_name": "Python 3",
   "language": "python",
   "name": "python3"
  },
  "language_info": {
   "codemirror_mode": {
    "name": "ipython",
    "version": 3
   },
   "file_extension": ".py",
   "mimetype": "text/x-python",
   "name": "python",
   "nbconvert_exporter": "python",
   "pygments_lexer": "ipython3",
   "version": "3.7.3"
  }
 },
 "nbformat": 4,
 "nbformat_minor": 2
}
