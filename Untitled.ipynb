{
 "cells": [
  {
   "cell_type": "code",
   "execution_count": 1,
   "metadata": {
    "scrolled": true
   },
   "outputs": [
    {
     "data": {
      "text/plain": [
       "[['Islam', 'mengenai', 'patung'],\n",
       " ['tentang', 'kedudukan', 'Nabi', 'Isa'],\n",
       " ['dia']]"
      ]
     },
     "execution_count": 1,
     "metadata": {},
     "output_type": "execute_result"
    }
   ],
   "source": [
    "from tokenisasi import tokenisasi\n",
    "x = tokenisasi.token_kata(\"Islam mengenai patung dan tentang kedudukan Nabi Isa atau dia\",  delimiter = [\"atau\"])\n",
    "x"
   ]
  },
  {
   "cell_type": "code",
   "execution_count": null,
   "metadata": {},
   "outputs": [],
   "source": []
  },
  {
   "cell_type": "code",
   "execution_count": null,
   "metadata": {},
   "outputs": [],
   "source": []
  },
  {
   "cell_type": "code",
   "execution_count": 5,
   "metadata": {},
   "outputs": [],
   "source": [
    "import re\n",
    "from nltk.util import ngrams"
   ]
  },
  {
   "cell_type": "code",
   "execution_count": 8,
   "metadata": {},
   "outputs": [
    {
     "name": "stdout",
     "output_type": "stream",
     "text": [
      "('Islam', 'mengenai', 'patung')\n"
     ]
    }
   ],
   "source": [
    "for i in (ngrams(['Islam', 'mengenai', 'patung'], 3)):\n",
    "    print(i)"
   ]
  },
  {
   "cell_type": "code",
   "execution_count": null,
   "metadata": {},
   "outputs": [],
   "source": []
  },
  {
   "cell_type": "code",
   "execution_count": 4,
   "metadata": {
    "scrolled": false
   },
   "outputs": [
    {
     "name": "stdout",
     "output_type": "stream",
     "text": [
      "\n"
     ]
    },
    {
     "data": {
      "text/plain": [
       "['Kenapa',\n",
       " 'diviralkan',\n",
       " 'sekarang',\n",
       " 'Kenapa_diviralkan',\n",
       " 'diviralkan_sekarang',\n",
       " 'Kenapa_diviralkan_sekarang',\n",
       " 'kenapa',\n",
       " 'dituntut',\n",
       " 'sekarang',\n",
       " 'kenapa_dituntut',\n",
       " 'dituntut_sekarang',\n",
       " 'kenapa_dituntut_sekarang',\n",
       " 'serahkan',\n",
       " 'kepada',\n",
       " 'Allah',\n",
       " 'SWT',\n",
       " 'serahkan_kepada',\n",
       " 'kepada_Allah',\n",
       " 'Allah_SWT',\n",
       " 'serahkan_kepada_Allah',\n",
       " 'kepada_Allah_SWT',\n",
       " 'serahkan_kepada_Allah_SWT',\n",
       " 'Sebagai',\n",
       " 'warga',\n",
       " 'yang',\n",
       " 'baik',\n",
       " 'Sebagai_warga',\n",
       " 'warga_yang',\n",
       " 'yang_baik',\n",
       " 'Sebagai_warga_yang',\n",
       " 'warga_yang_baik',\n",
       " 'Sebagai_warga_yang_baik',\n",
       " 'tidak',\n",
       " 'akan',\n",
       " 'lari',\n",
       " 'tidak_akan',\n",
       " 'akan_lari',\n",
       " 'tidak_akan_lari',\n",
       " 'tidak',\n",
       " 'akan',\n",
       " 'mengadu',\n",
       " 'tidak_akan',\n",
       " 'akan_mengadu',\n",
       " 'tidak_akan_mengadu',\n",
       " 'tidak',\n",
       " 'akan',\n",
       " 'takut',\n",
       " 'tidak_akan',\n",
       " 'akan_takut',\n",
       " 'tidak_akan_takut',\n",
       " 'karena',\n",
       " 'tidak',\n",
       " 'merasa',\n",
       " 'bersalah',\n",
       " 'tidak_merasa',\n",
       " 'merasa_bersalah',\n",
       " 'tidak_merasa_bersalah',\n",
       " 'tidak',\n",
       " 'pula',\n",
       " 'merusak',\n",
       " 'persatuan',\n",
       " 'tidak_pula',\n",
       " 'pula_merusak',\n",
       " 'merusak_persatuan',\n",
       " 'tidak_pula_merusak',\n",
       " 'pula_merusak_persatuan',\n",
       " 'tidak_pula_merusak_persatuan',\n",
       " 'kesatuan',\n",
       " 'bangsa',\n",
       " 'kesatuan_bangsa',\n",
       " 'dia',\n",
       " 'meakan',\n",
       " 'dia_meakan']"
      ]
     },
     "execution_count": 4,
     "metadata": {},
     "output_type": "execute_result"
    }
   ],
   "source": [
    "from tokenisasi import tokenisasi\n",
    "import re\n",
    "sd = \"Kenapa diviralkan sekarang, kenapa dituntut sekarang Saya serahkan kepada Allah SWT. Sebagai warga yang baik saya tidak akan lari, saya tidak akan mengadu. Saya tidak akan takut, karena saya tidak merasa bersalah, saya tidak pula merusak persatuan dan kesatuan bangsa dan atau dia meakan\"\n",
    "sd = kata = re.sub(r'[^a-zA-Z0-9\\s,.]', ' ', sd)\n",
    "tokenisasi.ngramku(sd, n=10, delimiter = [\"atau\",\".\",\",\",\"Saya\",\"saya\", \"serta\"])['token']"
   ]
  }
 ],
 "metadata": {
  "kernelspec": {
   "display_name": "Python 3",
   "language": "python",
   "name": "python3"
  },
  "language_info": {
   "codemirror_mode": {
    "name": "ipython",
    "version": 3
   },
   "file_extension": ".py",
   "mimetype": "text/x-python",
   "name": "python",
   "nbconvert_exporter": "python",
   "pygments_lexer": "ipython3",
   "version": "3.7.3"
  }
 },
 "nbformat": 4,
 "nbformat_minor": 2
}
