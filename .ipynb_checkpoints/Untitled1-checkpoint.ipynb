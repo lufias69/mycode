{
 "cells": [
  {
   "cell_type": "code",
   "execution_count": 1,
   "metadata": {},
   "outputs": [],
   "source": [
    "from joblib import load"
   ]
  },
  {
   "cell_type": "code",
   "execution_count": 2,
   "metadata": {},
   "outputs": [],
   "source": [
    "model = load(\"model\\gnb\\GNB_MODEL_18.joblib\")"
   ]
  },
  {
   "cell_type": "code",
   "execution_count": 8,
   "metadata": {},
   "outputs": [],
   "source": [
    "# model.theta_[0]\n",
    "mGNB = model"
   ]
  },
  {
   "cell_type": "code",
   "execution_count": 9,
   "metadata": {},
   "outputs": [
    {
     "ename": "NameError",
     "evalue": "name 'ft' is not defined",
     "output_type": "error",
     "traceback": [
      "\u001b[1;31m---------------------------------------------------------------------------\u001b[0m",
      "\u001b[1;31mNameError\u001b[0m                                 Traceback (most recent call last)",
      "\u001b[1;32m<ipython-input-9-bd06974ce6d6>\u001b[0m in \u001b[0;36m<module>\u001b[1;34m\u001b[0m\n\u001b[0;32m     18\u001b[0m     \u001b[0mnon_spam\u001b[0m\u001b[1;33m.\u001b[0m\u001b[0mappend\u001b[0m\u001b[1;33m(\u001b[0m\u001b[0mformat\u001b[0m\u001b[1;33m(\u001b[0m\u001b[0mnsp\u001b[0m\u001b[1;33m,\u001b[0m \u001b[1;34m'f'\u001b[0m\u001b[1;33m)\u001b[0m\u001b[1;33m)\u001b[0m\u001b[1;33m\u001b[0m\u001b[1;33m\u001b[0m\u001b[0m\n\u001b[0;32m     19\u001b[0m     \u001b[0mspam\u001b[0m\u001b[1;33m.\u001b[0m\u001b[0mappend\u001b[0m\u001b[1;33m(\u001b[0m\u001b[0mformat\u001b[0m\u001b[1;33m(\u001b[0m\u001b[0msp\u001b[0m\u001b[1;33m,\u001b[0m \u001b[1;34m'f'\u001b[0m\u001b[1;33m)\u001b[0m\u001b[1;33m)\u001b[0m\u001b[1;33m\u001b[0m\u001b[1;33m\u001b[0m\u001b[0m\n\u001b[1;32m---> 20\u001b[1;33m     \u001b[0mdict_gnb_\u001b[0m\u001b[1;33m.\u001b[0m\u001b[0mupdate\u001b[0m\u001b[1;33m(\u001b[0m\u001b[1;33m{\u001b[0m\u001b[0mft\u001b[0m\u001b[1;33m:\u001b[0m\u001b[1;33m{\u001b[0m\u001b[1;34m\"non spam\"\u001b[0m\u001b[1;33m:\u001b[0m\u001b[0mnsp\u001b[0m\u001b[1;33m,\u001b[0m \u001b[1;34m'spam'\u001b[0m\u001b[1;33m:\u001b[0m\u001b[0msp\u001b[0m\u001b[1;33m}\u001b[0m\u001b[1;33m}\u001b[0m\u001b[1;33m)\u001b[0m\u001b[1;33m\u001b[0m\u001b[1;33m\u001b[0m\u001b[0m\n\u001b[0m\u001b[0;32m     21\u001b[0m     \u001b[0mdict_gnb\u001b[0m\u001b[1;33m.\u001b[0m\u001b[0mupdate\u001b[0m\u001b[1;33m(\u001b[0m\u001b[1;33m{\u001b[0m\u001b[0mft\u001b[0m\u001b[1;33m:\u001b[0m\u001b[1;33m{\u001b[0m\u001b[1;34m\"theta\"\u001b[0m\u001b[1;33m:\u001b[0m\u001b[1;33m{\u001b[0m\u001b[1;34m\"non spam\"\u001b[0m\u001b[1;33m:\u001b[0m\u001b[0mnspam_t\u001b[0m\u001b[1;33m,\u001b[0m \u001b[1;34m\"spam\"\u001b[0m\u001b[1;33m:\u001b[0m\u001b[0mspam_t\u001b[0m\u001b[1;33m}\u001b[0m\u001b[1;33m,\u001b[0m \u001b[1;34m\"sigma\"\u001b[0m\u001b[1;33m:\u001b[0m\u001b[1;33m{\u001b[0m\u001b[1;34m\"non spam\"\u001b[0m\u001b[1;33m:\u001b[0m\u001b[0mnspam_s\u001b[0m\u001b[1;33m,\u001b[0m \u001b[1;34m\"spam\"\u001b[0m\u001b[1;33m:\u001b[0m\u001b[0mspam_s\u001b[0m\u001b[1;33m}\u001b[0m\u001b[1;33m}\u001b[0m\u001b[1;33m}\u001b[0m\u001b[1;33m)\u001b[0m\u001b[1;33m\u001b[0m\u001b[1;33m\u001b[0m\u001b[0m\n\u001b[0;32m     22\u001b[0m \u001b[1;31m# with open(\"model/gnb/bobot_gnb.json\", \"w\") as f:\u001b[0m\u001b[1;33m\u001b[0m\u001b[1;33m\u001b[0m\u001b[1;33m\u001b[0m\u001b[0m\n",
      "\u001b[1;31mNameError\u001b[0m: name 'ft' is not defined"
     ]
    }
   ],
   "source": [
    "non_spam_gnb_s = list()\n",
    "spam_gnb_s = list()\n",
    "non_spam_gnb_t = list()\n",
    "spam_gnb_t = list()\n",
    "spam = list()\n",
    "non_spam = list()\n",
    "dict_gnb = dict()\n",
    "dict_gnb_ = dict()\n",
    "for ft, nspam_t, spam_t, nspam_s, spam_s in zip(fitur, mGNB.theta_[0],mGNB.theta_[1], mGNB.sigma_[0],mGNB.sigma_[1]):\n",
    "# for nspam_t, spam_t, nspam_s, spam_s in zip(mGNB.theta_[0],mGNB.theta_[1], mGNB.sigma_[0],mGNB.sigma_[1]):\n",
    "#     print(ft,format(nspam_t, '10f'),format(spam_t, '8f'))\n",
    "    non_spam_gnb_s.append(nspam_s)\n",
    "    spam_gnb_s.append(spam_s)\n",
    "    non_spam_gnb_t.append(nspam_t)\n",
    "    spam_gnb_t.append(spam_t)\n",
    "    nsp = (nspam_t**2)/nspam_s\n",
    "    sp = (spam_t**2)/spam_s\n",
    "    non_spam.append(format(nsp, 'f'))\n",
    "    spam.append(format(sp, 'f'))\n",
    "    dict_gnb_.update({ft:{\"non spam\":nsp, 'spam':sp}})\n",
    "    dict_gnb.update({ft:{\"theta\":{\"non spam\":nspam_t, \"spam\":spam_t}, \"sigma\":{\"non spam\":nspam_s, \"spam\":spam_s}}})\n",
    "# with open(\"model/gnb/bobot_gnb.json\", \"w\") as f:\n",
    "#     json.dump(dict_gnb,f)\n",
    "# with open(\"model/gnb/bobot_gnb2.json\", \"w\") as f:\n",
    "#     json.dump(dict_gnb_,f)"
   ]
  }
 ],
 "metadata": {
  "kernelspec": {
   "display_name": "Python 3",
   "language": "python",
   "name": "python3"
  },
  "language_info": {
   "codemirror_mode": {
    "name": "ipython",
    "version": 3
   },
   "file_extension": ".py",
   "mimetype": "text/x-python",
   "name": "python",
   "nbconvert_exporter": "python",
   "pygments_lexer": "ipython3",
   "version": "3.7.3"
  }
 },
 "nbformat": 4,
 "nbformat_minor": 2
}
