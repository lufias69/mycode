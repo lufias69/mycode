{
 "cells": [
  {
   "cell_type": "code",
   "execution_count": 1,
   "metadata": {},
   "outputs": [],
   "source": [
    "import sys\n",
    "sys.path.append('D:\\github\\python') #Alamat PC\n",
    "# import re, string, unicodedata\n",
    "# from unidecode import unidecode\n",
    "import pandas as pd\n",
    "import xlsxwriter\n",
    "import re\n",
    "import time\n",
    "import numpy as np\n",
    "# from Modul.modulku import praproses as pps\n",
    "from Cek_typo import cek_typo as ct\n",
    "from Normalisasi_KBBI import normalisasi_kbbi as nkbi\n",
    "from modulku import praproses as pps\n",
    "from modulku import StemNstopW as stm"
   ]
  },
  {
   "cell_type": "code",
   "execution_count": 3,
   "metadata": {},
   "outputs": [
    {
     "data": {
      "text/plain": [
       "'makan nasi ayam'"
      ]
     },
     "execution_count": 3,
     "metadata": {},
     "output_type": "execute_result"
    }
   ],
   "source": [
    "\n",
    "ct.cek_typo(stm.stemmer_kata(\"memakan nasi ayamm\"))"
   ]
  },
  {
   "cell_type": "code",
   "execution_count": 2,
   "metadata": {},
   "outputs": [],
   "source": [
    "import re\n",
    "huruf = r\"abcdefghijklmnopqrstuvwxyz1234567890!@#$%^&*();':\\\",./<>?' \"\n",
    "def remove_simbol(kalimat):\n",
    "    kalimat = list(kalimat.lower())\n",
    "    for ix, i in enumerate(kalimat):\n",
    "        if i not in huruf:\n",
    "            kalimat[ix]=\"\"\n",
    "    return re.sub(' +', ' ',\"\".join(kalimat)).strip()"
   ]
  },
  {
   "cell_type": "code",
   "execution_count": 4,
   "metadata": {},
   "outputs": [],
   "source": [
    "a = \"\"\"Pέŕςάчάά ģάķķ ρέŕςάчάά ţέŕήчάţάά ρέмùţίħħ ώάјάħħ ∂άήή şέĻùŕùħħ ţùвùħħ ∂άŕίί ίήşţάģŕάмήчάά @AMANAH.BEAUTYHERBS.ID BέţùĻĻ вέţùĻĻ ήчάţάά вέήέŕάήή Ļόħħ ķάά , ħάşίĻήчάά ţέŕвùķţίί ∂άĻάмм 1 мίήģģùù şù∂άħħ ţέŕĻίħάţţ ρùţίħħħ мέŕάţάά şέςάŕάά мάķşίмάĻĻ ώάјάħħ ∂άήή şέĻùŕùħħ ţùвùħħ ķùù şέĻάίήή ρùţίħħ ғùĻĻ вό∂чч ķùĻίţţ ķùù јά∂ίί ķέήςάήģģ , чάήģģ έήģģάά άķùù şάήģķάά вέķάşş Ļùķάά ρùήή вίşάά ħίĻάήģģ , άķù έήģģάά ήчέşέĻĻ ķάά άчùù чάήģģ ά∂άά şέήέήģģ şέķάĻίί @AMANAH_BEAUTYHERBS_ID. Tάùù ħάşίĻήчάά вέήέŕάήή ţέŕвùķţίί ģίήίί мùήģķίήή άķùù ∂άŕίί ∂ùĻùù όŕ∂έŕŕ ρέмùţίħħ @AMANAH_BEAUTYHERBS_ID  şίĻάħķάήή чάήģģ мάùù ķόήşùĻţάşίί вίşάά ħùвùήģίί Ļάήģşùήģģ ώħάţşş άρρşş 085723276088 \"\"\""
   ]
  },
  {
   "cell_type": "code",
   "execution_count": 5,
   "metadata": {},
   "outputs": [],
   "source": [
    "# n= list()\n",
    "# a_ = list(a)\n",
    "# for ix, i in enumerate(a_):\n",
    "#     if i not in huruf:\n",
    "#         n.append(i)\n",
    "# for i in list(set(n)):\n",
    "#     print(i)"
   ]
  },
  {
   "cell_type": "code",
   "execution_count": null,
   "metadata": {},
   "outputs": [],
   "source": []
  },
  {
   "cell_type": "code",
   "execution_count": 15,
   "metadata": {},
   "outputs": [
    {
     "data": {
      "text/html": [
       "<div>\n",
       "<style scoped>\n",
       "    .dataframe tbody tr th:only-of-type {\n",
       "        vertical-align: middle;\n",
       "    }\n",
       "\n",
       "    .dataframe tbody tr th {\n",
       "        vertical-align: top;\n",
       "    }\n",
       "\n",
       "    .dataframe thead th {\n",
       "        text-align: right;\n",
       "    }\n",
       "</style>\n",
       "<table border=\"1\" class=\"dataframe\">\n",
       "  <thead>\n",
       "    <tr style=\"text-align: right;\">\n",
       "      <th></th>\n",
       "      <th>Unnamed: 0</th>\n",
       "      <th>label</th>\n",
       "      <th>komentar</th>\n",
       "      <th>komentar_kotor</th>\n",
       "      <th>kode salah</th>\n",
       "    </tr>\n",
       "  </thead>\n",
       "  <tbody>\n",
       "    <tr>\n",
       "      <th>0</th>\n",
       "      <td>0</td>\n",
       "      <td>non spam</td>\n",
       "      <td>homwsti iri banget artis g ajak gengsi sian deh</td>\n",
       "      <td>@homwsti iri bnget artisnya g d ajak acara ber...</td>\n",
       "      <td>0</td>\n",
       "    </tr>\n",
       "    <tr>\n",
       "      <th>1</th>\n",
       "      <td>1</td>\n",
       "      <td>non spam</td>\n",
       "      <td>tulis email nama depan dr huruf s</td>\n",
       "      <td>Yang nulis email pasti nama depannya dr huruf S</td>\n",
       "      <td>0</td>\n",
       "    </tr>\n",
       "    <tr>\n",
       "      <th>2</th>\n",
       "      <td>2</td>\n",
       "      <td>non spam</td>\n",
       "      <td>salfok sama telinga</td>\n",
       "      <td>Salfok sama telinganya😹😹</td>\n",
       "      <td>0</td>\n",
       "    </tr>\n",
       "    <tr>\n",
       "      <th>3</th>\n",
       "      <td>3</td>\n",
       "      <td>non spam</td>\n",
       "      <td>egapratiwwi youtube guankirim lu nan</td>\n",
       "      <td>@egapratiwwi youtubenya udh guankirim ke lu hahha</td>\n",
       "      <td>0</td>\n",
       "    </tr>\n",
       "    <tr>\n",
       "      <th>4</th>\n",
       "      <td>4</td>\n",
       "      <td>non spam</td>\n",
       "      <td>abang radit mahh emang keren terimakasih bela ...</td>\n",
       "      <td>Abang radit mahh emang keren,,,,👏👏👏👍👍👍,,,terim...</td>\n",
       "      <td>0</td>\n",
       "    </tr>\n",
       "  </tbody>\n",
       "</table>\n",
       "</div>"
      ],
      "text/plain": [
       "   Unnamed: 0     label                                           komentar  \\\n",
       "0           0  non spam    homwsti iri banget artis g ajak gengsi sian deh   \n",
       "1           1  non spam                  tulis email nama depan dr huruf s   \n",
       "2           2  non spam                                salfok sama telinga   \n",
       "3           3  non spam               egapratiwwi youtube guankirim lu nan   \n",
       "4           4  non spam  abang radit mahh emang keren terimakasih bela ...   \n",
       "\n",
       "                                      komentar_kotor  kode salah  \n",
       "0  @homwsti iri bnget artisnya g d ajak acara ber...           0  \n",
       "1    Yang nulis email pasti nama depannya dr huruf S           0  \n",
       "2                           Salfok sama telinganya😹😹           0  \n",
       "3  @egapratiwwi youtubenya udh guankirim ke lu hahha           0  \n",
       "4  Abang radit mahh emang keren,,,,👏👏👏👍👍👍,,,terim...           0  "
      ]
     },
     "execution_count": 15,
     "metadata": {},
     "output_type": "execute_result"
    }
   ],
   "source": [
    "# data = pd.read_excel('data/Dataset_Siap_3800_px.xlsx', sheet_name = \"Sheet1\")\n",
    "# data = pd.read_excel(\"hasil_prediksi\\svm\\seleksi/seleksi_all_fuzzy_18_ribu.xlsx\")\n",
    "data = pd.read_excel(\"data_latih/hasil_seleksi_New3.xlsx\", sheet_name = \"Sheet1\")\n",
    "\n",
    "# data = pd.read_excel(\"D:\\_OneDrive\\OneDrive - UGM 365\\Penelitian\\Koding\\data/datatambahan.xlsx\", sheet_name = \"Sheet1\")\n",
    "komentar = data['komentar_kotor']\n",
    "label = data[\"label\"].tolist()\n",
    "data.head()"
   ]
  },
  {
   "cell_type": "code",
   "execution_count": 7,
   "metadata": {
    "scrolled": true
   },
   "outputs": [],
   "source": [
    "# for i in komentar:\n",
    "#     print(i)\n",
    "#     print(\"\")\n",
    "#     print(remove_simbol(i))\n",
    "#     print(\"\")\n",
    "#     print(pps.preprocessing(i))\n",
    "#     print(\"++++++++++++++++++++++++++\")"
   ]
  },
  {
   "cell_type": "code",
   "execution_count": 11,
   "metadata": {},
   "outputs": [],
   "source": [
    "# komentar"
   ]
  },
  {
   "cell_type": "code",
   "execution_count": null,
   "metadata": {},
   "outputs": [
    {
     "name": "stdout",
     "output_type": "stream",
     "text": [
      "..........100..........200..........300..........400..........500..........600..........700..........800..........900..........1000..........1100..........1200..........1300..........1400..........1500..........1600..........1700..........1800..........1900..........2000..........2100..........2200..........2300..........2400..........2500..........2600..........2700..........2800..........2900..........3000..........3100..........3200..........3300..........3400..........3500..........3600..........3700..........3800..........3900..........4000..........4100..........4200..........4300..........4400..........4500..........4600..........4700..........4800..........4900..........5000..........5100..........5200..........5300..........5400..........5500..........5600..........5700..........5800..........5900..........6000..........6100..........6200..........6300..........6400..........6500..........6600..........6700..........6800..........6900..........7000..........7100..........7200..........7300..........7400..........7500..........7600..........7700..........7800..........7900..........8000..........8100..........8200..........8300..........8400..........8500..........8600..........8700..........8800..........8900..........9000..........9100..........9200..........9300..........9400..........9500..........9600..........9700..........9800..........9900..........10000..........10100..........10200..........10300..........10400..........10500..........10600..........10700..........10800..........10900..........11000..........11100..........11200..........11300..........11400..........11500..........11600..........11700..........11800..........11900..........12000..........12100..........12200..........12300..........12400..........12500..........12600..........12700..........12800..........12900..........13000..........13100..........13200..........13300..........13400..........13500..........13600..........13700..........13800..........13900..........14000..........14100..........14200..........14300..........14400..........14500..........14600..........14700..........14800..........14900..........15000..........15100..........15200..........15300..........15400.."
     ]
    }
   ],
   "source": [
    "n_komentar_asli = []\n",
    "ixx = 1\n",
    "oo = 0\n",
    "kosong = 0\n",
    "datake = 0\n",
    "for teks in komentar:\n",
    "    a = teks\n",
    "#     a = remove_simbol(a)\n",
    "#     if len(a)==0:\n",
    "#         kosong+=1\n",
    "#         print(kosong, end=\"-\")\n",
    "    a = pps.preprocessing(a)\n",
    "    a = pps.removePunc(a)\n",
    "    a = ct.cek_typo(a)\n",
    "    a = nkbi.norm_kbbi(a)\n",
    "    a = stm.stemmer_kata(a)\n",
    "    a = stm.stop_word(a)\n",
    "    a = a.replace(\" nya \", \"\")\n",
    "    n_komentar_asli.append(a)\n",
    "    if ixx%10==0:\n",
    "        #oo+=1\n",
    "        print(\".\", end =\"\")\n",
    "    if ixx%100==0:\n",
    "        print(ixx, end=\"\")\n",
    "    \n",
    "        dictionarrry = {\n",
    "            \"label\":label[:len(n_komentar_asli)],\n",
    "#             \"komentar_kotor\":komentar[:len(n_komentar)],\n",
    "            \"komentar\":n_komentar_asli}\n",
    "        df = pd.DataFrame.from_dict(dictionarrry)\n",
    "        df.to_excel(\"data_latih/aa/bb/dataset_bersih_nwee_\"+str(ixx)+\"_baru.xlsx\")\n",
    "    ixx+=1"
   ]
  },
  {
   "cell_type": "code",
   "execution_count": null,
   "metadata": {},
   "outputs": [],
   "source": [
    "dictionarrry = {\n",
    "            \"label\":label,\n",
    "            \"komentar_kotor\":komentar,\n",
    "            \"komentar\":n_komentar_asli}\n",
    "df = pd.DataFrame.from_dict(dictionarrry)\n",
    "# df.to_excel(\"data_latih/aa/dataset_bersih_nwee_akhir_tak ada simbol_44104_akhir.xlsx\")\n",
    "\n",
    "df.to_excel(\"D:\\_OneDrive\\OneDrive - UGM 365\\Penelitian\\Koding\\data\\praposes_ahir_baruuuuuuuu.xlsx\")\n"
   ]
  },
  {
   "cell_type": "code",
   "execution_count": 15,
   "metadata": {},
   "outputs": [
    {
     "data": {
      "text/plain": [
       "44104"
      ]
     },
     "execution_count": 15,
     "metadata": {},
     "output_type": "execute_result"
    }
   ],
   "source": [
    "len(n_komentar)"
   ]
  },
  {
   "cell_type": "code",
   "execution_count": 15,
   "metadata": {},
   "outputs": [
    {
     "data": {
      "text/plain": [
       "'Kota kenangan.. 8 tahun mengadu nasib di tabalong. 😃 😃 😃 😃'"
      ]
     },
     "execution_count": 15,
     "metadata": {},
     "output_type": "execute_result"
    }
   ],
   "source": [
    "komentar[44105]"
   ]
  },
  {
   "cell_type": "code",
   "execution_count": null,
   "metadata": {},
   "outputs": [],
   "source": [
    "# komentar[23]"
   ]
  },
  {
   "cell_type": "code",
   "execution_count": null,
   "metadata": {},
   "outputs": [],
   "source": []
  }
 ],
 "metadata": {
  "kernelspec": {
   "display_name": "Python 3",
   "language": "python",
   "name": "python3"
  },
  "language_info": {
   "codemirror_mode": {
    "name": "ipython",
    "version": 3
   },
   "file_extension": ".py",
   "mimetype": "text/x-python",
   "name": "python",
   "nbconvert_exporter": "python",
   "pygments_lexer": "ipython3",
   "version": "3.7.3"
  }
 },
 "nbformat": 4,
 "nbformat_minor": 2
}
