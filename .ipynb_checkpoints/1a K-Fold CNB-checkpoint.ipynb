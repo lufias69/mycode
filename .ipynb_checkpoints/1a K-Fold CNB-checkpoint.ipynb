{
 "cells": [
  {
   "cell_type": "code",
   "execution_count": 2,
   "metadata": {
    "scrolled": true
   },
   "outputs": [],
   "source": [
    "import sys\n",
    "sys.path.append('D:\\_Drive\\OneDrive - UGM 365\\github\\python')\n",
    "from Cek_typo import cek_typo as ct\n",
    "from Normalisasi_KBBI import normalisasi_kbbi as nkbi\n",
    "from modulku import praproses as pps\n",
    "from modulku import StemNstopW as stm"
   ]
  },
  {
   "cell_type": "code",
   "execution_count": 3,
   "metadata": {},
   "outputs": [
    {
     "data": {
      "text/plain": [
       "'hhhjhh'"
      ]
     },
     "execution_count": 3,
     "metadata": {},
     "output_type": "execute_result"
    }
   ],
   "source": [
    "ct.norm_typo(\"hhhhhhhhhhhhhhhhhhhhhhhhhhhhhhhhhhhhhhjhhhhhhhhhhhhhhhhhhhhhh\")"
   ]
  },
  {
   "cell_type": "code",
   "execution_count": 3,
   "metadata": {
    "scrolled": true
   },
   "outputs": [
    {
     "data": {
      "text/plain": [
       "'hhhhhhhhhhhhhhhhhhhhhhhhhhhhhhhhhhhhhhjhhhhhhhhhhhhhhhhhhhhhh'"
      ]
     },
     "execution_count": 3,
     "metadata": {},
     "output_type": "execute_result"
    }
   ],
   "source": [
    "stm.stemmer_kata(\"hhhhhhhhhhhhhhhhhhhhhhhhhhhhhhhhhhhhhhjhhhhhhhhhhhhhhhhhhhhhh\")\n",
    "#type(stm.last_use_k)"
   ]
  },
  {
   "cell_type": "code",
   "execution_count": 12,
   "metadata": {
    "scrolled": true
   },
   "outputs": [
    {
     "name": "stdout",
     "output_type": "stream",
     "text": [
      "10000 11000\n",
      "11000 12000\n",
      "12000 13000\n",
      "13000 14000\n",
      "14000 15000\n",
      "15000 16000\n",
      "16000 17000\n",
      "17000 18000\n",
      "18000 19000\n",
      "19000 20000\n",
      "20000 21000\n",
      "21000 22000\n",
      "22000 23000\n",
      "23000 24000\n",
      "24000 25000\n",
      "25000 26000\n",
      "26000 27000\n",
      "27000 28000\n",
      "28000 29000\n",
      "29000 30000\n",
      "30000 31000\n",
      "31000 32000\n",
      "32000 33000\n",
      "33000 34000\n",
      "34000 35000\n",
      "35000 36000\n",
      "36000 37000\n",
      "37000 38000\n",
      "38000 39000\n",
      "39000 40000\n",
      "40000 41000\n",
      "41000 42000\n",
      "42000 43000\n",
      "43000 44000\n",
      "44000 45000\n",
      "45000 46000\n",
      "46000 47000\n",
      "47000 48000\n",
      "48000 49000\n",
      "49000 50000\n",
      "50000 51000\n",
      "51000 52000\n",
      "52000 53000\n",
      "53000 54000\n",
      "54000 55000\n",
      "55000 56000\n",
      "56000 57000\n",
      "57000 58000\n",
      "58000 59000\n",
      "59000 60000\n",
      "60000 61000\n",
      "61000 62000\n",
      "62000 63000\n",
      "63000 64000\n",
      "64000 65000\n",
      "65000 66000\n",
      "66000 67000\n",
      "67000 68000\n",
      "68000 69000\n",
      "69000 70000\n",
      "70000 71000\n",
      "71000 72000\n",
      "72000 73000\n",
      "73000 74000\n",
      "74000 75000\n",
      "75000 76000\n",
      "76000 77000\n",
      "77000 78000\n",
      "78000 79000\n",
      "79000 80000\n",
      "80000 81000\n",
      "81000 82000\n",
      "82000 83000\n",
      "83000 84000\n",
      "84000 85000\n",
      "85000 86000\n",
      "86000 87000\n",
      "87000 88000\n",
      "88000 89000\n",
      "89000 90000\n",
      "90000 91000\n",
      "91000 92000\n",
      "92000 93000\n",
      "93000 94000\n",
      "94000 95000\n",
      "95000 96000\n",
      "96000 97000\n",
      "97000 98000\n",
      "98000 99000\n",
      "99000 100000\n"
     ]
    }
   ],
   "source": [
    "x = [i for i in range(10000, 100000+1000,1000)]\n",
    "for i,xk in enumerate(x):\n",
    "    if i+1 < len(x):\n",
    "        print(x[i], x[i+1])"
   ]
  }
 ],
 "metadata": {
  "kernelspec": {
   "display_name": "Python 3",
   "language": "python",
   "name": "python3"
  },
  "language_info": {
   "codemirror_mode": {
    "name": "ipython",
    "version": 3
   },
   "file_extension": ".py",
   "mimetype": "text/x-python",
   "name": "python",
   "nbconvert_exporter": "python",
   "pygments_lexer": "ipython3",
   "version": "3.7.3"
  }
 },
 "nbformat": 4,
 "nbformat_minor": 2
}
