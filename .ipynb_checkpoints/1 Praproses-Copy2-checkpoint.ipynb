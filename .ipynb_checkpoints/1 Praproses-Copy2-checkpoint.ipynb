{
 "cells": [
  {
   "cell_type": "code",
   "execution_count": 1,
   "metadata": {},
   "outputs": [],
   "source": [
    "import sys\n",
    "sys.path.append('D:\\github\\python') #Alamat PC\n",
    "# import re, string, unicodedata\n",
    "# from unidecode import unidecode\n",
    "import pandas as pd\n",
    "import xlsxwriter\n",
    "import re\n",
    "import time\n",
    "import numpy as np\n",
    "# from Modul.modulku import praproses as pps\n",
    "from Cek_typo import cek_typo as ct\n",
    "from Normalisasi_KBBI import normalisasi_kbbi as nkbi\n",
    "from modulku import praproses as pps\n",
    "from modulku import StemNstopW as stm"
   ]
  },
  {
   "cell_type": "code",
   "execution_count": 2,
   "metadata": {},
   "outputs": [
    {
     "data": {
      "text/plain": [
       "'makan nasi ayam'"
      ]
     },
     "execution_count": 2,
     "metadata": {},
     "output_type": "execute_result"
    }
   ],
   "source": [
    "\n",
    "ct.cek_typo(stm.stemmer_kata(\"memakan nasi ayamm\"))"
   ]
  },
  {
   "cell_type": "code",
   "execution_count": 3,
   "metadata": {},
   "outputs": [],
   "source": [
    "import re\n",
    "huruf = r\"abcdefghijklmnopqrstuvwxyz1234567890!@#$%^&*();':\\\",./<>?' \"\n",
    "def remove_simbol(kalimat):\n",
    "    kalimat = list(kalimat.lower())\n",
    "    for ix, i in enumerate(kalimat):\n",
    "        if i not in huruf:\n",
    "            kalimat[ix]=\"\"\n",
    "    return re.sub(' +', ' ',\"\".join(kalimat)).strip()"
   ]
  },
  {
   "cell_type": "code",
   "execution_count": 4,
   "metadata": {},
   "outputs": [],
   "source": [
    "a = \"\"\"Pέŕςάчάά ģάķķ ρέŕςάчάά ţέŕήчάţάά ρέмùţίħħ ώάјάħħ ∂άήή şέĻùŕùħħ ţùвùħħ ∂άŕίί ίήşţάģŕάмήчάά @AMANAH.BEAUTYHERBS.ID BέţùĻĻ вέţùĻĻ ήчάţάά вέήέŕάήή Ļόħħ ķάά , ħάşίĻήчάά ţέŕвùķţίί ∂άĻάмм 1 мίήģģùù şù∂άħħ ţέŕĻίħάţţ ρùţίħħħ мέŕάţάά şέςάŕάά мάķşίмάĻĻ ώάјάħħ ∂άήή şέĻùŕùħħ ţùвùħħ ķùù şέĻάίήή ρùţίħħ ғùĻĻ вό∂чч ķùĻίţţ ķùù јά∂ίί ķέήςάήģģ , чάήģģ έήģģάά άķùù şάήģķάά вέķάşş Ļùķάά ρùήή вίşάά ħίĻάήģģ , άķù έήģģάά ήчέşέĻĻ ķάά άчùù чάήģģ ά∂άά şέήέήģģ şέķάĻίί @AMANAH_BEAUTYHERBS_ID. Tάùù ħάşίĻήчάά вέήέŕάήή ţέŕвùķţίί ģίήίί мùήģķίήή άķùù ∂άŕίί ∂ùĻùù όŕ∂έŕŕ ρέмùţίħħ @AMANAH_BEAUTYHERBS_ID  şίĻάħķάήή чάήģģ мάùù ķόήşùĻţάşίί вίşάά ħùвùήģίί Ļάήģşùήģģ ώħάţşş άρρşş 085723276088 \"\"\""
   ]
  },
  {
   "cell_type": "code",
   "execution_count": 5,
   "metadata": {},
   "outputs": [],
   "source": [
    "# n= list()\n",
    "# a_ = list(a)\n",
    "# for ix, i in enumerate(a_):\n",
    "#     if i not in huruf:\n",
    "#         n.append(i)\n",
    "# for i in list(set(n)):\n",
    "#     print(i)"
   ]
  },
  {
   "cell_type": "code",
   "execution_count": null,
   "metadata": {},
   "outputs": [],
   "source": []
  },
  {
   "cell_type": "code",
   "execution_count": 6,
   "metadata": {},
   "outputs": [
    {
     "data": {
      "text/html": [
       "<div>\n",
       "<style scoped>\n",
       "    .dataframe tbody tr th:only-of-type {\n",
       "        vertical-align: middle;\n",
       "    }\n",
       "\n",
       "    .dataframe tbody tr th {\n",
       "        vertical-align: top;\n",
       "    }\n",
       "\n",
       "    .dataframe thead th {\n",
       "        text-align: right;\n",
       "    }\n",
       "</style>\n",
       "<table border=\"1\" class=\"dataframe\">\n",
       "  <thead>\n",
       "    <tr style=\"text-align: right;\">\n",
       "      <th></th>\n",
       "      <th>Unnamed: 0</th>\n",
       "      <th>label</th>\n",
       "      <th>komentar</th>\n",
       "      <th>komentar_kotor</th>\n",
       "      <th>kode salah</th>\n",
       "    </tr>\n",
       "  </thead>\n",
       "  <tbody>\n",
       "    <tr>\n",
       "      <th>49995</th>\n",
       "      <td>49995</td>\n",
       "      <td>non spam</td>\n",
       "      <td>hangout geng ewek ewek</td>\n",
       "      <td>hangout gengs ewek ewek</td>\n",
       "      <td>0</td>\n",
       "    </tr>\n",
       "    <tr>\n",
       "      <th>49996</th>\n",
       "      <td>49996</td>\n",
       "      <td>spam</td>\n",
       "      <td>ka produk mutih seluruh tubuh reza herbalsehat...</td>\n",
       "      <td>Ka produk pemutih seluruh tubuh dari_@Reza.her...</td>\n",
       "      <td>0</td>\n",
       "    </tr>\n",
       "    <tr>\n",
       "      <th>49997</th>\n",
       "      <td>49997</td>\n",
       "      <td>non spam</td>\n",
       "      <td>bang hangout bang lippo cikarang ada</td>\n",
       "      <td>@raditya_dika Bang Hangout Bang, di lippo Cika...</td>\n",
       "      <td>0</td>\n",
       "    </tr>\n",
       "    <tr>\n",
       "      <th>49998</th>\n",
       "      <td>49998</td>\n",
       "      <td>non spam</td>\n",
       "      <td>vallen ka mohon izin yuk join komunitas ikut v...</td>\n",
       "      <td>@viavallen ka mohon izin ya.. Yuk join komunit...</td>\n",
       "      <td>0</td>\n",
       "    </tr>\n",
       "    <tr>\n",
       "      <th>49999</th>\n",
       "      <td>49999</td>\n",
       "      <td>non spam</td>\n",
       "      <td>wao smakin cantik aja</td>\n",
       "      <td>Wao mbak ayutingting smakin cantik aja</td>\n",
       "      <td>0</td>\n",
       "    </tr>\n",
       "  </tbody>\n",
       "</table>\n",
       "</div>"
      ],
      "text/plain": [
       "       Unnamed: 0     label  \\\n",
       "49995       49995  non spam   \n",
       "49996       49996      spam   \n",
       "49997       49997  non spam   \n",
       "49998       49998  non spam   \n",
       "49999       49999  non spam   \n",
       "\n",
       "                                                komentar  \\\n",
       "49995                             hangout geng ewek ewek   \n",
       "49996  ka produk mutih seluruh tubuh reza herbalsehat...   \n",
       "49997               bang hangout bang lippo cikarang ada   \n",
       "49998  vallen ka mohon izin yuk join komunitas ikut v...   \n",
       "49999                              wao smakin cantik aja   \n",
       "\n",
       "                                          komentar_kotor  kode salah  \n",
       "49995                            hangout gengs ewek ewek           0  \n",
       "49996  Ka produk pemutih seluruh tubuh dari_@Reza.her...           0  \n",
       "49997  @raditya_dika Bang Hangout Bang, di lippo Cika...           0  \n",
       "49998  @viavallen ka mohon izin ya.. Yuk join komunit...           0  \n",
       "49999             Wao mbak ayutingting smakin cantik aja           0  "
      ]
     },
     "execution_count": 6,
     "metadata": {},
     "output_type": "execute_result"
    }
   ],
   "source": [
    "# data = pd.read_excel('data/Dataset_Siap_3800_px.xlsx', sheet_name = \"Sheet1\")\n",
    "# data = pd.read_excel(\"hasil_prediksi\\svm\\seleksi/seleksi_all_fuzzy_18_ribu.xlsx\")\n",
    "data = pd.read_excel(\"data_latih/hasil_seleksi_New3.xlsx\", sheet_name = \"Sheet1\")\n",
    "data = data[30000:50000]\n",
    "# data = pd.read_excel(\"D:\\_OneDrive\\OneDrive - UGM 365\\Penelitian\\Koding\\data/datatambahan.xlsx\", sheet_name = \"Sheet1\")\n",
    "komentar = data['komentar_kotor']\n",
    "label = data[\"label\"].tolist()\n",
    "data.tail()"
   ]
  },
  {
   "cell_type": "code",
   "execution_count": 7,
   "metadata": {
    "scrolled": true
   },
   "outputs": [],
   "source": [
    "# for i in komentar:\n",
    "#     print(i)\n",
    "#     print(\"\")\n",
    "#     print(remove_simbol(i))\n",
    "#     print(\"\")\n",
    "#     print(pps.preprocessing(i))\n",
    "#     print(\"++++++++++++++++++++++++++\")"
   ]
  },
  {
   "cell_type": "code",
   "execution_count": 11,
   "metadata": {},
   "outputs": [],
   "source": [
    "# komentar"
   ]
  },
  {
   "cell_type": "code",
   "execution_count": null,
   "metadata": {},
   "outputs": [
    {
     "name": "stdout",
     "output_type": "stream",
     "text": [
      "......................."
     ]
    }
   ],
   "source": [
    "n_komentar_asli = []\n",
    "ixx = 1\n",
    "oo = 0\n",
    "kosong = 0\n",
    "datake = 0\n",
    "for teks in komentar:\n",
    "    a = teks\n",
    "#     a = remove_simbol(a)\n",
    "#     if len(a)==0:\n",
    "#         kosong+=1\n",
    "#         print(kosong, end=\"-\")\n",
    "    a = pps.preprocessing(a)\n",
    "    a = pps.removePunc(a)\n",
    "    a = ct.cek_typo(a)\n",
    "    a = nkbi.norm_kbbi(a)\n",
    "    a = stm.stemmer_kata(a)\n",
    "    a = stm.stop_word(a)\n",
    "    a = a.replace(\" nya \", \"\")\n",
    "    n_komentar_asli.append(a)\n",
    "    if ixx%10==0:\n",
    "        #oo+=1\n",
    "        print(\".\", end =\"\")\n",
    "    if ixx%1000==0:\n",
    "        print(ixx, end=\"\")\n",
    "    \n",
    "        dictionarrry = {\n",
    "#             \"label\":label[:len(n_komentar_asli)],\n",
    "#             \"komentar_kotor\":komentar[:len(n_komentar)],\n",
    "            \"komentar\":n_komentar_asli}\n",
    "        df = pd.DataFrame.from_dict(dictionarrry)\n",
    "        df.to_excel(\"data_latih/aa/bb/dataset_bersih_nwee_\"+str(ixx)+\"_30000:50000_baru.xlsx\")\n",
    "    ixx+=1"
   ]
  },
  {
   "cell_type": "code",
   "execution_count": null,
   "metadata": {},
   "outputs": [],
   "source": [
    "dictionarrry = {\n",
    "#             \"label\":label,\n",
    "#             \"komentar_kotor\":komentar,\n",
    "            \"komentar\":n_komentar_asli}\n",
    "df = pd.DataFrame.from_dict(dictionarrry)\n",
    "# df.to_excel(\"data_latih/aa/dataset_bersih_nwee_akhir_tak ada simbol_44104_akhir.xlsx\")\n",
    "\n",
    "df.to_excel(\"D:\\_OneDrive\\OneDrive - UGM 365\\Penelitian\\Koding\\data\\praposes_ahir_baruuuuuuuu_30000:50000.xlsx\")\n"
   ]
  },
  {
   "cell_type": "code",
   "execution_count": 15,
   "metadata": {},
   "outputs": [
    {
     "data": {
      "text/plain": [
       "44104"
      ]
     },
     "execution_count": 15,
     "metadata": {},
     "output_type": "execute_result"
    }
   ],
   "source": [
    "len(n_komentar)"
   ]
  },
  {
   "cell_type": "code",
   "execution_count": 15,
   "metadata": {},
   "outputs": [
    {
     "data": {
      "text/plain": [
       "'Kota kenangan.. 8 tahun mengadu nasib di tabalong. 😃 😃 😃 😃'"
      ]
     },
     "execution_count": 15,
     "metadata": {},
     "output_type": "execute_result"
    }
   ],
   "source": [
    "komentar[44105]"
   ]
  },
  {
   "cell_type": "code",
   "execution_count": null,
   "metadata": {},
   "outputs": [],
   "source": [
    "# komentar[23]"
   ]
  },
  {
   "cell_type": "code",
   "execution_count": null,
   "metadata": {},
   "outputs": [],
   "source": []
  }
 ],
 "metadata": {
  "kernelspec": {
   "display_name": "Python 3",
   "language": "python",
   "name": "python3"
  },
  "language_info": {
   "codemirror_mode": {
    "name": "ipython",
    "version": 3
   },
   "file_extension": ".py",
   "mimetype": "text/x-python",
   "name": "python",
   "nbconvert_exporter": "python",
   "pygments_lexer": "ipython3",
   "version": "3.7.3"
  }
 },
 "nbformat": 4,
 "nbformat_minor": 2
}
