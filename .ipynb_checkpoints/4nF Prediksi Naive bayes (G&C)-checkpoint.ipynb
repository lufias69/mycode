{
 "cells": [
  {
   "cell_type": "code",
   "execution_count": 1,
   "metadata": {
    "scrolled": true
   },
   "outputs": [],
   "source": [
    "from model.cnb import prediksi as cnb\n",
    "from model.gnb import prediksi as gnb\n",
    "import pandas as pd"
   ]
  },
  {
   "cell_type": "code",
   "execution_count": 2,
   "metadata": {},
   "outputs": [],
   "source": [
    "import sys\n",
    "sys.path.append('D:\\_OneDrive\\OneDrive - UGM 365\\Penelitian\\Koding\\model')\n",
    "import frekuensi_kata"
   ]
  },
  {
   "cell_type": "code",
   "execution_count": 3,
   "metadata": {},
   "outputs": [
    {
     "name": "stdout",
     "output_type": "stream",
     "text": [
      "Complement: spam\n",
      "Gaussian  : spam\n"
     ]
    }
   ],
   "source": [
    "kom = \"cicakgede\"\n",
    "print(\"Complement:\",cnb.prediksi_single(kom))\n",
    "print(\"Gaussian  :\",gnb.prediksi_single(kom))"
   ]
  },
  {
   "cell_type": "code",
   "execution_count": 4,
   "metadata": {},
   "outputs": [
    {
     "name": "stdout",
     "output_type": "stream",
     "text": [
      "{'cicakgede': {'spam': 0, 'non spam': 1}}\n"
     ]
    }
   ],
   "source": [
    "for i in kom.split():\n",
    "    print(frekuensi_kata.frequensi(i))"
   ]
  },
  {
   "cell_type": "code",
   "execution_count": 5,
   "metadata": {},
   "outputs": [
    {
     "name": "stdout",
     "output_type": "stream",
     "text": [
      "cicakgede {'non spam': 10.145822976456744, 'spam': 10.171670732930917}\n"
     ]
    }
   ],
   "source": [
    "for i in kom.split():\n",
    "    print(i,cnb.weight[i])\n",
    "# cnb.weight"
   ]
  },
  {
   "cell_type": "code",
   "execution_count": 6,
   "metadata": {},
   "outputs": [
    {
     "name": "stdout",
     "output_type": "stream",
     "text": [
      "cicakgede {'non spam': 1.0104612308533684e-08, 'spam': 0.0}\n"
     ]
    }
   ],
   "source": [
    "for i in kom.split():\n",
    "    print(i,gnb.weight[i])"
   ]
  },
  {
   "cell_type": "code",
   "execution_count": 7,
   "metadata": {},
   "outputs": [
    {
     "data": {
      "text/html": [
       "<div>\n",
       "<style scoped>\n",
       "    .dataframe tbody tr th:only-of-type {\n",
       "        vertical-align: middle;\n",
       "    }\n",
       "\n",
       "    .dataframe tbody tr th {\n",
       "        vertical-align: top;\n",
       "    }\n",
       "\n",
       "    .dataframe thead th {\n",
       "        text-align: right;\n",
       "    }\n",
       "</style>\n",
       "<table border=\"1\" class=\"dataframe\">\n",
       "  <thead>\n",
       "    <tr style=\"text-align: right;\">\n",
       "      <th></th>\n",
       "      <th>Column1</th>\n",
       "      <th>Column12</th>\n",
       "      <th>Column13</th>\n",
       "      <th>Column2</th>\n",
       "      <th>prediksi</th>\n",
       "      <th>komentar</th>\n",
       "      <th>komentar_kotor</th>\n",
       "    </tr>\n",
       "  </thead>\n",
       "  <tbody>\n",
       "    <tr>\n",
       "      <th>0</th>\n",
       "      <td>1</td>\n",
       "      <td>1</td>\n",
       "      <td>1000</td>\n",
       "      <td>15</td>\n",
       "      <td>non spam</td>\n",
       "      <td>moga kalian selalu arti allah swt panjang jodo...</td>\n",
       "      <td>Semoga kalian sellu d berkati allah swt ,d pan...</td>\n",
       "    </tr>\n",
       "    <tr>\n",
       "      <th>1</th>\n",
       "      <td>2</td>\n",
       "      <td>1</td>\n",
       "      <td>1000</td>\n",
       "      <td>11</td>\n",
       "      <td>non spam</td>\n",
       "      <td>gio iya aku tau edit cuma lucu rasa kau komen ...</td>\n",
       "      <td>@gio.dre iya lek aku tau itu editan cuman lucu...</td>\n",
       "    </tr>\n",
       "    <tr>\n",
       "      <th>2</th>\n",
       "      <td>3</td>\n",
       "      <td>1</td>\n",
       "      <td>1000</td>\n",
       "      <td>26</td>\n",
       "      <td>spam</td>\n",
       "      <td>baru produk no dunia ka dalam minggu kulit muk...</td>\n",
       "      <td>Ini вarυ prodυĸ no 1 di dυnia ĸa, нanya dalaм ...</td>\n",
       "    </tr>\n",
       "    <tr>\n",
       "      <th>3</th>\n",
       "      <td>4</td>\n",
       "      <td>1</td>\n",
       "      <td>1000</td>\n",
       "      <td>12</td>\n",
       "      <td>non spam</td>\n",
       "      <td>hai bang raditya mau bikin film hasil tulis ju...</td>\n",
       "      <td>Hai bang Raditya, mau bikin film hasil tulisan...</td>\n",
       "    </tr>\n",
       "    <tr>\n",
       "      <th>4</th>\n",
       "      <td>5</td>\n",
       "      <td>1</td>\n",
       "      <td>1000</td>\n",
       "      <td>13</td>\n",
       "      <td>spam</td>\n",
       "      <td>halo cari sepatu keren kece yuk buru penasaran...</td>\n",
       "      <td>Halo,ingin cari sepatu keren dan kece. Yuk bur...</td>\n",
       "    </tr>\n",
       "  </tbody>\n",
       "</table>\n",
       "</div>"
      ],
      "text/plain": [
       "   Column1  Column12  Column13  Column2  prediksi  \\\n",
       "0        1         1      1000       15  non spam   \n",
       "1        2         1      1000       11  non spam   \n",
       "2        3         1      1000       26      spam   \n",
       "3        4         1      1000       12  non spam   \n",
       "4        5         1      1000       13      spam   \n",
       "\n",
       "                                            komentar  \\\n",
       "0  moga kalian selalu arti allah swt panjang jodo...   \n",
       "1  gio iya aku tau edit cuma lucu rasa kau komen ...   \n",
       "2  baru produk no dunia ka dalam minggu kulit muk...   \n",
       "3  hai bang raditya mau bikin film hasil tulis ju...   \n",
       "4  halo cari sepatu keren kece yuk buru penasaran...   \n",
       "\n",
       "                                      komentar_kotor  \n",
       "0  Semoga kalian sellu d berkati allah swt ,d pan...  \n",
       "1  @gio.dre iya lek aku tau itu editan cuman lucu...  \n",
       "2  Ini вarυ prodυĸ no 1 di dυnia ĸa, нanya dalaм ...  \n",
       "3  Hai bang Raditya, mau bikin film hasil tulisan...  \n",
       "4  Halo,ingin cari sepatu keren dan kece. Yuk bur...  "
      ]
     },
     "execution_count": 7,
     "metadata": {},
     "output_type": "execute_result"
    }
   ],
   "source": [
    "data = pd.read_excel('data/data_uji/10000_15000 - 1000.xlsx', sheet_name='Sheet1')\n",
    "# data = data[:100]\n",
    "komentar_kotor = data['komentar_kotor']\n",
    "data.head()"
   ]
  },
  {
   "cell_type": "code",
   "execution_count": 8,
   "metadata": {},
   "outputs": [
    {
     "name": "stdout",
     "output_type": "stream",
     "text": [
      "....................................................................................................100 ...................................................................................................200 ...................................................................................................300 ...................................................................................................400 ...................................................................................................500 ...................................................................................................600 ...................................................................................................700 ...................................................................................................800 ...................................................................................................900 ...................................................................................................|\n",
      "<<Masuk Proses Prediksi>>\n",
      "....................................................................................................100 ...................................................................................................200 ...................................................................................................300 ...................................................................................................400 ...................................................................................................500 ...................................................................................................600 ...................................................................................................700 ...................................................................................................800 ...................................................................................................900 ...................................................................................................|\n",
      "<<Masuk Proses Prediksi>>\n"
     ]
    }
   ],
   "source": [
    "prediksi_cnb = cnb.prediksi_list(komentar_kotor)\n",
    "prediksi_gnb = gnb.prediksi_list(komentar_kotor)"
   ]
  },
  {
   "cell_type": "code",
   "execution_count": 9,
   "metadata": {},
   "outputs": [],
   "source": [
    "prediksi_cnb['komentar_kotor'] = komentar_kotor.tolist()\n",
    "prediksi_cnb['y_true'] = data['prediksi'].tolist()\n",
    "prediksi_cnb.head()\n",
    "prediksi_cnb.to_excel(\"hasil_prediksi\\hasil_prediksi_cnb_4.xlsx\")"
   ]
  },
  {
   "cell_type": "code",
   "execution_count": 10,
   "metadata": {},
   "outputs": [
    {
     "data": {
      "text/html": [
       "<div>\n",
       "<style scoped>\n",
       "    .dataframe tbody tr th:only-of-type {\n",
       "        vertical-align: middle;\n",
       "    }\n",
       "\n",
       "    .dataframe tbody tr th {\n",
       "        vertical-align: top;\n",
       "    }\n",
       "\n",
       "    .dataframe thead th {\n",
       "        text-align: right;\n",
       "    }\n",
       "</style>\n",
       "<table border=\"1\" class=\"dataframe\">\n",
       "  <thead>\n",
       "    <tr style=\"text-align: right;\">\n",
       "      <th></th>\n",
       "      <th>prediksi</th>\n",
       "      <th>komentar</th>\n",
       "      <th>komentar_kotor</th>\n",
       "      <th>y_true</th>\n",
       "    </tr>\n",
       "  </thead>\n",
       "  <tbody>\n",
       "    <tr>\n",
       "      <th>0</th>\n",
       "      <td>non spam</td>\n",
       "      <td>moga kalian selalu nan arti allah swt nan panj...</td>\n",
       "      <td>Semoga kalian sellu d berkati allah swt ,d pan...</td>\n",
       "      <td>non spam</td>\n",
       "    </tr>\n",
       "    <tr>\n",
       "      <th>1</th>\n",
       "      <td>non spam</td>\n",
       "      <td>gio nan iya nan aku tau edit cuman lucu rasa k...</td>\n",
       "      <td>@gio.dre iya lek aku tau itu editan cuman lucu...</td>\n",
       "      <td>non spam</td>\n",
       "    </tr>\n",
       "    <tr>\n",
       "      <th>2</th>\n",
       "      <td>spam</td>\n",
       "      <td>baru produk no dunia ka minggu kulit muka tubu...</td>\n",
       "      <td>Ini вarυ prodυĸ no 1 di dυnia ĸa, нanya dalaм ...</td>\n",
       "      <td>spam</td>\n",
       "    </tr>\n",
       "    <tr>\n",
       "      <th>3</th>\n",
       "      <td>spam</td>\n",
       "      <td>hai bang mau bikin film hasil tulis judul nene...</td>\n",
       "      <td>Hai bang Raditya, mau bikin film hasil tulisan...</td>\n",
       "      <td>non spam</td>\n",
       "    </tr>\n",
       "    <tr>\n",
       "      <th>4</th>\n",
       "      <td>spam</td>\n",
       "      <td>halo cari sepatu keren kece yuk buru penasaran...</td>\n",
       "      <td>Halo,ingin cari sepatu keren dan kece. Yuk bur...</td>\n",
       "      <td>spam</td>\n",
       "    </tr>\n",
       "  </tbody>\n",
       "</table>\n",
       "</div>"
      ],
      "text/plain": [
       "   prediksi                                           komentar  \\\n",
       "0  non spam  moga kalian selalu nan arti allah swt nan panj...   \n",
       "1  non spam  gio nan iya nan aku tau edit cuman lucu rasa k...   \n",
       "2      spam  baru produk no dunia ka minggu kulit muka tubu...   \n",
       "3      spam  hai bang mau bikin film hasil tulis judul nene...   \n",
       "4      spam  halo cari sepatu keren kece yuk buru penasaran...   \n",
       "\n",
       "                                      komentar_kotor    y_true  \n",
       "0  Semoga kalian sellu d berkati allah swt ,d pan...  non spam  \n",
       "1  @gio.dre iya lek aku tau itu editan cuman lucu...  non spam  \n",
       "2  Ini вarυ prodυĸ no 1 di dυnia ĸa, нanya dalaм ...      spam  \n",
       "3  Hai bang Raditya, mau bikin film hasil tulisan...  non spam  \n",
       "4  Halo,ingin cari sepatu keren dan kece. Yuk bur...      spam  "
      ]
     },
     "execution_count": 10,
     "metadata": {},
     "output_type": "execute_result"
    }
   ],
   "source": [
    "prediksi_gnb['komentar_kotor'] = komentar_kotor.tolist()\n",
    "prediksi_gnb['y_true'] = data['prediksi'].tolist()\n",
    "prediksi_gnb.to_excel(\"hasil_prediksi\\hasil_prediksi_gnb_4.xlsx\")\n",
    "prediksi_gnb.head()"
   ]
  },
  {
   "cell_type": "code",
   "execution_count": 11,
   "metadata": {},
   "outputs": [
    {
     "name": "stdout",
     "output_type": "stream",
     "text": [
      "CNB\n",
      "              precision    recall  f1-score   support\n",
      "\n",
      "        spam       0.95      0.99      0.97       712\n",
      "    non spam       0.98      0.88      0.92       288\n",
      "\n",
      "    accuracy                           0.96      1000\n",
      "   macro avg       0.96      0.93      0.95      1000\n",
      "weighted avg       0.96      0.96      0.96      1000\n",
      "\n",
      "====================================================================================================\n",
      "GNB\n",
      "              precision    recall  f1-score   support\n",
      "\n",
      "        spam       1.00      0.73      0.84       712\n",
      "    non spam       0.60      0.99      0.75       288\n",
      "\n",
      "    accuracy                           0.81      1000\n",
      "   macro avg       0.80      0.86      0.80      1000\n",
      "weighted avg       0.88      0.81      0.82      1000\n",
      "\n"
     ]
    },
    {
     "data": {
      "text/html": [
       "<div>\n",
       "<style scoped>\n",
       "    .dataframe tbody tr th:only-of-type {\n",
       "        vertical-align: middle;\n",
       "    }\n",
       "\n",
       "    .dataframe tbody tr th {\n",
       "        vertical-align: top;\n",
       "    }\n",
       "\n",
       "    .dataframe thead th {\n",
       "        text-align: right;\n",
       "    }\n",
       "</style>\n",
       "<table border=\"1\" class=\"dataframe\">\n",
       "  <thead>\n",
       "    <tr style=\"text-align: right;\">\n",
       "      <th></th>\n",
       "      <th>metode</th>\n",
       "      <th>precision</th>\n",
       "      <th>recall</th>\n",
       "      <th>f1-score</th>\n",
       "      <th>accuracy</th>\n",
       "    </tr>\n",
       "  </thead>\n",
       "  <tbody>\n",
       "    <tr>\n",
       "      <th>0</th>\n",
       "      <td>Complement naive bayes</td>\n",
       "      <td>0.96</td>\n",
       "      <td>0.93</td>\n",
       "      <td>0.95</td>\n",
       "      <td>0.96</td>\n",
       "    </tr>\n",
       "    <tr>\n",
       "      <th>1</th>\n",
       "      <td>Gaussian naive bayes</td>\n",
       "      <td>0.80</td>\n",
       "      <td>0.86</td>\n",
       "      <td>0.80</td>\n",
       "      <td>0.81</td>\n",
       "    </tr>\n",
       "  </tbody>\n",
       "</table>\n",
       "</div>"
      ],
      "text/plain": [
       "                   metode  precision  recall  f1-score  accuracy\n",
       "0  Complement naive bayes       0.96    0.93      0.95      0.96\n",
       "1    Gaussian naive bayes       0.80    0.86      0.80      0.81"
      ]
     },
     "execution_count": 11,
     "metadata": {},
     "output_type": "execute_result"
    }
   ],
   "source": [
    "from sklearn.metrics import classification_report\n",
    "from sklearn.metrics import accuracy_score\n",
    "from sklearn.metrics import precision_recall_fscore_support\n",
    "\n",
    "y_true = data['prediksi'].tolist()\n",
    "y_pred_cnb = prediksi_cnb['prediksi']\n",
    "y_pred_gnb = prediksi_gnb['prediksi']\n",
    "target_names = ['spam', 'non spam']\n",
    "\n",
    "# print(classification_report(y_true, y_pred_cnb, target_names=target_names))\n",
    "# print(accuracy_score(y_true, y_pred_cnb))\n",
    "cm_cnb = precision_recall_fscore_support(y_true, y_pred_cnb, average='macro')\n",
    "# print(classification_report(y_true, y_pred_gnb, target_names=target_names))\n",
    "# print(accuracy_score(y_true, y_pred_gnb))\n",
    "cm_gnb = precision_recall_fscore_support(y_true, y_pred_gnb, average='macro')\n",
    "\n",
    "metode = list()\n",
    "precision = list()\n",
    "recall = list()\n",
    "f1_score = list()\n",
    "accuracy = list()\n",
    "\n",
    "metode.append(\"Complement naive bayes\")\n",
    "metode.append(\"Gaussian naive bayes\")\n",
    "\n",
    "precision.append(round(cm_cnb[0],2))\n",
    "precision.append(round(cm_gnb[0],2))\n",
    "\n",
    "recall.append(round(cm_cnb[1],2))\n",
    "recall.append(round(cm_gnb[1],2))\n",
    "\n",
    "f1_score.append(round(cm_cnb[2],2))\n",
    "f1_score.append(round(cm_gnb[2],2))\n",
    "\n",
    "accuracy.append(round(accuracy_score(y_true, y_pred_cnb),2))\n",
    "accuracy.append(round(accuracy_score(y_true, y_pred_gnb),2))\n",
    "\n",
    "dict = {\n",
    "    \"metode\":metode,\n",
    "    \"precision\":precision,\n",
    "    \"recall\":recall,\n",
    "    \"f1-score\":f1_score,\n",
    "    \"accuracy\":accuracy\n",
    "}\n",
    "df = pd.DataFrame.from_dict(dict)\n",
    "df.to_excel(\"data/hasil_f-score_wsl.xlsx\")\n",
    "print(\"CNB\")\n",
    "print(classification_report(y_true, y_pred_cnb, target_names=target_names))\n",
    "print(\"=\"*100)\n",
    "print(\"GNB\")\n",
    "print(classification_report(y_true, y_pred_gnb, target_names=target_names))\n",
    "df"
   ]
  },
  {
   "cell_type": "code",
   "execution_count": null,
   "metadata": {},
   "outputs": [],
   "source": []
  }
 ],
 "metadata": {
  "kernelspec": {
   "display_name": "Python 3",
   "language": "python",
   "name": "python3"
  },
  "language_info": {
   "codemirror_mode": {
    "name": "ipython",
    "version": 3
   },
   "file_extension": ".py",
   "mimetype": "text/x-python",
   "name": "python",
   "nbconvert_exporter": "python",
   "pygments_lexer": "ipython3",
   "version": "3.7.3"
  }
 },
 "nbformat": 4,
 "nbformat_minor": 2
}
