{
 "cells": [
  {
   "cell_type": "code",
   "execution_count": 1,
   "metadata": {},
   "outputs": [
    {
     "name": "stdout",
     "output_type": "stream",
     "text": [
      " Volume in drive D has no label.\n",
      " Volume Serial Number is 7899-5223\n",
      "\n",
      " Directory of D:\\_OneDrive\\OneDrive - UGM 365\\Penelitian\\Koding\\data\\data_uji\n",
      "\n",
      "27/11/2019  04:33    <DIR>          .\n",
      "27/11/2019  04:33    <DIR>          ..\n",
      "27/11/2019  04:33    <DIR>          .ipynb_checkpoints\n",
      "18/06/2019  23:07           342.218 10000_15000 - 1000.xlsx\n",
      "18/06/2019  02:29           344.258 10000_15000 - Copy.xlsx\n",
      "18/06/2019  01:43           388.784 10000_15000.xlsx\n",
      "27/11/2019  04:30           225.848 data_uji.xlsx\n",
      "26/11/2019  23:20           148.354 Data_uji_clean.xlsx\n",
      "27/11/2019  04:31           321.177 uji_1004.xlsx\n",
      "27/11/2019  04:33                72 Untitled.ipynb\n",
      "               7 File(s)      1.770.711 bytes\n",
      "               3 Dir(s)  360.655.638.528 bytes free\n"
     ]
    }
   ],
   "source": [
    "ls"
   ]
  },
  {
   "cell_type": "code",
   "execution_count": 7,
   "metadata": {},
   "outputs": [],
   "source": [
    "import sys\n",
    "sys.path.append('D:\\github\\python') #Alamat PC\n",
    "# import re, string, unicodedata\n",
    "# from unidecode import unidecode\n",
    "import pandas as pd\n",
    "import xlsxwriter\n",
    "import re\n",
    "import time\n",
    "import numpy as np\n",
    "# from Modul.modulku import praproses as pps\n",
    "from Cek_typo import cek_typo as ct\n",
    "from Normalisasi_KBBI import normalisasi_kbbi as nkbi\n",
    "from modulku import praproses as pps\n",
    "from modulku import StemNstopW as stm"
   ]
  },
  {
   "cell_type": "code",
   "execution_count": 1,
   "metadata": {},
   "outputs": [],
   "source": [
    "import re\n",
    "huruf = r\"abcdefghijklmnopqrstuvwxyz1234567890!@#$%^&*();':\\\",./<>?' \"\n",
    "def remove_simbol(kalimat):\n",
    "    kalimat = list(kalimat.lower())\n",
    "    for ix, i in enumerate(kalimat):\n",
    "        if i not in huruf:\n",
    "            kalimat[ix]=\"\"\n",
    "    return re.sub(' +', ' ',\"\".join(kalimat)).strip()"
   ]
  },
  {
   "cell_type": "code",
   "execution_count": 2,
   "metadata": {},
   "outputs": [],
   "source": [
    "import pandas as pd"
   ]
  },
  {
   "cell_type": "code",
   "execution_count": 3,
   "metadata": {},
   "outputs": [
    {
     "data": {
      "text/html": [
       "<div>\n",
       "<style scoped>\n",
       "    .dataframe tbody tr th:only-of-type {\n",
       "        vertical-align: middle;\n",
       "    }\n",
       "\n",
       "    .dataframe tbody tr th {\n",
       "        vertical-align: top;\n",
       "    }\n",
       "\n",
       "    .dataframe thead th {\n",
       "        text-align: right;\n",
       "    }\n",
       "</style>\n",
       "<table border=\"1\" class=\"dataframe\">\n",
       "  <thead>\n",
       "    <tr style=\"text-align: right;\">\n",
       "      <th></th>\n",
       "      <th>Unnamed: 0</th>\n",
       "      <th>prediksi</th>\n",
       "      <th>komentar</th>\n",
       "      <th>komentar_kotor</th>\n",
       "    </tr>\n",
       "  </thead>\n",
       "  <tbody>\n",
       "    <tr>\n",
       "      <th>0</th>\n",
       "      <td>0</td>\n",
       "      <td>non spam</td>\n",
       "      <td>akiraanoya nan tertawa mbak pas mbak bilang ka...</td>\n",
       "      <td>@akiraanoya hahaha ngakak saya mbak pas mbak b...</td>\n",
       "    </tr>\n",
       "    <tr>\n",
       "      <th>1</th>\n",
       "      <td>1</td>\n",
       "      <td>non spam</td>\n",
       "      <td>riris adam nan moga sih awas jangan sesal kemu...</td>\n",
       "      <td>@riris_adam hahaha semoga sih,, tp awas jgn ny...</td>\n",
       "    </tr>\n",
       "    <tr>\n",
       "      <th>2</th>\n",
       "      <td>2</td>\n",
       "      <td>non spam</td>\n",
       "      <td>wah wah wah aja presiden jokowi tegas tetap at...</td>\n",
       "      <td>Wah wah wah seandainya aja presiden jokowi den...</td>\n",
       "    </tr>\n",
       "    <tr>\n",
       "      <th>3</th>\n",
       "      <td>3</td>\n",
       "      <td>spam</td>\n",
       "      <td>kak gigi cantik pakai banget semangat sore toy...</td>\n",
       "      <td>Kak gigi cantiknya pake bingitss. 😍😍Semangat s...</td>\n",
       "    </tr>\n",
       "    <tr>\n",
       "      <th>4</th>\n",
       "      <td>4</td>\n",
       "      <td>non spam</td>\n",
       "      <td>theanakesuma jelas bocor mulut bibir perot si ...</td>\n",
       "      <td>@theanakesuma  yg jelas yg bocor itu ya mulut ...</td>\n",
       "    </tr>\n",
       "  </tbody>\n",
       "</table>\n",
       "</div>"
      ],
      "text/plain": [
       "   Unnamed: 0  prediksi                                           komentar  \\\n",
       "0           0  non spam  akiraanoya nan tertawa mbak pas mbak bilang ka...   \n",
       "1           1  non spam  riris adam nan moga sih awas jangan sesal kemu...   \n",
       "2           2  non spam  wah wah wah aja presiden jokowi tegas tetap at...   \n",
       "3           3      spam  kak gigi cantik pakai banget semangat sore toy...   \n",
       "4           4  non spam  theanakesuma jelas bocor mulut bibir perot si ...   \n",
       "\n",
       "                                      komentar_kotor  \n",
       "0  @akiraanoya hahaha ngakak saya mbak pas mbak b...  \n",
       "1  @riris_adam hahaha semoga sih,, tp awas jgn ny...  \n",
       "2  Wah wah wah seandainya aja presiden jokowi den...  \n",
       "3  Kak gigi cantiknya pake bingitss. 😍😍Semangat s...  \n",
       "4  @theanakesuma  yg jelas yg bocor itu ya mulut ...  "
      ]
     },
     "execution_count": 3,
     "metadata": {},
     "output_type": "execute_result"
    }
   ],
   "source": [
    "data2 = pd.read_excel(\"data_uji.xlsx\")\n",
    "kom = data2.komentar.tolist()\n",
    "data2.head()"
   ]
  },
  {
   "cell_type": "code",
   "execution_count": 8,
   "metadata": {},
   "outputs": [
    {
     "name": "stdout",
     "output_type": "stream",
     "text": [
      "......................................................................................................"
     ]
    }
   ],
   "source": [
    "k_21= list()\n",
    "ixx = 0\n",
    "for kalimat in data2.komentar_kotor.tolist():\n",
    "    a = remove_simbol(kalimat)\n",
    "    a = pps.preprocessing(a)\n",
    "    a = pps.removePunc(a)\n",
    "    a = ct.cek_typo(a)\n",
    "    a = nkbi.norm_kbbi(a)\n",
    "    a = stm.stemmer_kata(a)\n",
    "    a = stm.stop_word(a)\n",
    "    a = a.replace(\" nya \", \"\")\n",
    "    k_21.append(a)\n",
    "    if ixx%10==0:\n",
    "        #oo+=1\n",
    "        print(\".\", end =\"\")\n",
    "    ixx+=1"
   ]
  },
  {
   "cell_type": "code",
   "execution_count": null,
   "metadata": {},
   "outputs": [],
   "source": []
  },
  {
   "cell_type": "code",
   "execution_count": 9,
   "metadata": {},
   "outputs": [
    {
     "data": {
      "text/html": [
       "<div>\n",
       "<style scoped>\n",
       "    .dataframe tbody tr th:only-of-type {\n",
       "        vertical-align: middle;\n",
       "    }\n",
       "\n",
       "    .dataframe tbody tr th {\n",
       "        vertical-align: top;\n",
       "    }\n",
       "\n",
       "    .dataframe thead th {\n",
       "        text-align: right;\n",
       "    }\n",
       "</style>\n",
       "<table border=\"1\" class=\"dataframe\">\n",
       "  <thead>\n",
       "    <tr style=\"text-align: right;\">\n",
       "      <th></th>\n",
       "      <th>Column1</th>\n",
       "      <th>prediksi</th>\n",
       "      <th>label</th>\n",
       "      <th>komentar</th>\n",
       "    </tr>\n",
       "  </thead>\n",
       "  <tbody>\n",
       "    <tr>\n",
       "      <th>0</th>\n",
       "      <td>0</td>\n",
       "      <td>non spam</td>\n",
       "      <td>non spam</td>\n",
       "      <td>@akiraanoya hahaha ngakak saya mbak pas mbak b...</td>\n",
       "    </tr>\n",
       "    <tr>\n",
       "      <th>1</th>\n",
       "      <td>1</td>\n",
       "      <td>non spam</td>\n",
       "      <td>non spam</td>\n",
       "      <td>@riris_adam hahaha semoga sih,, tp awas jgn ny...</td>\n",
       "    </tr>\n",
       "    <tr>\n",
       "      <th>2</th>\n",
       "      <td>2</td>\n",
       "      <td>non spam</td>\n",
       "      <td>non spam</td>\n",
       "      <td>Wah wah wah seandainya aja presiden jokowi den...</td>\n",
       "    </tr>\n",
       "  </tbody>\n",
       "</table>\n",
       "</div>"
      ],
      "text/plain": [
       "   Column1  prediksi     label  \\\n",
       "0        0  non spam  non spam   \n",
       "1        1  non spam  non spam   \n",
       "2        2  non spam  non spam   \n",
       "\n",
       "                                            komentar  \n",
       "0  @akiraanoya hahaha ngakak saya mbak pas mbak b...  \n",
       "1  @riris_adam hahaha semoga sih,, tp awas jgn ny...  \n",
       "2  Wah wah wah seandainya aja presiden jokowi den...  "
      ]
     },
     "execution_count": 9,
     "metadata": {},
     "output_type": "execute_result"
    }
   ],
   "source": [
    "data1 = pd.read_excel(\"uji_1004.xlsx\")\n",
    "index = data1.Column1.tolist()\n",
    "data1.head(3)"
   ]
  },
  {
   "cell_type": "code",
   "execution_count": 10,
   "metadata": {},
   "outputs": [],
   "source": [
    "import numpy as np\n",
    "len(np.array(kom)[index])\n",
    "data1[\"komentar2\"]=np.array(kom)[index]\n",
    "data1[\"komentar21\"]=np.array(k_21)[index]"
   ]
  },
  {
   "cell_type": "code",
   "execution_count": 11,
   "metadata": {},
   "outputs": [
    {
     "data": {
      "text/plain": [
       "1016"
      ]
     },
     "execution_count": 11,
     "metadata": {},
     "output_type": "execute_result"
    }
   ],
   "source": [
    "len(kom)"
   ]
  },
  {
   "cell_type": "code",
   "execution_count": 12,
   "metadata": {},
   "outputs": [],
   "source": [
    "data1.to_excel(\"data_ujiX2.xlsx\")"
   ]
  },
  {
   "cell_type": "code",
   "execution_count": null,
   "metadata": {},
   "outputs": [],
   "source": []
  }
 ],
 "metadata": {
  "kernelspec": {
   "display_name": "Python 3",
   "language": "python",
   "name": "python3"
  },
  "language_info": {
   "codemirror_mode": {
    "name": "ipython",
    "version": 3
   },
   "file_extension": ".py",
   "mimetype": "text/x-python",
   "name": "python",
   "nbconvert_exporter": "python",
   "pygments_lexer": "ipython3",
   "version": "3.7.3"
  }
 },
 "nbformat": 4,
 "nbformat_minor": 2
}
