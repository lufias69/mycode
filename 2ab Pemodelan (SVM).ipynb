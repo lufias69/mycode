{
 "cells": [
  {
   "cell_type": "code",
   "execution_count": 1,
   "metadata": {},
   "outputs": [],
   "source": [
    "import pandas as pd\n",
    "import numpy as np"
   ]
  },
  {
   "cell_type": "code",
   "execution_count": 2,
   "metadata": {},
   "outputs": [
    {
     "data": {
      "text/html": [
       "<div>\n",
       "<style scoped>\n",
       "    .dataframe tbody tr th:only-of-type {\n",
       "        vertical-align: middle;\n",
       "    }\n",
       "\n",
       "    .dataframe tbody tr th {\n",
       "        vertical-align: top;\n",
       "    }\n",
       "\n",
       "    .dataframe thead th {\n",
       "        text-align: right;\n",
       "    }\n",
       "</style>\n",
       "<table border=\"1\" class=\"dataframe\">\n",
       "  <thead>\n",
       "    <tr style=\"text-align: right;\">\n",
       "      <th></th>\n",
       "      <th>Column1</th>\n",
       "      <th>label</th>\n",
       "      <th>komentar</th>\n",
       "    </tr>\n",
       "  </thead>\n",
       "  <tbody>\n",
       "    <tr>\n",
       "      <th>0</th>\n",
       "      <td>0</td>\n",
       "      <td>spam</td>\n",
       "      <td>zuma99 com agen bandar domino bandar poket onl...</td>\n",
       "    </tr>\n",
       "    <tr>\n",
       "      <th>1</th>\n",
       "      <td>1</td>\n",
       "      <td>non spam</td>\n",
       "      <td>zulrobertsihombing anak bapak kayak sun</td>\n",
       "    </tr>\n",
       "    <tr>\n",
       "      <th>2</th>\n",
       "      <td>2</td>\n",
       "      <td>non spam</td>\n",
       "      <td>zulfikar165 makasih atas kritik masuk nya aku ...</td>\n",
       "    </tr>\n",
       "    <tr>\n",
       "      <th>3</th>\n",
       "      <td>3</td>\n",
       "      <td>non spam</td>\n",
       "      <td>zulaikahzakaria di depok dua gentong si genton...</td>\n",
       "    </tr>\n",
       "    <tr>\n",
       "      <th>4</th>\n",
       "      <td>4</td>\n",
       "      <td>non spam</td>\n",
       "      <td>zul batara tuhan mau mas beri rumah sama tanah...</td>\n",
       "    </tr>\n",
       "  </tbody>\n",
       "</table>\n",
       "</div>"
      ],
      "text/plain": [
       "   Column1     label                                           komentar\n",
       "0        0      spam  zuma99 com agen bandar domino bandar poket onl...\n",
       "1        1  non spam            zulrobertsihombing anak bapak kayak sun\n",
       "2        2  non spam  zulfikar165 makasih atas kritik masuk nya aku ...\n",
       "3        3  non spam  zulaikahzakaria di depok dua gentong si genton...\n",
       "4        4  non spam  zul batara tuhan mau mas beri rumah sama tanah..."
      ]
     },
     "execution_count": 2,
     "metadata": {},
     "output_type": "execute_result"
    }
   ],
   "source": [
    "data_ = pd.read_excel(\"hasil_prediksi\\svm\\seleksi/seleksi_all_fuzzy.xlsx\")\n",
    "latih_cm = data_['komentar'].tolist()\n",
    "label_cm = data_['label'].tolist()\n",
    "data_.head()"
   ]
  },
  {
   "cell_type": "code",
   "execution_count": 4,
   "metadata": {},
   "outputs": [
    {
     "data": {
      "text/plain": [
       "<matplotlib.axes._subplots.AxesSubplot at 0x2bac8e2f6d8>"
      ]
     },
     "execution_count": 4,
     "metadata": {},
     "output_type": "execute_result"
    },
    {
     "data": {
      "image/png": "[encoded data removed]",
      "text/plain": [
       "<Figure size 432x288 with 1 Axes>"
      ]
     },
     "metadata": {
      "needs_background": "light"
     },
     "output_type": "display_data"
    }
   ],
   "source": [
    "pd.value_counts(data_['label']).plot.bar(title='')"
   ]
  },
  {
   "cell_type": "code",
   "execution_count": 6,
   "metadata": {},
   "outputs": [
    {
     "name": "stdout",
     "output_type": "stream",
     "text": [
      "(14957, 20934)\n"
     ]
    },
    {
     "data": {
      "text/plain": [
       "['model/svm/tfdf_model_2.joblib']"
      ]
     },
     "execution_count": 6,
     "metadata": {},
     "output_type": "execute_result"
    }
   ],
   "source": [
    "from sklearn.feature_extraction.text import TfidfVectorizer\n",
    "from joblib import dump\n",
    "#membuat TF-IDF\n",
    "tfidf = TfidfVectorizer()\n",
    "tfidf_matrix_save = tfidf.fit(latih_cm)\n",
    "tfidf_matrix_ = tfidf.fit_transform(latih_cm) #For CM\n",
    "print(tfidf_matrix_.shape)\n",
    "X_ = tfidf_matrix_#.toarray()\n",
    "Y_ = np.array(label_cm)\n",
    "#y = np.array(kode)\n",
    "\n",
    "dump(tfidf_matrix_save, 'model/svm/tfdf_model_2.joblib')"
   ]
  },
  {
   "cell_type": "code",
   "execution_count": 7,
   "metadata": {},
   "outputs": [],
   "source": [
    "#Parameter SVM\n",
    "C = 1.8\n",
    "gamma = 0.7"
   ]
  },
  {
   "cell_type": "code",
   "execution_count": 8,
   "metadata": {},
   "outputs": [
    {
     "data": {
      "text/plain": [
       "StratifiedKFold(n_splits=10, random_state=2, shuffle=True)"
      ]
     },
     "execution_count": 8,
     "metadata": {},
     "output_type": "execute_result"
    }
   ],
   "source": [
    "K = 10 #pembagian data uji dan data latih\n",
    "from sklearn.model_selection import KFold\n",
    "from sklearn.model_selection import StratifiedKFold\n",
    "from sklearn.metrics import accuracy_score #, precision_score, recall_score\n",
    "kf= KFold(n_splits=K) \n",
    "skf = StratifiedKFold(n_splits=K,random_state=2, shuffle=True)\n",
    "skf"
   ]
  },
  {
   "cell_type": "code",
   "execution_count": 9,
   "metadata": {},
   "outputs": [
    {
     "name": "stdout",
     "output_type": "stream",
     "text": [
      "1p -2p -3p -4p -5p -6p -7p -8p -9p -10p -\n",
      "----------------------------------------\n",
      "Hasil K-Fold SVM\n",
      "   akurasi   : 0.96\n"
     ]
    }
   ],
   "source": [
    "from sklearn import svm\n",
    "cSVM = svm.SVC(kernel='rbf', gamma=gamma, C=C)\n",
    "# comNB = ComplementNB(alpha = alpha)\n",
    "# clf = GaussianNB()\n",
    "\n",
    "akurasi_svm = []\n",
    "# akurasi_cnb = []\n",
    "# akurasi_gnb = []\n",
    "ii = 0\n",
    "for train_index, test_index in skf.split(X_, Y_):\n",
    "    print(ii+1, end=\"\")\n",
    "    ii+=1\n",
    "    #membagi data latih dan data uji\n",
    "    X_train, X_test = X_[train_index], X_[test_index] #pembagian data latih\n",
    "    y_train, y_test = Y_[train_index], Y_[test_index]\n",
    "    \n",
    "    #Melatih Model \n",
    "    mSVM = cSVM.fit(X_train, y_train) #SVM\n",
    "#     mCNB = comNB.fit(X_train, y_train)\n",
    "#     mGNB = clf.fit(X_train, y_train)\n",
    "    print(\"p \", end=\"-\")\n",
    "    #proses prediksi\n",
    "    P_SVM = mSVM.predict(X_test)\n",
    "#     P_CNB = mCNB.predict(X_test)\n",
    "#     P_GNB = mGNB.predict(X_test)\n",
    "    \n",
    "    #menyimpan hasil akurasi tiap iterasi\n",
    "    akurasi_svm.append(accuracy_score(y_test, P_SVM))\n",
    "#     akurasi_cnb.append(accuracy_score(y_test, P_CNB))\n",
    "#     akurasi_gnb.append(accuracy_score(y_test, P_GNB))\n",
    "    \n",
    "rerata_akurasi_svm = sum(akurasi_svm)/len(akurasi_svm)\n",
    "# rerata_akurasi_cnb = sum(akurasi_cnb)/len(akurasi_cnb)\n",
    "# rerata_akurasi_gnb = sum(akurasi_gnb)/len(akurasi_gnb)\n",
    "\n",
    "\n",
    "# print(\"----------------------------------------\")\n",
    "# print(\"Hasil K-Fold GNB\")\n",
    "# print(\"   akurasi   :\",round(rerata_akurasi_gnb,2))\n",
    "# print(\"----------------------------------------\")\n",
    "# print(\"Hasil K-Fold CNB\")\n",
    "# print(\"   akurasi   :\",round(rerata_akurasi_cnb,2))\n",
    "print(\"\")\n",
    "print(\"----------------------------------------\")\n",
    "print(\"Hasil K-Fold SVM\")\n",
    "print(\"   akurasi   :\",round(rerata_akurasi_svm,2))"
   ]
  },
  {
   "cell_type": "code",
   "execution_count": 10,
   "metadata": {},
   "outputs": [
    {
     "data": {
      "text/plain": [
       "['model/svm/SVM_MODEL_2.joblib']"
      ]
     },
     "execution_count": 10,
     "metadata": {},
     "output_type": "execute_result"
    }
   ],
   "source": [
    "cSVM = svm.SVC(kernel='rbf', gamma=gamma, C=C)\n",
    "# comNB = ComplementNB(alpha = alpha)\n",
    "#Melatih Model untuk data secara keseluruhan (X dan Y)\n",
    "cSVM = cSVM.fit(X_, Y_) #SVN\n",
    "# comNB = comNB.fit(X_, Y_) #CNB\n",
    "\n",
    "#save models\n",
    "dump(cSVM, 'model/svm/SVM_MODEL_2.joblib')"
   ]
  }
 ],
 "metadata": {
  "kernelspec": {
   "display_name": "Python 3",
   "language": "python",
   "name": "python3"
  },
  "language_info": {
   "codemirror_mode": {
    "name": "ipython",
    "version": 3
   },
   "file_extension": ".py",
   "mimetype": "text/x-python",
   "name": "python",
   "nbconvert_exporter": "python",
   "pygments_lexer": "ipython3",
   "version": "3.7.3"
  }
 },
 "nbformat": 4,
 "nbformat_minor": 2
}
