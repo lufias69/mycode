{
 "cells": [
  {
   "cell_type": "code",
   "execution_count": 6,
   "metadata": {},
   "outputs": [],
   "source": [
    "al = \"abcdefghijklmnopqrstuvwxyz01234567890,!@#$%^&*()<>?/\""
   ]
  },
  {
   "cell_type": "code",
   "execution_count": 18,
   "metadata": {},
   "outputs": [],
   "source": [
    "s = \"Pŕόόό∂ùķķķ \\\"ħέέέŕŕввάĻĻ ţέέŕŕввάάίķķ ίήήţţέŕŕήάάşίίόήήάĻĻ ρέέммùùţίίħħ şùùù∂άάħħ şέέŕŕţţίίғίίķķάşşίί ţάάήήρράά έғғέķķ şάάммρρίήήģģģ ħάάήήччάάά ά∂∂άά ∂ίίşşşίήήίί\""
   ]
  },
  {
   "cell_type": "code",
   "execution_count": 19,
   "metadata": {},
   "outputs": [
    {
     "data": {
      "text/plain": [
       "'Pŕόόό∂ùķķķ \"ħέέέŕŕввάĻĻ ţέέŕŕввάάίķķ ίήήţţέŕŕήάάşίίόήήάĻĻ ρέέммùùţίίħħ şùùù∂άάħħ şέέŕŕţţίίғίίķķάşşίί ţάάήήρράά έғғέķķ şάάммρρίήήģģģ ħάάήήччάάά ά∂∂άά ∂ίίşşşίήήίί'"
      ]
     },
     "execution_count": 19,
     "metadata": {},
     "output_type": "execute_result"
    }
   ],
   "source": [
    "s"
   ]
  },
  {
   "cell_type": "code",
   "execution_count": 20,
   "metadata": {},
   "outputs": [],
   "source": [
    "for i in s:\n",
    "    if i in al:\n",
    "        print(type(i),i)"
   ]
  },
  {
   "cell_type": "code",
   "execution_count": 21,
   "metadata": {},
   "outputs": [
    {
     "data": {
      "text/plain": [
       "False"
      ]
     },
     "execution_count": 21,
     "metadata": {},
     "output_type": "execute_result"
    }
   ],
   "source": [
    "\"ή\" == \"n\""
   ]
  },
  {
   "cell_type": "code",
   "execution_count": 22,
   "metadata": {},
   "outputs": [],
   "source": [
    "def remove_simbol(word):\n",
    "    al = \"\\\"abcdefghijklmnopqrstuvwxyz0123456789,!@#$%^&*()<>?/+=-_{}|\\'\"\n",
    "    word = list(word)\n",
    "    for ix, i in enumerate(word):\n",
    "        i = i.lower()\n",
    "        if i not in al:\n",
    "            word[ix]=\"\"\n",
    "    return \"\".join(word).strip()\n",
    "            "
   ]
  },
  {
   "cell_type": "code",
   "execution_count": 23,
   "metadata": {},
   "outputs": [
    {
     "data": {
      "text/plain": [
       "'P\"'"
      ]
     },
     "execution_count": 23,
     "metadata": {},
     "output_type": "execute_result"
    }
   ],
   "source": [
    "remove_simbol(s)"
   ]
  },
  {
   "cell_type": "code",
   "execution_count": null,
   "metadata": {},
   "outputs": [],
   "source": []
  }
 ],
 "metadata": {
  "kernelspec": {
   "display_name": "Python 3",
   "language": "python",
   "name": "python3"
  },
  "language_info": {
   "codemirror_mode": {
    "name": "ipython",
    "version": 3
   },
   "file_extension": ".py",
   "mimetype": "text/x-python",
   "name": "python",
   "nbconvert_exporter": "python",
   "pygments_lexer": "ipython3",
   "version": "3.7.3"
  }
 },
 "nbformat": 4,
 "nbformat_minor": 2
}
